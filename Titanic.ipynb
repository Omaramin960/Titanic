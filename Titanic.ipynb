{
 "cells": [
  {
   "cell_type": "markdown",
   "metadata": {},
   "source": [
    "# Titanic: Machine Learning from Disaster"
   ]
  },
  {
   "cell_type": "markdown",
   "metadata": {},
   "source": [
    "### Introduction"
   ]
  },
  {
   "cell_type": "markdown",
   "metadata": {},
   "source": [
    "This is my solution from the famous titanic problem.In this challenge, They ask to build a predictive model that answers the question: “what sorts of people were more likely to survive?” using passenger data (ie name, age, gender, socio-economic class, etc)."
   ]
  },
  {
   "cell_type": "markdown",
   "metadata": {},
   "source": [
    "### Steps"
   ]
  },
  {
   "cell_type": "markdown",
   "metadata": {},
   "source": [
    "The solution is divided into number of steps:\n",
    "\n",
    "1.Acquire training and test set.\n",
    "\n",
    "2.Discover and analyze the data\n",
    "\n",
    "3.Perform data wrangling, cleaning and Extract new features\n",
    "\n",
    "4.Model, predict and solve the problem\n",
    "\n",
    "5.Draw conclusions"
   ]
  },
  {
   "cell_type": "markdown",
   "metadata": {},
   "source": [
    "First let's import the important packages that we will use in this problem"
   ]
  },
  {
   "cell_type": "code",
   "execution_count": 1,
   "metadata": {},
   "outputs": [],
   "source": [
    "# data analysis and wrangling\n",
    "import pandas as pd\n",
    "import numpy as np\n",
    "import random as rnd\n",
    "\n",
    "# visualization\n",
    "import seaborn as sns\n",
    "import matplotlib.pyplot as plt\n",
    "%matplotlib inline\n",
    "\n",
    "# machine learning\n",
    "from sklearn.linear_model import LogisticRegression\n",
    "from sklearn.svm import SVC, LinearSVC\n",
    "from sklearn.ensemble import RandomForestClassifier\n",
    "from sklearn.neighbors import KNeighborsClassifier\n",
    "from sklearn.naive_bayes import GaussianNB\n",
    "from sklearn.linear_model import Perceptron\n",
    "from sklearn.linear_model import SGDClassifier\n",
    "from sklearn.tree import DecisionTreeClassifier\n",
    "import tensorflow as tf"
   ]
  },
  {
   "cell_type": "markdown",
   "metadata": {},
   "source": [
    "#### Step 1:Acquire training and test set."
   ]
  },
  {
   "cell_type": "markdown",
   "metadata": {},
   "source": [
    "First of all let's load our training and test sets required to solve the problem.\n"
   ]
  },
  {
   "cell_type": "code",
   "execution_count": 2,
   "metadata": {},
   "outputs": [],
   "source": [
    "training_path='E:/Project/Titanic/train.csv'\n",
    "testing_path='E:/Project/Titanic/test.csv'\n",
    "train=pd.read_csv(training_path)\n",
    "test=pd.read_csv(testing_path)\n",
    "#instead of merging the two sets in order to perform cleaning on them, we put them in a list and loop through them\n",
    "combined=[train,test]"
   ]
  },
  {
   "cell_type": "markdown",
   "metadata": {},
   "source": [
    "#### Step 2:Discover and analyze the data"
   ]
  },
  {
   "cell_type": "markdown",
   "metadata": {},
   "source": [
    "We can check the features' description from [here](https://www.kaggle.com/c/titanic/data), but at the meantime let's print the columns here."
   ]
  },
  {
   "cell_type": "code",
   "execution_count": 3,
   "metadata": {},
   "outputs": [
    {
     "name": "stdout",
     "output_type": "stream",
     "text": [
      "Index(['PassengerId', 'Survived', 'Pclass', 'Name', 'Sex', 'Age', 'SibSp',\n",
      "       'Parch', 'Ticket', 'Fare', 'Cabin', 'Embarked'],\n",
      "      dtype='object')\n"
     ]
    }
   ],
   "source": [
    "print(train.columns)"
   ]
  },
  {
   "cell_type": "code",
   "execution_count": 4,
   "metadata": {},
   "outputs": [
    {
     "data": {
      "text/html": [
       "<div>\n",
       "<style scoped>\n",
       "    .dataframe tbody tr th:only-of-type {\n",
       "        vertical-align: middle;\n",
       "    }\n",
       "\n",
       "    .dataframe tbody tr th {\n",
       "        vertical-align: top;\n",
       "    }\n",
       "\n",
       "    .dataframe thead th {\n",
       "        text-align: right;\n",
       "    }\n",
       "</style>\n",
       "<table border=\"1\" class=\"dataframe\">\n",
       "  <thead>\n",
       "    <tr style=\"text-align: right;\">\n",
       "      <th></th>\n",
       "      <th>PassengerId</th>\n",
       "      <th>Survived</th>\n",
       "      <th>Pclass</th>\n",
       "      <th>Name</th>\n",
       "      <th>Sex</th>\n",
       "      <th>Age</th>\n",
       "      <th>SibSp</th>\n",
       "      <th>Parch</th>\n",
       "      <th>Ticket</th>\n",
       "      <th>Fare</th>\n",
       "      <th>Cabin</th>\n",
       "      <th>Embarked</th>\n",
       "    </tr>\n",
       "  </thead>\n",
       "  <tbody>\n",
       "    <tr>\n",
       "      <th>0</th>\n",
       "      <td>1</td>\n",
       "      <td>0</td>\n",
       "      <td>3</td>\n",
       "      <td>Braund, Mr. Owen Harris</td>\n",
       "      <td>male</td>\n",
       "      <td>22.0</td>\n",
       "      <td>1</td>\n",
       "      <td>0</td>\n",
       "      <td>A/5 21171</td>\n",
       "      <td>7.2500</td>\n",
       "      <td>NaN</td>\n",
       "      <td>S</td>\n",
       "    </tr>\n",
       "    <tr>\n",
       "      <th>1</th>\n",
       "      <td>2</td>\n",
       "      <td>1</td>\n",
       "      <td>1</td>\n",
       "      <td>Cumings, Mrs. John Bradley (Florence Briggs Th...</td>\n",
       "      <td>female</td>\n",
       "      <td>38.0</td>\n",
       "      <td>1</td>\n",
       "      <td>0</td>\n",
       "      <td>PC 17599</td>\n",
       "      <td>71.2833</td>\n",
       "      <td>C85</td>\n",
       "      <td>C</td>\n",
       "    </tr>\n",
       "    <tr>\n",
       "      <th>2</th>\n",
       "      <td>3</td>\n",
       "      <td>1</td>\n",
       "      <td>3</td>\n",
       "      <td>Heikkinen, Miss. Laina</td>\n",
       "      <td>female</td>\n",
       "      <td>26.0</td>\n",
       "      <td>0</td>\n",
       "      <td>0</td>\n",
       "      <td>STON/O2. 3101282</td>\n",
       "      <td>7.9250</td>\n",
       "      <td>NaN</td>\n",
       "      <td>S</td>\n",
       "    </tr>\n",
       "    <tr>\n",
       "      <th>3</th>\n",
       "      <td>4</td>\n",
       "      <td>1</td>\n",
       "      <td>1</td>\n",
       "      <td>Futrelle, Mrs. Jacques Heath (Lily May Peel)</td>\n",
       "      <td>female</td>\n",
       "      <td>35.0</td>\n",
       "      <td>1</td>\n",
       "      <td>0</td>\n",
       "      <td>113803</td>\n",
       "      <td>53.1000</td>\n",
       "      <td>C123</td>\n",
       "      <td>S</td>\n",
       "    </tr>\n",
       "    <tr>\n",
       "      <th>4</th>\n",
       "      <td>5</td>\n",
       "      <td>0</td>\n",
       "      <td>3</td>\n",
       "      <td>Allen, Mr. William Henry</td>\n",
       "      <td>male</td>\n",
       "      <td>35.0</td>\n",
       "      <td>0</td>\n",
       "      <td>0</td>\n",
       "      <td>373450</td>\n",
       "      <td>8.0500</td>\n",
       "      <td>NaN</td>\n",
       "      <td>S</td>\n",
       "    </tr>\n",
       "  </tbody>\n",
       "</table>\n",
       "</div>"
      ],
      "text/plain": [
       "   PassengerId  Survived  Pclass  \\\n",
       "0            1         0       3   \n",
       "1            2         1       1   \n",
       "2            3         1       3   \n",
       "3            4         1       1   \n",
       "4            5         0       3   \n",
       "\n",
       "                                                Name     Sex   Age  SibSp  \\\n",
       "0                            Braund, Mr. Owen Harris    male  22.0      1   \n",
       "1  Cumings, Mrs. John Bradley (Florence Briggs Th...  female  38.0      1   \n",
       "2                             Heikkinen, Miss. Laina  female  26.0      0   \n",
       "3       Futrelle, Mrs. Jacques Heath (Lily May Peel)  female  35.0      1   \n",
       "4                           Allen, Mr. William Henry    male  35.0      0   \n",
       "\n",
       "   Parch            Ticket     Fare Cabin Embarked  \n",
       "0      0         A/5 21171   7.2500   NaN        S  \n",
       "1      0          PC 17599  71.2833   C85        C  \n",
       "2      0  STON/O2. 3101282   7.9250   NaN        S  \n",
       "3      0            113803  53.1000  C123        S  \n",
       "4      0            373450   8.0500   NaN        S  "
      ]
     },
     "execution_count": 4,
     "metadata": {},
     "output_type": "execute_result"
    }
   ],
   "source": [
    "train.head()"
   ]
  },
  {
   "cell_type": "markdown",
   "metadata": {},
   "source": [
    "We can divide the features into 2 features:\n",
    "\n",
    "1.Numeric features: These values change from sample to sample. Within numerical features are the values discrete, continuous, or timeseries based? Among other things this helps us select the appropriate plots for visualization.\n",
    "\n",
    "example:Age, Fare, SibSp,Parch.\n",
    "\n",
    "2.Catogrical features: These values classify the samples into sets of similar samples. Within categorical features are the values nominal, ordinal, ratio, or interval based? Among other things this helps us select the appropriate plots for visualization.\n",
    "\n",
    "example: Survived, Pclass, Sex, Embarked.\n",
    "\n",
    "There is also alphanumeric types such as Ticket and Cabin."
   ]
  },
  {
   "cell_type": "markdown",
   "metadata": {},
   "source": [
    "Let's go deeper with the data to explore more interesting facts"
   ]
  },
  {
   "cell_type": "code",
   "execution_count": 5,
   "metadata": {},
   "outputs": [
    {
     "name": "stdout",
     "output_type": "stream",
     "text": [
      "<class 'pandas.core.frame.DataFrame'>\n",
      "RangeIndex: 891 entries, 0 to 890\n",
      "Data columns (total 12 columns):\n",
      "PassengerId    891 non-null int64\n",
      "Survived       891 non-null int64\n",
      "Pclass         891 non-null int64\n",
      "Name           891 non-null object\n",
      "Sex            891 non-null object\n",
      "Age            714 non-null float64\n",
      "SibSp          891 non-null int64\n",
      "Parch          891 non-null int64\n",
      "Ticket         891 non-null object\n",
      "Fare           891 non-null float64\n",
      "Cabin          204 non-null object\n",
      "Embarked       889 non-null object\n",
      "dtypes: float64(2), int64(5), object(5)\n",
      "memory usage: 83.6+ KB\n",
      "None\n",
      "----------------------------------------\n",
      "<class 'pandas.core.frame.DataFrame'>\n",
      "RangeIndex: 418 entries, 0 to 417\n",
      "Data columns (total 11 columns):\n",
      "PassengerId    418 non-null int64\n",
      "Pclass         418 non-null int64\n",
      "Name           418 non-null object\n",
      "Sex            418 non-null object\n",
      "Age            332 non-null float64\n",
      "SibSp          418 non-null int64\n",
      "Parch          418 non-null int64\n",
      "Ticket         418 non-null object\n",
      "Fare           417 non-null float64\n",
      "Cabin          91 non-null object\n",
      "Embarked       418 non-null object\n",
      "dtypes: float64(2), int64(4), object(5)\n",
      "memory usage: 36.0+ KB\n",
      "None\n"
     ]
    }
   ],
   "source": [
    "print(train.info())\n",
    "print('-'*40)\n",
    "print(test.info())"
   ]
  },
  {
   "cell_type": "markdown",
   "metadata": {},
   "source": [
    "##### Observations"
   ]
  },
  {
   "cell_type": "markdown",
   "metadata": {},
   "source": [
    "1.Features like Cabin, Age and Embarked have null values in the training set.\n",
    "\n",
    "2.Features like Cabin, Age and Fare have null values in the test set.\n",
    "\n",
    "these null values needs to be corrected by replacing them with valid values."
   ]
  },
  {
   "cell_type": "code",
   "execution_count": 6,
   "metadata": {},
   "outputs": [
    {
     "data": {
      "text/html": [
       "<div>\n",
       "<style scoped>\n",
       "    .dataframe tbody tr th:only-of-type {\n",
       "        vertical-align: middle;\n",
       "    }\n",
       "\n",
       "    .dataframe tbody tr th {\n",
       "        vertical-align: top;\n",
       "    }\n",
       "\n",
       "    .dataframe thead th {\n",
       "        text-align: right;\n",
       "    }\n",
       "</style>\n",
       "<table border=\"1\" class=\"dataframe\">\n",
       "  <thead>\n",
       "    <tr style=\"text-align: right;\">\n",
       "      <th></th>\n",
       "      <th>PassengerId</th>\n",
       "      <th>Survived</th>\n",
       "      <th>Pclass</th>\n",
       "      <th>Age</th>\n",
       "      <th>SibSp</th>\n",
       "      <th>Parch</th>\n",
       "      <th>Fare</th>\n",
       "    </tr>\n",
       "  </thead>\n",
       "  <tbody>\n",
       "    <tr>\n",
       "      <th>count</th>\n",
       "      <td>891.000000</td>\n",
       "      <td>891.000000</td>\n",
       "      <td>891.000000</td>\n",
       "      <td>714.000000</td>\n",
       "      <td>891.000000</td>\n",
       "      <td>891.000000</td>\n",
       "      <td>891.000000</td>\n",
       "    </tr>\n",
       "    <tr>\n",
       "      <th>mean</th>\n",
       "      <td>446.000000</td>\n",
       "      <td>0.383838</td>\n",
       "      <td>2.308642</td>\n",
       "      <td>29.699118</td>\n",
       "      <td>0.523008</td>\n",
       "      <td>0.381594</td>\n",
       "      <td>32.204208</td>\n",
       "    </tr>\n",
       "    <tr>\n",
       "      <th>std</th>\n",
       "      <td>257.353842</td>\n",
       "      <td>0.486592</td>\n",
       "      <td>0.836071</td>\n",
       "      <td>14.526497</td>\n",
       "      <td>1.102743</td>\n",
       "      <td>0.806057</td>\n",
       "      <td>49.693429</td>\n",
       "    </tr>\n",
       "    <tr>\n",
       "      <th>min</th>\n",
       "      <td>1.000000</td>\n",
       "      <td>0.000000</td>\n",
       "      <td>1.000000</td>\n",
       "      <td>0.420000</td>\n",
       "      <td>0.000000</td>\n",
       "      <td>0.000000</td>\n",
       "      <td>0.000000</td>\n",
       "    </tr>\n",
       "    <tr>\n",
       "      <th>25%</th>\n",
       "      <td>223.500000</td>\n",
       "      <td>0.000000</td>\n",
       "      <td>2.000000</td>\n",
       "      <td>20.125000</td>\n",
       "      <td>0.000000</td>\n",
       "      <td>0.000000</td>\n",
       "      <td>7.910400</td>\n",
       "    </tr>\n",
       "    <tr>\n",
       "      <th>50%</th>\n",
       "      <td>446.000000</td>\n",
       "      <td>0.000000</td>\n",
       "      <td>3.000000</td>\n",
       "      <td>28.000000</td>\n",
       "      <td>0.000000</td>\n",
       "      <td>0.000000</td>\n",
       "      <td>14.454200</td>\n",
       "    </tr>\n",
       "    <tr>\n",
       "      <th>75%</th>\n",
       "      <td>668.500000</td>\n",
       "      <td>1.000000</td>\n",
       "      <td>3.000000</td>\n",
       "      <td>38.000000</td>\n",
       "      <td>1.000000</td>\n",
       "      <td>0.000000</td>\n",
       "      <td>31.000000</td>\n",
       "    </tr>\n",
       "    <tr>\n",
       "      <th>max</th>\n",
       "      <td>891.000000</td>\n",
       "      <td>1.000000</td>\n",
       "      <td>3.000000</td>\n",
       "      <td>80.000000</td>\n",
       "      <td>8.000000</td>\n",
       "      <td>6.000000</td>\n",
       "      <td>512.329200</td>\n",
       "    </tr>\n",
       "  </tbody>\n",
       "</table>\n",
       "</div>"
      ],
      "text/plain": [
       "       PassengerId    Survived      Pclass         Age       SibSp  \\\n",
       "count   891.000000  891.000000  891.000000  714.000000  891.000000   \n",
       "mean    446.000000    0.383838    2.308642   29.699118    0.523008   \n",
       "std     257.353842    0.486592    0.836071   14.526497    1.102743   \n",
       "min       1.000000    0.000000    1.000000    0.420000    0.000000   \n",
       "25%     223.500000    0.000000    2.000000   20.125000    0.000000   \n",
       "50%     446.000000    0.000000    3.000000   28.000000    0.000000   \n",
       "75%     668.500000    1.000000    3.000000   38.000000    1.000000   \n",
       "max     891.000000    1.000000    3.000000   80.000000    8.000000   \n",
       "\n",
       "            Parch        Fare  \n",
       "count  891.000000  891.000000  \n",
       "mean     0.381594   32.204208  \n",
       "std      0.806057   49.693429  \n",
       "min      0.000000    0.000000  \n",
       "25%      0.000000    7.910400  \n",
       "50%      0.000000   14.454200  \n",
       "75%      0.000000   31.000000  \n",
       "max      6.000000  512.329200  "
      ]
     },
     "execution_count": 6,
     "metadata": {},
     "output_type": "execute_result"
    }
   ],
   "source": [
    "train.describe()"
   ]
  },
  {
   "cell_type": "markdown",
   "metadata": {},
   "source": [
    "#### Observations"
   ]
  },
  {
   "cell_type": "markdown",
   "metadata": {},
   "source": [
    "1.There are 38% from passenger who actually survived!\n",
    "\n",
    "2.Most passengers' ages ranged from 20 to 38 years old.\n",
    "\n",
    "3.Few who paid the most expensive fare(512)."
   ]
  },
  {
   "cell_type": "code",
   "execution_count": 7,
   "metadata": {},
   "outputs": [
    {
     "data": {
      "text/html": [
       "<div>\n",
       "<style scoped>\n",
       "    .dataframe tbody tr th:only-of-type {\n",
       "        vertical-align: middle;\n",
       "    }\n",
       "\n",
       "    .dataframe tbody tr th {\n",
       "        vertical-align: top;\n",
       "    }\n",
       "\n",
       "    .dataframe thead th {\n",
       "        text-align: right;\n",
       "    }\n",
       "</style>\n",
       "<table border=\"1\" class=\"dataframe\">\n",
       "  <thead>\n",
       "    <tr style=\"text-align: right;\">\n",
       "      <th></th>\n",
       "      <th>Name</th>\n",
       "      <th>Sex</th>\n",
       "      <th>Ticket</th>\n",
       "      <th>Cabin</th>\n",
       "      <th>Embarked</th>\n",
       "    </tr>\n",
       "  </thead>\n",
       "  <tbody>\n",
       "    <tr>\n",
       "      <th>count</th>\n",
       "      <td>891</td>\n",
       "      <td>891</td>\n",
       "      <td>891</td>\n",
       "      <td>204</td>\n",
       "      <td>889</td>\n",
       "    </tr>\n",
       "    <tr>\n",
       "      <th>unique</th>\n",
       "      <td>891</td>\n",
       "      <td>2</td>\n",
       "      <td>681</td>\n",
       "      <td>147</td>\n",
       "      <td>3</td>\n",
       "    </tr>\n",
       "    <tr>\n",
       "      <th>top</th>\n",
       "      <td>Nysveen, Mr. Johan Hansen</td>\n",
       "      <td>male</td>\n",
       "      <td>CA. 2343</td>\n",
       "      <td>B96 B98</td>\n",
       "      <td>S</td>\n",
       "    </tr>\n",
       "    <tr>\n",
       "      <th>freq</th>\n",
       "      <td>1</td>\n",
       "      <td>577</td>\n",
       "      <td>7</td>\n",
       "      <td>4</td>\n",
       "      <td>644</td>\n",
       "    </tr>\n",
       "  </tbody>\n",
       "</table>\n",
       "</div>"
      ],
      "text/plain": [
       "                             Name   Sex    Ticket    Cabin Embarked\n",
       "count                         891   891       891      204      889\n",
       "unique                        891     2       681      147        3\n",
       "top     Nysveen, Mr. Johan Hansen  male  CA. 2343  B96 B98        S\n",
       "freq                            1   577         7        4      644"
      ]
     },
     "execution_count": 7,
     "metadata": {},
     "output_type": "execute_result"
    }
   ],
   "source": [
    "train.describe(include=['O'])"
   ]
  },
  {
   "cell_type": "markdown",
   "metadata": {},
   "source": [
    "#### Observations"
   ]
  },
  {
   "cell_type": "markdown",
   "metadata": {},
   "source": [
    "1.Most of the passerngers were males.\n",
    "\n",
    "2.Most of the passengers travelled from the same port(Southampton). "
   ]
  },
  {
   "cell_type": "markdown",
   "metadata": {},
   "source": [
    "#### Assumptions"
   ]
  },
  {
   "cell_type": "markdown",
   "metadata": {},
   "source": [
    "Now after seeing the data we must decide which features should we use in order to minimize the features to optimize the model.\n",
    "\n",
    "1.Drop the PassengerId,Ticket columns as it doesn't contribute in the survival rate.\n",
    "\n",
    "2.Drop the Cabin column because of the amount of missing values in it.\n",
    "\n",
    "3.Create new feature from the Name column(Title for example).\n",
    "\n",
    "4.Merge the Parch and SibSp columns into 1 feature(Family).\n",
    "\n",
    "5.Replace the null values in Age and Emarked columns.\n",
    "\n",
    "6.Test some assumptions about feartures correlating with the survival rate."
   ]
  },
  {
   "cell_type": "markdown",
   "metadata": {},
   "source": [
    "#### Correlating features using pivoting"
   ]
  },
  {
   "cell_type": "markdown",
   "metadata": {},
   "source": [
    "We can try correlating features with each other in order to find pattern between them.\n",
    "\n",
    "Let's start with the Pclass column."
   ]
  },
  {
   "cell_type": "code",
   "execution_count": 8,
   "metadata": {},
   "outputs": [
    {
     "data": {
      "text/html": [
       "<div>\n",
       "<style scoped>\n",
       "    .dataframe tbody tr th:only-of-type {\n",
       "        vertical-align: middle;\n",
       "    }\n",
       "\n",
       "    .dataframe tbody tr th {\n",
       "        vertical-align: top;\n",
       "    }\n",
       "\n",
       "    .dataframe thead th {\n",
       "        text-align: right;\n",
       "    }\n",
       "</style>\n",
       "<table border=\"1\" class=\"dataframe\">\n",
       "  <thead>\n",
       "    <tr style=\"text-align: right;\">\n",
       "      <th></th>\n",
       "      <th>Pclass</th>\n",
       "      <th>Survived</th>\n",
       "    </tr>\n",
       "  </thead>\n",
       "  <tbody>\n",
       "    <tr>\n",
       "      <th>0</th>\n",
       "      <td>1</td>\n",
       "      <td>0.629630</td>\n",
       "    </tr>\n",
       "    <tr>\n",
       "      <th>1</th>\n",
       "      <td>2</td>\n",
       "      <td>0.472826</td>\n",
       "    </tr>\n",
       "    <tr>\n",
       "      <th>2</th>\n",
       "      <td>3</td>\n",
       "      <td>0.242363</td>\n",
       "    </tr>\n",
       "  </tbody>\n",
       "</table>\n",
       "</div>"
      ],
      "text/plain": [
       "   Pclass  Survived\n",
       "0       1  0.629630\n",
       "1       2  0.472826\n",
       "2       3  0.242363"
      ]
     },
     "execution_count": 8,
     "metadata": {},
     "output_type": "execute_result"
    }
   ],
   "source": [
    "train[['Pclass','Survived']].groupby(['Pclass'],as_index=False).mean().sort_values(by='Survived',ascending=0)"
   ]
  },
  {
   "cell_type": "markdown",
   "metadata": {},
   "source": [
    "We see that 62% from the passengers in the Pclass had survived.\n",
    "\n",
    "Decision: Add PClass in the features used in the model."
   ]
  },
  {
   "cell_type": "code",
   "execution_count": 9,
   "metadata": {},
   "outputs": [
    {
     "data": {
      "text/html": [
       "<div>\n",
       "<style scoped>\n",
       "    .dataframe tbody tr th:only-of-type {\n",
       "        vertical-align: middle;\n",
       "    }\n",
       "\n",
       "    .dataframe tbody tr th {\n",
       "        vertical-align: top;\n",
       "    }\n",
       "\n",
       "    .dataframe thead th {\n",
       "        text-align: right;\n",
       "    }\n",
       "</style>\n",
       "<table border=\"1\" class=\"dataframe\">\n",
       "  <thead>\n",
       "    <tr style=\"text-align: right;\">\n",
       "      <th></th>\n",
       "      <th>Sex</th>\n",
       "      <th>Survived</th>\n",
       "    </tr>\n",
       "  </thead>\n",
       "  <tbody>\n",
       "    <tr>\n",
       "      <th>0</th>\n",
       "      <td>female</td>\n",
       "      <td>0.742038</td>\n",
       "    </tr>\n",
       "    <tr>\n",
       "      <th>1</th>\n",
       "      <td>male</td>\n",
       "      <td>0.188908</td>\n",
       "    </tr>\n",
       "  </tbody>\n",
       "</table>\n",
       "</div>"
      ],
      "text/plain": [
       "      Sex  Survived\n",
       "0  female  0.742038\n",
       "1    male  0.188908"
      ]
     },
     "execution_count": 9,
     "metadata": {},
     "output_type": "execute_result"
    }
   ],
   "source": [
    "train[['Sex','Survived']].groupby(['Sex'],as_index=False).mean().sort_values(by='Survived',ascending=0)"
   ]
  },
  {
   "cell_type": "markdown",
   "metadata": {},
   "source": [
    "We see that most of the survived passengers were actually women."
   ]
  },
  {
   "cell_type": "markdown",
   "metadata": {},
   "source": [
    "#### Analyze by plotting"
   ]
  },
  {
   "cell_type": "markdown",
   "metadata": {},
   "source": [
    "We can numerical features for corrleation with each other."
   ]
  },
  {
   "cell_type": "code",
   "execution_count": 10,
   "metadata": {},
   "outputs": [
    {
     "data": {
      "text/plain": [
       "<seaborn.axisgrid.FacetGrid at 0x16a4e5b6cf8>"
      ]
     },
     "execution_count": 10,
     "metadata": {},
     "output_type": "execute_result"
    },
    {
     "data": {
      "text/plain": [
       "<Figure size 1008x864 with 0 Axes>"
      ]
     },
     "metadata": {},
     "output_type": "display_data"
    },
    {
     "data": {
      "image/png": "[encoded data removed]",
      "text/plain": [
       "<Figure size 432x216 with 2 Axes>"
      ]
     },
     "metadata": {
      "needs_background": "light"
     },
     "output_type": "display_data"
    }
   ],
   "source": [
    "plt.figure(figsize=(14,12))\n",
    "g=sns.FacetGrid(train,col='Survived')\n",
    "g.map(plt.hist,'Age',bins=20)"
   ]
  },
  {
   "cell_type": "markdown",
   "metadata": {},
   "source": [
    "#### Observation\n",
    "\n",
    "1.Most of the children survived.\n",
    "\n",
    "2.Passengers between 17 and 40 didn't survive.\n",
    "\n",
    "3.Passengers that were older than 65 survived."
   ]
  },
  {
   "cell_type": "code",
   "execution_count": 11,
   "metadata": {},
   "outputs": [
    {
     "data": {
      "text/plain": [
       "<seaborn.axisgrid.FacetGrid at 0x16a506d78d0>"
      ]
     },
     "execution_count": 11,
     "metadata": {},
     "output_type": "execute_result"
    },
    {
     "data": {
      "text/plain": [
       "<Figure size 1008x864 with 0 Axes>"
      ]
     },
     "metadata": {},
     "output_type": "display_data"
    },
    {
     "data": {
      "image/png": "[encoded data removed]",
      "text/plain": [
       "<Figure size 432x648 with 6 Axes>"
      ]
     },
     "metadata": {
      "needs_background": "light"
     },
     "output_type": "display_data"
    }
   ],
   "source": [
    "plt.figure(figsize=(14,12))\n",
    "g=sns.FacetGrid(train,col='Survived',row='Pclass')\n",
    "g.map(plt.hist,'Age',bins=20)"
   ]
  },
  {
   "cell_type": "markdown",
   "metadata": {},
   "source": [
    "This confirm our assumptions above:\n",
    "\n",
    "1.Most PClass 1 passengers had survived, while 3 not.\n",
    "\n",
    "2.Infant people in Pclass 2 & 3 mostly survived.\n"
   ]
  },
  {
   "cell_type": "code",
   "execution_count": 12,
   "metadata": {},
   "outputs": [
    {
     "name": "stderr",
     "output_type": "stream",
     "text": [
      "c:\\users\\omar\\appdata\\local\\programs\\python\\python35\\lib\\site-packages\\seaborn\\axisgrid.py:715: UserWarning: Using the pointplot function without specifying `order` is likely to produce an incorrect plot.\n",
      "  warnings.warn(warning)\n",
      "c:\\users\\omar\\appdata\\local\\programs\\python\\python35\\lib\\site-packages\\seaborn\\axisgrid.py:720: UserWarning: Using the pointplot function without specifying `hue_order` is likely to produce an incorrect plot.\n",
      "  warnings.warn(warning)\n"
     ]
    },
    {
     "data": {
      "text/plain": [
       "<seaborn.axisgrid.FacetGrid at 0x16a5071d240>"
      ]
     },
     "execution_count": 12,
     "metadata": {},
     "output_type": "execute_result"
    },
    {
     "data": {
      "text/plain": [
       "<Figure size 1008x864 with 0 Axes>"
      ]
     },
     "metadata": {},
     "output_type": "display_data"
    },
    {
     "data": {
      "image/png": "[encoded data removed]",
      "text/plain": [
       "<Figure size 286.5x648 with 3 Axes>"
      ]
     },
     "metadata": {
      "needs_background": "light"
     },
     "output_type": "display_data"
    }
   ],
   "source": [
    "plt.figure(figsize=(14,12))\n",
    "g=sns.FacetGrid(train,row='Embarked')\n",
    "g.map(sns.pointplot,'Pclass','Survived','Sex')\n",
    "g.add_legend()"
   ]
  },
  {
   "cell_type": "markdown",
   "metadata": {},
   "source": [
    "#### Observation\n",
    "\n",
    "1.Except for Embarked C, women had more chances in surviving more than men.\n",
    "\n"
   ]
  },
  {
   "cell_type": "markdown",
   "metadata": {},
   "source": [
    "### Step 3 :  Wrangling and cleaning data\n",
    "\n",
    "Now we need to prepare the data to be ready for the model by filling any missing values and extract new features to make the model more accurate.\n",
    "\n",
    "We start by dropping the cabin and ticket columns as they are not needed."
   ]
  },
  {
   "cell_type": "code",
   "execution_count": 13,
   "metadata": {},
   "outputs": [],
   "source": [
    "train=train.drop(['Cabin','Ticket'],axis=1)\n",
    "test=test.drop(['Cabin','Ticket'],axis=1)\n",
    "combined=[train,test]"
   ]
  },
  {
   "cell_type": "code",
   "execution_count": 14,
   "metadata": {},
   "outputs": [
    {
     "data": {
      "text/plain": [
       "((891, 10), (418, 9))"
      ]
     },
     "execution_count": 14,
     "metadata": {},
     "output_type": "execute_result"
    }
   ],
   "source": [
    "train.shape,test.shape"
   ]
  },
  {
   "cell_type": "markdown",
   "metadata": {},
   "source": [
    "Instead of the names we can use the title of each passenger as it may gives us insights ,for example : the wealthy passengers might have more chances in survival.\n",
    "\n",
    "We will use regular expressions."
   ]
  },
  {
   "cell_type": "code",
   "execution_count": 15,
   "metadata": {},
   "outputs": [
    {
     "data": {
      "text/html": [
       "<div>\n",
       "<style scoped>\n",
       "    .dataframe tbody tr th:only-of-type {\n",
       "        vertical-align: middle;\n",
       "    }\n",
       "\n",
       "    .dataframe tbody tr th {\n",
       "        vertical-align: top;\n",
       "    }\n",
       "\n",
       "    .dataframe thead th {\n",
       "        text-align: right;\n",
       "    }\n",
       "</style>\n",
       "<table border=\"1\" class=\"dataframe\">\n",
       "  <thead>\n",
       "    <tr style=\"text-align: right;\">\n",
       "      <th>Sex</th>\n",
       "      <th>female</th>\n",
       "      <th>male</th>\n",
       "    </tr>\n",
       "    <tr>\n",
       "      <th>Title</th>\n",
       "      <th></th>\n",
       "      <th></th>\n",
       "    </tr>\n",
       "  </thead>\n",
       "  <tbody>\n",
       "    <tr>\n",
       "      <th>Capt</th>\n",
       "      <td>0</td>\n",
       "      <td>1</td>\n",
       "    </tr>\n",
       "    <tr>\n",
       "      <th>Col</th>\n",
       "      <td>0</td>\n",
       "      <td>2</td>\n",
       "    </tr>\n",
       "    <tr>\n",
       "      <th>Countess</th>\n",
       "      <td>1</td>\n",
       "      <td>0</td>\n",
       "    </tr>\n",
       "    <tr>\n",
       "      <th>Don</th>\n",
       "      <td>0</td>\n",
       "      <td>1</td>\n",
       "    </tr>\n",
       "    <tr>\n",
       "      <th>Dr</th>\n",
       "      <td>1</td>\n",
       "      <td>6</td>\n",
       "    </tr>\n",
       "    <tr>\n",
       "      <th>Jonkheer</th>\n",
       "      <td>0</td>\n",
       "      <td>1</td>\n",
       "    </tr>\n",
       "    <tr>\n",
       "      <th>Lady</th>\n",
       "      <td>1</td>\n",
       "      <td>0</td>\n",
       "    </tr>\n",
       "    <tr>\n",
       "      <th>Major</th>\n",
       "      <td>0</td>\n",
       "      <td>2</td>\n",
       "    </tr>\n",
       "    <tr>\n",
       "      <th>Master</th>\n",
       "      <td>0</td>\n",
       "      <td>40</td>\n",
       "    </tr>\n",
       "    <tr>\n",
       "      <th>Miss</th>\n",
       "      <td>182</td>\n",
       "      <td>0</td>\n",
       "    </tr>\n",
       "    <tr>\n",
       "      <th>Mlle</th>\n",
       "      <td>2</td>\n",
       "      <td>0</td>\n",
       "    </tr>\n",
       "    <tr>\n",
       "      <th>Mme</th>\n",
       "      <td>1</td>\n",
       "      <td>0</td>\n",
       "    </tr>\n",
       "    <tr>\n",
       "      <th>Mr</th>\n",
       "      <td>0</td>\n",
       "      <td>517</td>\n",
       "    </tr>\n",
       "    <tr>\n",
       "      <th>Mrs</th>\n",
       "      <td>125</td>\n",
       "      <td>0</td>\n",
       "    </tr>\n",
       "    <tr>\n",
       "      <th>Ms</th>\n",
       "      <td>1</td>\n",
       "      <td>0</td>\n",
       "    </tr>\n",
       "    <tr>\n",
       "      <th>Rev</th>\n",
       "      <td>0</td>\n",
       "      <td>6</td>\n",
       "    </tr>\n",
       "    <tr>\n",
       "      <th>Sir</th>\n",
       "      <td>0</td>\n",
       "      <td>1</td>\n",
       "    </tr>\n",
       "  </tbody>\n",
       "</table>\n",
       "</div>"
      ],
      "text/plain": [
       "Sex       female  male\n",
       "Title                 \n",
       "Capt           0     1\n",
       "Col            0     2\n",
       "Countess       1     0\n",
       "Don            0     1\n",
       "Dr             1     6\n",
       "Jonkheer       0     1\n",
       "Lady           1     0\n",
       "Major          0     2\n",
       "Master         0    40\n",
       "Miss         182     0\n",
       "Mlle           2     0\n",
       "Mme            1     0\n",
       "Mr             0   517\n",
       "Mrs          125     0\n",
       "Ms             1     0\n",
       "Rev            0     6\n",
       "Sir            0     1"
      ]
     },
     "execution_count": 15,
     "metadata": {},
     "output_type": "execute_result"
    }
   ],
   "source": [
    "for dataset in combined:\n",
    "    dataset['Title']=dataset['Name'].str.extract('([A-Za-z]+)\\.',expand=False)\n",
    "    \n",
    "pd.crosstab(train.Title,train.Sex)    "
   ]
  },
  {
   "cell_type": "markdown",
   "metadata": {},
   "source": [
    "From the table we can minimize the number of titles in order to make the mapping easier."
   ]
  },
  {
   "cell_type": "code",
   "execution_count": 16,
   "metadata": {},
   "outputs": [
    {
     "data": {
      "text/html": [
       "<div>\n",
       "<style scoped>\n",
       "    .dataframe tbody tr th:only-of-type {\n",
       "        vertical-align: middle;\n",
       "    }\n",
       "\n",
       "    .dataframe tbody tr th {\n",
       "        vertical-align: top;\n",
       "    }\n",
       "\n",
       "    .dataframe thead th {\n",
       "        text-align: right;\n",
       "    }\n",
       "</style>\n",
       "<table border=\"1\" class=\"dataframe\">\n",
       "  <thead>\n",
       "    <tr style=\"text-align: right;\">\n",
       "      <th></th>\n",
       "      <th>Title</th>\n",
       "      <th>Survived</th>\n",
       "    </tr>\n",
       "  </thead>\n",
       "  <tbody>\n",
       "    <tr>\n",
       "      <th>0</th>\n",
       "      <td>Master</td>\n",
       "      <td>0.575000</td>\n",
       "    </tr>\n",
       "    <tr>\n",
       "      <th>1</th>\n",
       "      <td>Miss</td>\n",
       "      <td>0.704301</td>\n",
       "    </tr>\n",
       "    <tr>\n",
       "      <th>2</th>\n",
       "      <td>Mr</td>\n",
       "      <td>0.156673</td>\n",
       "    </tr>\n",
       "    <tr>\n",
       "      <th>3</th>\n",
       "      <td>Mrs</td>\n",
       "      <td>0.792000</td>\n",
       "    </tr>\n",
       "    <tr>\n",
       "      <th>4</th>\n",
       "      <td>Rare</td>\n",
       "      <td>0.347826</td>\n",
       "    </tr>\n",
       "  </tbody>\n",
       "</table>\n",
       "</div>"
      ],
      "text/plain": [
       "    Title  Survived\n",
       "0  Master  0.575000\n",
       "1    Miss  0.704301\n",
       "2      Mr  0.156673\n",
       "3     Mrs  0.792000\n",
       "4    Rare  0.347826"
      ]
     },
     "execution_count": 16,
     "metadata": {},
     "output_type": "execute_result"
    }
   ],
   "source": [
    "for dataset in combined:\n",
    "    dataset['Title']=dataset['Title'].replace(['Capt','Col','Don','Countess','Dr','Jonkheer','Lady','Major','Sir','Rev'],'Rare')\n",
    "    dataset['Title']=dataset['Title'].replace(['Mlle','Ms'],'Miss')\n",
    "    dataset['Title']=dataset['Title'].replace('Mme','Miss')\n",
    "train[['Title','Survived']].groupby('Title',as_index=False).mean()"
   ]
  },
  {
   "cell_type": "code",
   "execution_count": 17,
   "metadata": {},
   "outputs": [
    {
     "data": {
      "text/html": [
       "<div>\n",
       "<style scoped>\n",
       "    .dataframe tbody tr th:only-of-type {\n",
       "        vertical-align: middle;\n",
       "    }\n",
       "\n",
       "    .dataframe tbody tr th {\n",
       "        vertical-align: top;\n",
       "    }\n",
       "\n",
       "    .dataframe thead th {\n",
       "        text-align: right;\n",
       "    }\n",
       "</style>\n",
       "<table border=\"1\" class=\"dataframe\">\n",
       "  <thead>\n",
       "    <tr style=\"text-align: right;\">\n",
       "      <th></th>\n",
       "      <th>PassengerId</th>\n",
       "      <th>Survived</th>\n",
       "      <th>Pclass</th>\n",
       "      <th>Name</th>\n",
       "      <th>Sex</th>\n",
       "      <th>Age</th>\n",
       "      <th>SibSp</th>\n",
       "      <th>Parch</th>\n",
       "      <th>Fare</th>\n",
       "      <th>Embarked</th>\n",
       "      <th>Title</th>\n",
       "    </tr>\n",
       "  </thead>\n",
       "  <tbody>\n",
       "    <tr>\n",
       "      <th>0</th>\n",
       "      <td>1</td>\n",
       "      <td>0</td>\n",
       "      <td>3</td>\n",
       "      <td>Braund, Mr. Owen Harris</td>\n",
       "      <td>male</td>\n",
       "      <td>22.0</td>\n",
       "      <td>1</td>\n",
       "      <td>0</td>\n",
       "      <td>7.2500</td>\n",
       "      <td>S</td>\n",
       "      <td>3</td>\n",
       "    </tr>\n",
       "    <tr>\n",
       "      <th>1</th>\n",
       "      <td>2</td>\n",
       "      <td>1</td>\n",
       "      <td>1</td>\n",
       "      <td>Cumings, Mrs. John Bradley (Florence Briggs Th...</td>\n",
       "      <td>female</td>\n",
       "      <td>38.0</td>\n",
       "      <td>1</td>\n",
       "      <td>0</td>\n",
       "      <td>71.2833</td>\n",
       "      <td>C</td>\n",
       "      <td>4</td>\n",
       "    </tr>\n",
       "    <tr>\n",
       "      <th>2</th>\n",
       "      <td>3</td>\n",
       "      <td>1</td>\n",
       "      <td>3</td>\n",
       "      <td>Heikkinen, Miss. Laina</td>\n",
       "      <td>female</td>\n",
       "      <td>26.0</td>\n",
       "      <td>0</td>\n",
       "      <td>0</td>\n",
       "      <td>7.9250</td>\n",
       "      <td>S</td>\n",
       "      <td>2</td>\n",
       "    </tr>\n",
       "    <tr>\n",
       "      <th>3</th>\n",
       "      <td>4</td>\n",
       "      <td>1</td>\n",
       "      <td>1</td>\n",
       "      <td>Futrelle, Mrs. Jacques Heath (Lily May Peel)</td>\n",
       "      <td>female</td>\n",
       "      <td>35.0</td>\n",
       "      <td>1</td>\n",
       "      <td>0</td>\n",
       "      <td>53.1000</td>\n",
       "      <td>S</td>\n",
       "      <td>4</td>\n",
       "    </tr>\n",
       "    <tr>\n",
       "      <th>4</th>\n",
       "      <td>5</td>\n",
       "      <td>0</td>\n",
       "      <td>3</td>\n",
       "      <td>Allen, Mr. William Henry</td>\n",
       "      <td>male</td>\n",
       "      <td>35.0</td>\n",
       "      <td>0</td>\n",
       "      <td>0</td>\n",
       "      <td>8.0500</td>\n",
       "      <td>S</td>\n",
       "      <td>3</td>\n",
       "    </tr>\n",
       "  </tbody>\n",
       "</table>\n",
       "</div>"
      ],
      "text/plain": [
       "   PassengerId  Survived  Pclass  \\\n",
       "0            1         0       3   \n",
       "1            2         1       1   \n",
       "2            3         1       3   \n",
       "3            4         1       1   \n",
       "4            5         0       3   \n",
       "\n",
       "                                                Name     Sex   Age  SibSp  \\\n",
       "0                            Braund, Mr. Owen Harris    male  22.0      1   \n",
       "1  Cumings, Mrs. John Bradley (Florence Briggs Th...  female  38.0      1   \n",
       "2                             Heikkinen, Miss. Laina  female  26.0      0   \n",
       "3       Futrelle, Mrs. Jacques Heath (Lily May Peel)  female  35.0      1   \n",
       "4                           Allen, Mr. William Henry    male  35.0      0   \n",
       "\n",
       "   Parch     Fare Embarked  Title  \n",
       "0      0   7.2500        S      3  \n",
       "1      0  71.2833        C      4  \n",
       "2      0   7.9250        S      2  \n",
       "3      0  53.1000        S      4  \n",
       "4      0   8.0500        S      3  "
      ]
     },
     "execution_count": 17,
     "metadata": {},
     "output_type": "execute_result"
    }
   ],
   "source": [
    "title_mapping={'Master':1,'Miss':2,'Mr':3,'Mrs':4,'Rare':5}\n",
    "for dataset in combined:\n",
    "    dataset['Title']=dataset['Title'].map(title_mapping)\n",
    "    dataset['Title']=dataset['Title'].fillna(0)\n",
    "    dataset['Title']=dataset['Title'].astype(int)\n",
    "train.head()    "
   ]
  },
  {
   "cell_type": "markdown",
   "metadata": {},
   "source": [
    "Now we drop the name column as it's no use anymore as the passenger Id in the train set."
   ]
  },
  {
   "cell_type": "code",
   "execution_count": 18,
   "metadata": {},
   "outputs": [
    {
     "data": {
      "text/plain": [
       "((891, 9), (418, 9))"
      ]
     },
     "execution_count": 18,
     "metadata": {},
     "output_type": "execute_result"
    }
   ],
   "source": [
    "train=train.drop(['PassengerId','Name'],axis=1)\n",
    "test=test.drop(['Name'],axis=1)\n",
    "combined=[train,test]\n",
    "train.shape,test.shape"
   ]
  },
  {
   "cell_type": "markdown",
   "metadata": {},
   "source": [
    "Now let's deal with the missing values in Age,Fare,Embarked starting with Age.\n",
    "\n",
    "from another solution on the internet the most accurate way is to use other correlated features. In our case we note correlation among Age, Gender, and Pclass. Guess Age values using median values for Age across sets of Pclass and Gender feature combinations. So, median Age for Pclass=1 and Gender=0, Pclass=1 and Gender=1, and so on..."
   ]
  },
  {
   "cell_type": "code",
   "execution_count": 19,
   "metadata": {},
   "outputs": [
    {
     "name": "stderr",
     "output_type": "stream",
     "text": [
      "c:\\users\\omar\\appdata\\local\\programs\\python\\python35\\lib\\site-packages\\seaborn\\axisgrid.py:230: UserWarning: The `size` paramter has been renamed to `height`; please update your code.\n",
      "  warnings.warn(msg, UserWarning)\n"
     ]
    },
    {
     "data": {
      "text/plain": [
       "<seaborn.axisgrid.FacetGrid at 0x16a509a2390>"
      ]
     },
     "execution_count": 19,
     "metadata": {},
     "output_type": "execute_result"
    },
    {
     "data": {
      "image/png": "[encoded data removed]",
      "text/plain": [
       "<Figure size 514.88x475.2 with 6 Axes>"
      ]
     },
     "metadata": {
      "needs_background": "light"
     },
     "output_type": "display_data"
    }
   ],
   "source": [
    "grid = sns.FacetGrid(train, row='Pclass', col='Sex', size=2.2, aspect=1.6)\n",
    "grid.map(plt.hist, 'Age', alpha=.5, bins=20)\n",
    "grid.add_legend()"
   ]
  },
  {
   "cell_type": "markdown",
   "metadata": {},
   "source": [
    "Let's start by preparing an empty array to contain guessed Age values based on Pclass x Gender combinations.\n",
    "\n"
   ]
  },
  {
   "cell_type": "code",
   "execution_count": 20,
   "metadata": {},
   "outputs": [],
   "source": [
    "guess_age=np.zeros((2,3))"
   ]
  },
  {
   "cell_type": "markdown",
   "metadata": {},
   "source": [
    "Now we iterate over Sex (0 or 1) and Pclass (1, 2, 3) to calculate guessed values of Age for the six combinations.\n"
   ]
  },
  {
   "cell_type": "code",
   "execution_count": 21,
   "metadata": {},
   "outputs": [],
   "source": [
    "for dataset in combined:\n",
    "    dataset['Sex'] = dataset['Sex'].map( {'female': 1, 'male': 0} ).astype(int)\n",
    "\n"
   ]
  },
  {
   "cell_type": "code",
   "execution_count": 22,
   "metadata": {
    "scrolled": true
   },
   "outputs": [
    {
     "data": {
      "text/html": [
       "<div>\n",
       "<style scoped>\n",
       "    .dataframe tbody tr th:only-of-type {\n",
       "        vertical-align: middle;\n",
       "    }\n",
       "\n",
       "    .dataframe tbody tr th {\n",
       "        vertical-align: top;\n",
       "    }\n",
       "\n",
       "    .dataframe thead th {\n",
       "        text-align: right;\n",
       "    }\n",
       "</style>\n",
       "<table border=\"1\" class=\"dataframe\">\n",
       "  <thead>\n",
       "    <tr style=\"text-align: right;\">\n",
       "      <th></th>\n",
       "      <th>Survived</th>\n",
       "      <th>Pclass</th>\n",
       "      <th>Sex</th>\n",
       "      <th>Age</th>\n",
       "      <th>SibSp</th>\n",
       "      <th>Parch</th>\n",
       "      <th>Fare</th>\n",
       "      <th>Embarked</th>\n",
       "      <th>Title</th>\n",
       "    </tr>\n",
       "  </thead>\n",
       "  <tbody>\n",
       "    <tr>\n",
       "      <th>0</th>\n",
       "      <td>0</td>\n",
       "      <td>3</td>\n",
       "      <td>0</td>\n",
       "      <td>22.0</td>\n",
       "      <td>1</td>\n",
       "      <td>0</td>\n",
       "      <td>7.2500</td>\n",
       "      <td>S</td>\n",
       "      <td>3</td>\n",
       "    </tr>\n",
       "    <tr>\n",
       "      <th>1</th>\n",
       "      <td>1</td>\n",
       "      <td>1</td>\n",
       "      <td>1</td>\n",
       "      <td>38.0</td>\n",
       "      <td>1</td>\n",
       "      <td>0</td>\n",
       "      <td>71.2833</td>\n",
       "      <td>C</td>\n",
       "      <td>4</td>\n",
       "    </tr>\n",
       "    <tr>\n",
       "      <th>2</th>\n",
       "      <td>1</td>\n",
       "      <td>3</td>\n",
       "      <td>1</td>\n",
       "      <td>26.0</td>\n",
       "      <td>0</td>\n",
       "      <td>0</td>\n",
       "      <td>7.9250</td>\n",
       "      <td>S</td>\n",
       "      <td>2</td>\n",
       "    </tr>\n",
       "    <tr>\n",
       "      <th>3</th>\n",
       "      <td>1</td>\n",
       "      <td>1</td>\n",
       "      <td>1</td>\n",
       "      <td>35.0</td>\n",
       "      <td>1</td>\n",
       "      <td>0</td>\n",
       "      <td>53.1000</td>\n",
       "      <td>S</td>\n",
       "      <td>4</td>\n",
       "    </tr>\n",
       "    <tr>\n",
       "      <th>4</th>\n",
       "      <td>0</td>\n",
       "      <td>3</td>\n",
       "      <td>0</td>\n",
       "      <td>35.0</td>\n",
       "      <td>0</td>\n",
       "      <td>0</td>\n",
       "      <td>8.0500</td>\n",
       "      <td>S</td>\n",
       "      <td>3</td>\n",
       "    </tr>\n",
       "  </tbody>\n",
       "</table>\n",
       "</div>"
      ],
      "text/plain": [
       "   Survived  Pclass  Sex   Age  SibSp  Parch     Fare Embarked  Title\n",
       "0         0       3    0  22.0      1      0   7.2500        S      3\n",
       "1         1       1    1  38.0      1      0  71.2833        C      4\n",
       "2         1       3    1  26.0      0      0   7.9250        S      2\n",
       "3         1       1    1  35.0      1      0  53.1000        S      4\n",
       "4         0       3    0  35.0      0      0   8.0500        S      3"
      ]
     },
     "execution_count": 22,
     "metadata": {},
     "output_type": "execute_result"
    }
   ],
   "source": [
    "train.head()"
   ]
  },
  {
   "cell_type": "code",
   "execution_count": 23,
   "metadata": {},
   "outputs": [
    {
     "name": "stdout",
     "output_type": "stream",
     "text": [
      "<class 'pandas.core.frame.DataFrame'>\n",
      "RangeIndex: 891 entries, 0 to 890\n",
      "Data columns (total 9 columns):\n",
      "Survived    891 non-null int64\n",
      "Pclass      891 non-null int64\n",
      "Sex         891 non-null int32\n",
      "Age         891 non-null int32\n",
      "SibSp       891 non-null int64\n",
      "Parch       891 non-null int64\n",
      "Fare        891 non-null float64\n",
      "Embarked    889 non-null object\n",
      "Title       891 non-null int32\n",
      "dtypes: float64(1), int32(3), int64(4), object(1)\n",
      "memory usage: 52.3+ KB\n"
     ]
    }
   ],
   "source": [
    " for dataset in combined:\n",
    "    for i in range(0, 2):\n",
    "        for j in range(0, 3):\n",
    "            guess_df = dataset[(dataset['Sex'] == i) & (dataset['Pclass'] == j+1)]['Age'].dropna()\n",
    "            guess=guess_df.median()\n",
    "            guess_age[i,j]=guess\n",
    "            \n",
    "    for i in range(0,2):\n",
    "        for j in range(0,3):\n",
    "            dataset.loc[(dataset.Age.isnull())&(dataset['Sex']==i)&(dataset['Pclass']==j+1),'Age']=guess_age[i,j]\n",
    "    dataset['Age']=dataset['Age'].astype(int)        \n",
    "            \n",
    "train.info()"
   ]
  },
  {
   "cell_type": "markdown",
   "metadata": {},
   "source": [
    "We now divide the age into groups in order to minimize the numbers."
   ]
  },
  {
   "cell_type": "code",
   "execution_count": 24,
   "metadata": {},
   "outputs": [
    {
     "data": {
      "text/html": [
       "<div>\n",
       "<style scoped>\n",
       "    .dataframe tbody tr th:only-of-type {\n",
       "        vertical-align: middle;\n",
       "    }\n",
       "\n",
       "    .dataframe tbody tr th {\n",
       "        vertical-align: top;\n",
       "    }\n",
       "\n",
       "    .dataframe thead th {\n",
       "        text-align: right;\n",
       "    }\n",
       "</style>\n",
       "<table border=\"1\" class=\"dataframe\">\n",
       "  <thead>\n",
       "    <tr style=\"text-align: right;\">\n",
       "      <th></th>\n",
       "      <th>AgeRange</th>\n",
       "      <th>Survived</th>\n",
       "    </tr>\n",
       "  </thead>\n",
       "  <tbody>\n",
       "    <tr>\n",
       "      <th>0</th>\n",
       "      <td>(-0.08, 16.0]</td>\n",
       "      <td>0.550000</td>\n",
       "    </tr>\n",
       "    <tr>\n",
       "      <th>1</th>\n",
       "      <td>(16.0, 32.0]</td>\n",
       "      <td>0.337374</td>\n",
       "    </tr>\n",
       "    <tr>\n",
       "      <th>2</th>\n",
       "      <td>(32.0, 48.0]</td>\n",
       "      <td>0.412037</td>\n",
       "    </tr>\n",
       "    <tr>\n",
       "      <th>3</th>\n",
       "      <td>(48.0, 64.0]</td>\n",
       "      <td>0.434783</td>\n",
       "    </tr>\n",
       "    <tr>\n",
       "      <th>4</th>\n",
       "      <td>(64.0, 80.0]</td>\n",
       "      <td>0.090909</td>\n",
       "    </tr>\n",
       "  </tbody>\n",
       "</table>\n",
       "</div>"
      ],
      "text/plain": [
       "        AgeRange  Survived\n",
       "0  (-0.08, 16.0]  0.550000\n",
       "1   (16.0, 32.0]  0.337374\n",
       "2   (32.0, 48.0]  0.412037\n",
       "3   (48.0, 64.0]  0.434783\n",
       "4   (64.0, 80.0]  0.090909"
      ]
     },
     "execution_count": 24,
     "metadata": {},
     "output_type": "execute_result"
    }
   ],
   "source": [
    "train['AgeRange']=pd.cut(train['Age'],5)\n",
    "train[['AgeRange','Survived']].groupby('AgeRange',as_index=False).mean().sort_values(by='AgeRange')"
   ]
  },
  {
   "cell_type": "code",
   "execution_count": 25,
   "metadata": {},
   "outputs": [
    {
     "data": {
      "text/html": [
       "<div>\n",
       "<style scoped>\n",
       "    .dataframe tbody tr th:only-of-type {\n",
       "        vertical-align: middle;\n",
       "    }\n",
       "\n",
       "    .dataframe tbody tr th {\n",
       "        vertical-align: top;\n",
       "    }\n",
       "\n",
       "    .dataframe thead th {\n",
       "        text-align: right;\n",
       "    }\n",
       "</style>\n",
       "<table border=\"1\" class=\"dataframe\">\n",
       "  <thead>\n",
       "    <tr style=\"text-align: right;\">\n",
       "      <th></th>\n",
       "      <th>Survived</th>\n",
       "      <th>Pclass</th>\n",
       "      <th>Sex</th>\n",
       "      <th>Age</th>\n",
       "      <th>SibSp</th>\n",
       "      <th>Parch</th>\n",
       "      <th>Fare</th>\n",
       "      <th>Embarked</th>\n",
       "      <th>Title</th>\n",
       "      <th>AgeRange</th>\n",
       "    </tr>\n",
       "  </thead>\n",
       "  <tbody>\n",
       "    <tr>\n",
       "      <th>0</th>\n",
       "      <td>0</td>\n",
       "      <td>3</td>\n",
       "      <td>0</td>\n",
       "      <td>2</td>\n",
       "      <td>1</td>\n",
       "      <td>0</td>\n",
       "      <td>7.2500</td>\n",
       "      <td>S</td>\n",
       "      <td>3</td>\n",
       "      <td>(16.0, 32.0]</td>\n",
       "    </tr>\n",
       "    <tr>\n",
       "      <th>1</th>\n",
       "      <td>1</td>\n",
       "      <td>1</td>\n",
       "      <td>1</td>\n",
       "      <td>3</td>\n",
       "      <td>1</td>\n",
       "      <td>0</td>\n",
       "      <td>71.2833</td>\n",
       "      <td>C</td>\n",
       "      <td>4</td>\n",
       "      <td>(32.0, 48.0]</td>\n",
       "    </tr>\n",
       "    <tr>\n",
       "      <th>2</th>\n",
       "      <td>1</td>\n",
       "      <td>3</td>\n",
       "      <td>1</td>\n",
       "      <td>2</td>\n",
       "      <td>0</td>\n",
       "      <td>0</td>\n",
       "      <td>7.9250</td>\n",
       "      <td>S</td>\n",
       "      <td>2</td>\n",
       "      <td>(16.0, 32.0]</td>\n",
       "    </tr>\n",
       "    <tr>\n",
       "      <th>3</th>\n",
       "      <td>1</td>\n",
       "      <td>1</td>\n",
       "      <td>1</td>\n",
       "      <td>3</td>\n",
       "      <td>1</td>\n",
       "      <td>0</td>\n",
       "      <td>53.1000</td>\n",
       "      <td>S</td>\n",
       "      <td>4</td>\n",
       "      <td>(32.0, 48.0]</td>\n",
       "    </tr>\n",
       "    <tr>\n",
       "      <th>4</th>\n",
       "      <td>0</td>\n",
       "      <td>3</td>\n",
       "      <td>0</td>\n",
       "      <td>3</td>\n",
       "      <td>0</td>\n",
       "      <td>0</td>\n",
       "      <td>8.0500</td>\n",
       "      <td>S</td>\n",
       "      <td>3</td>\n",
       "      <td>(32.0, 48.0]</td>\n",
       "    </tr>\n",
       "  </tbody>\n",
       "</table>\n",
       "</div>"
      ],
      "text/plain": [
       "   Survived  Pclass  Sex  Age  SibSp  Parch     Fare Embarked  Title  \\\n",
       "0         0       3    0    2      1      0   7.2500        S      3   \n",
       "1         1       1    1    3      1      0  71.2833        C      4   \n",
       "2         1       3    1    2      0      0   7.9250        S      2   \n",
       "3         1       1    1    3      1      0  53.1000        S      4   \n",
       "4         0       3    0    3      0      0   8.0500        S      3   \n",
       "\n",
       "       AgeRange  \n",
       "0  (16.0, 32.0]  \n",
       "1  (32.0, 48.0]  \n",
       "2  (16.0, 32.0]  \n",
       "3  (32.0, 48.0]  \n",
       "4  (32.0, 48.0]  "
      ]
     },
     "execution_count": 25,
     "metadata": {},
     "output_type": "execute_result"
    }
   ],
   "source": [
    "for dataset in combined:\n",
    "    dataset.loc[dataset['Age']<=16,'Age']=1\n",
    "    dataset.loc[(dataset['Age']>16)&(dataset['Age']<=32),'Age']=2\n",
    "    dataset.loc[(dataset['Age']>32)&(dataset['Age']<=48),'Age']=3\n",
    "    dataset.loc[(dataset['Age']>48)&(dataset['Age']<=64),'Age']=4\n",
    "    dataset.loc[(dataset['Age']>64)&(dataset['Age']<=80),'Age']=5\n",
    "    dataset['Age']=dataset['Age'].astype(int)\n",
    "train.head()    "
   ]
  },
  {
   "cell_type": "markdown",
   "metadata": {},
   "source": [
    "Now we remove the age range as it is not needed anymore"
   ]
  },
  {
   "cell_type": "code",
   "execution_count": 26,
   "metadata": {},
   "outputs": [
    {
     "data": {
      "text/html": [
       "<div>\n",
       "<style scoped>\n",
       "    .dataframe tbody tr th:only-of-type {\n",
       "        vertical-align: middle;\n",
       "    }\n",
       "\n",
       "    .dataframe tbody tr th {\n",
       "        vertical-align: top;\n",
       "    }\n",
       "\n",
       "    .dataframe thead th {\n",
       "        text-align: right;\n",
       "    }\n",
       "</style>\n",
       "<table border=\"1\" class=\"dataframe\">\n",
       "  <thead>\n",
       "    <tr style=\"text-align: right;\">\n",
       "      <th></th>\n",
       "      <th>Survived</th>\n",
       "      <th>Pclass</th>\n",
       "      <th>Sex</th>\n",
       "      <th>Age</th>\n",
       "      <th>SibSp</th>\n",
       "      <th>Parch</th>\n",
       "      <th>Fare</th>\n",
       "      <th>Embarked</th>\n",
       "      <th>Title</th>\n",
       "    </tr>\n",
       "  </thead>\n",
       "  <tbody>\n",
       "    <tr>\n",
       "      <th>0</th>\n",
       "      <td>0</td>\n",
       "      <td>3</td>\n",
       "      <td>0</td>\n",
       "      <td>2</td>\n",
       "      <td>1</td>\n",
       "      <td>0</td>\n",
       "      <td>7.2500</td>\n",
       "      <td>S</td>\n",
       "      <td>3</td>\n",
       "    </tr>\n",
       "    <tr>\n",
       "      <th>1</th>\n",
       "      <td>1</td>\n",
       "      <td>1</td>\n",
       "      <td>1</td>\n",
       "      <td>3</td>\n",
       "      <td>1</td>\n",
       "      <td>0</td>\n",
       "      <td>71.2833</td>\n",
       "      <td>C</td>\n",
       "      <td>4</td>\n",
       "    </tr>\n",
       "    <tr>\n",
       "      <th>2</th>\n",
       "      <td>1</td>\n",
       "      <td>3</td>\n",
       "      <td>1</td>\n",
       "      <td>2</td>\n",
       "      <td>0</td>\n",
       "      <td>0</td>\n",
       "      <td>7.9250</td>\n",
       "      <td>S</td>\n",
       "      <td>2</td>\n",
       "    </tr>\n",
       "    <tr>\n",
       "      <th>3</th>\n",
       "      <td>1</td>\n",
       "      <td>1</td>\n",
       "      <td>1</td>\n",
       "      <td>3</td>\n",
       "      <td>1</td>\n",
       "      <td>0</td>\n",
       "      <td>53.1000</td>\n",
       "      <td>S</td>\n",
       "      <td>4</td>\n",
       "    </tr>\n",
       "    <tr>\n",
       "      <th>4</th>\n",
       "      <td>0</td>\n",
       "      <td>3</td>\n",
       "      <td>0</td>\n",
       "      <td>3</td>\n",
       "      <td>0</td>\n",
       "      <td>0</td>\n",
       "      <td>8.0500</td>\n",
       "      <td>S</td>\n",
       "      <td>3</td>\n",
       "    </tr>\n",
       "  </tbody>\n",
       "</table>\n",
       "</div>"
      ],
      "text/plain": [
       "   Survived  Pclass  Sex  Age  SibSp  Parch     Fare Embarked  Title\n",
       "0         0       3    0    2      1      0   7.2500        S      3\n",
       "1         1       1    1    3      1      0  71.2833        C      4\n",
       "2         1       3    1    2      0      0   7.9250        S      2\n",
       "3         1       1    1    3      1      0  53.1000        S      4\n",
       "4         0       3    0    3      0      0   8.0500        S      3"
      ]
     },
     "execution_count": 26,
     "metadata": {},
     "output_type": "execute_result"
    }
   ],
   "source": [
    "train=train.drop('AgeRange',axis=1)\n",
    "combined=[train,test]\n",
    "train.head()"
   ]
  },
  {
   "cell_type": "markdown",
   "metadata": {},
   "source": [
    "We add the Family size instead of the Sibsp and parch features,also we may replace it with a new feature called Isalone to state if the passenger is alone or not.\n",
    "\n",
    "And let's see the correlation with the survived feature."
   ]
  },
  {
   "cell_type": "code",
   "execution_count": 27,
   "metadata": {},
   "outputs": [
    {
     "data": {
      "text/html": [
       "<div>\n",
       "<style scoped>\n",
       "    .dataframe tbody tr th:only-of-type {\n",
       "        vertical-align: middle;\n",
       "    }\n",
       "\n",
       "    .dataframe tbody tr th {\n",
       "        vertical-align: top;\n",
       "    }\n",
       "\n",
       "    .dataframe thead th {\n",
       "        text-align: right;\n",
       "    }\n",
       "</style>\n",
       "<table border=\"1\" class=\"dataframe\">\n",
       "  <thead>\n",
       "    <tr style=\"text-align: right;\">\n",
       "      <th></th>\n",
       "      <th>FamilySize</th>\n",
       "      <th>Survived</th>\n",
       "    </tr>\n",
       "  </thead>\n",
       "  <tbody>\n",
       "    <tr>\n",
       "      <th>0</th>\n",
       "      <td>1</td>\n",
       "      <td>0.303538</td>\n",
       "    </tr>\n",
       "    <tr>\n",
       "      <th>1</th>\n",
       "      <td>2</td>\n",
       "      <td>0.552795</td>\n",
       "    </tr>\n",
       "    <tr>\n",
       "      <th>2</th>\n",
       "      <td>3</td>\n",
       "      <td>0.578431</td>\n",
       "    </tr>\n",
       "    <tr>\n",
       "      <th>3</th>\n",
       "      <td>4</td>\n",
       "      <td>0.724138</td>\n",
       "    </tr>\n",
       "    <tr>\n",
       "      <th>4</th>\n",
       "      <td>5</td>\n",
       "      <td>0.200000</td>\n",
       "    </tr>\n",
       "    <tr>\n",
       "      <th>5</th>\n",
       "      <td>6</td>\n",
       "      <td>0.136364</td>\n",
       "    </tr>\n",
       "    <tr>\n",
       "      <th>6</th>\n",
       "      <td>7</td>\n",
       "      <td>0.333333</td>\n",
       "    </tr>\n",
       "    <tr>\n",
       "      <th>7</th>\n",
       "      <td>8</td>\n",
       "      <td>0.000000</td>\n",
       "    </tr>\n",
       "    <tr>\n",
       "      <th>8</th>\n",
       "      <td>11</td>\n",
       "      <td>0.000000</td>\n",
       "    </tr>\n",
       "  </tbody>\n",
       "</table>\n",
       "</div>"
      ],
      "text/plain": [
       "   FamilySize  Survived\n",
       "0           1  0.303538\n",
       "1           2  0.552795\n",
       "2           3  0.578431\n",
       "3           4  0.724138\n",
       "4           5  0.200000\n",
       "5           6  0.136364\n",
       "6           7  0.333333\n",
       "7           8  0.000000\n",
       "8          11  0.000000"
      ]
     },
     "execution_count": 27,
     "metadata": {},
     "output_type": "execute_result"
    }
   ],
   "source": [
    "for dataset in combined:\n",
    "    dataset['FamilySize']=dataset['SibSp']+dataset['Parch']+1\n",
    "train[['FamilySize','Survived']].groupby('FamilySize',as_index=False).mean().sort_values(by='FamilySize')    "
   ]
  },
  {
   "cell_type": "code",
   "execution_count": 28,
   "metadata": {},
   "outputs": [
    {
     "data": {
      "text/html": [
       "<div>\n",
       "<style scoped>\n",
       "    .dataframe tbody tr th:only-of-type {\n",
       "        vertical-align: middle;\n",
       "    }\n",
       "\n",
       "    .dataframe tbody tr th {\n",
       "        vertical-align: top;\n",
       "    }\n",
       "\n",
       "    .dataframe thead th {\n",
       "        text-align: right;\n",
       "    }\n",
       "</style>\n",
       "<table border=\"1\" class=\"dataframe\">\n",
       "  <thead>\n",
       "    <tr style=\"text-align: right;\">\n",
       "      <th></th>\n",
       "      <th>IsAlone</th>\n",
       "      <th>Survived</th>\n",
       "    </tr>\n",
       "  </thead>\n",
       "  <tbody>\n",
       "    <tr>\n",
       "      <th>0</th>\n",
       "      <td>0</td>\n",
       "      <td>0.505650</td>\n",
       "    </tr>\n",
       "    <tr>\n",
       "      <th>1</th>\n",
       "      <td>1</td>\n",
       "      <td>0.303538</td>\n",
       "    </tr>\n",
       "  </tbody>\n",
       "</table>\n",
       "</div>"
      ],
      "text/plain": [
       "   IsAlone  Survived\n",
       "0        0  0.505650\n",
       "1        1  0.303538"
      ]
     },
     "execution_count": 28,
     "metadata": {},
     "output_type": "execute_result"
    }
   ],
   "source": [
    "for dataset in combined:\n",
    "    dataset['IsAlone']=0\n",
    "    dataset.loc[dataset['FamilySize']==1,'IsAlone']=1\n",
    "train[['IsAlone','Survived']].groupby('IsAlone',as_index=False).mean().sort_values(by='IsAlone')      "
   ]
  },
  {
   "cell_type": "markdown",
   "metadata": {},
   "source": [
    "We drop the unused features."
   ]
  },
  {
   "cell_type": "code",
   "execution_count": 29,
   "metadata": {},
   "outputs": [
    {
     "data": {
      "text/html": [
       "<div>\n",
       "<style scoped>\n",
       "    .dataframe tbody tr th:only-of-type {\n",
       "        vertical-align: middle;\n",
       "    }\n",
       "\n",
       "    .dataframe tbody tr th {\n",
       "        vertical-align: top;\n",
       "    }\n",
       "\n",
       "    .dataframe thead th {\n",
       "        text-align: right;\n",
       "    }\n",
       "</style>\n",
       "<table border=\"1\" class=\"dataframe\">\n",
       "  <thead>\n",
       "    <tr style=\"text-align: right;\">\n",
       "      <th></th>\n",
       "      <th>Survived</th>\n",
       "      <th>Pclass</th>\n",
       "      <th>Sex</th>\n",
       "      <th>Age</th>\n",
       "      <th>Fare</th>\n",
       "      <th>Embarked</th>\n",
       "      <th>Title</th>\n",
       "      <th>IsAlone</th>\n",
       "    </tr>\n",
       "  </thead>\n",
       "  <tbody>\n",
       "    <tr>\n",
       "      <th>0</th>\n",
       "      <td>0</td>\n",
       "      <td>3</td>\n",
       "      <td>0</td>\n",
       "      <td>2</td>\n",
       "      <td>7.2500</td>\n",
       "      <td>S</td>\n",
       "      <td>3</td>\n",
       "      <td>0</td>\n",
       "    </tr>\n",
       "    <tr>\n",
       "      <th>1</th>\n",
       "      <td>1</td>\n",
       "      <td>1</td>\n",
       "      <td>1</td>\n",
       "      <td>3</td>\n",
       "      <td>71.2833</td>\n",
       "      <td>C</td>\n",
       "      <td>4</td>\n",
       "      <td>0</td>\n",
       "    </tr>\n",
       "    <tr>\n",
       "      <th>2</th>\n",
       "      <td>1</td>\n",
       "      <td>3</td>\n",
       "      <td>1</td>\n",
       "      <td>2</td>\n",
       "      <td>7.9250</td>\n",
       "      <td>S</td>\n",
       "      <td>2</td>\n",
       "      <td>1</td>\n",
       "    </tr>\n",
       "    <tr>\n",
       "      <th>3</th>\n",
       "      <td>1</td>\n",
       "      <td>1</td>\n",
       "      <td>1</td>\n",
       "      <td>3</td>\n",
       "      <td>53.1000</td>\n",
       "      <td>S</td>\n",
       "      <td>4</td>\n",
       "      <td>0</td>\n",
       "    </tr>\n",
       "    <tr>\n",
       "      <th>4</th>\n",
       "      <td>0</td>\n",
       "      <td>3</td>\n",
       "      <td>0</td>\n",
       "      <td>3</td>\n",
       "      <td>8.0500</td>\n",
       "      <td>S</td>\n",
       "      <td>3</td>\n",
       "      <td>1</td>\n",
       "    </tr>\n",
       "  </tbody>\n",
       "</table>\n",
       "</div>"
      ],
      "text/plain": [
       "   Survived  Pclass  Sex  Age     Fare Embarked  Title  IsAlone\n",
       "0         0       3    0    2   7.2500        S      3        0\n",
       "1         1       1    1    3  71.2833        C      4        0\n",
       "2         1       3    1    2   7.9250        S      2        1\n",
       "3         1       1    1    3  53.1000        S      4        0\n",
       "4         0       3    0    3   8.0500        S      3        1"
      ]
     },
     "execution_count": 29,
     "metadata": {},
     "output_type": "execute_result"
    }
   ],
   "source": [
    "train=train.drop(['SibSp','Parch','FamilySize'],axis=1)\n",
    "test=test.drop(['SibSp','Parch','FamilySize'],axis=1)\n",
    "combined=[train,test]\n",
    "train.head()"
   ]
  },
  {
   "cell_type": "markdown",
   "metadata": {},
   "source": [
    "Let's handle the Embarked in the training set by filling the missing values with the most frequent Embarked."
   ]
  },
  {
   "cell_type": "code",
   "execution_count": 30,
   "metadata": {},
   "outputs": [
    {
     "data": {
      "text/plain": [
       "'S'"
      ]
     },
     "execution_count": 30,
     "metadata": {},
     "output_type": "execute_result"
    }
   ],
   "source": [
    "freq=train.Embarked.dropna().mode()[0]\n",
    "freq"
   ]
  },
  {
   "cell_type": "code",
   "execution_count": 31,
   "metadata": {},
   "outputs": [
    {
     "name": "stdout",
     "output_type": "stream",
     "text": [
      "<class 'pandas.core.frame.DataFrame'>\n",
      "RangeIndex: 891 entries, 0 to 890\n",
      "Data columns (total 8 columns):\n",
      "Survived    891 non-null int64\n",
      "Pclass      891 non-null int64\n",
      "Sex         891 non-null int32\n",
      "Age         891 non-null int32\n",
      "Fare        891 non-null float64\n",
      "Embarked    891 non-null object\n",
      "Title       891 non-null int32\n",
      "IsAlone     891 non-null int64\n",
      "dtypes: float64(1), int32(3), int64(3), object(1)\n",
      "memory usage: 45.3+ KB\n"
     ]
    }
   ],
   "source": [
    "train.loc[train['Embarked'].isnull(),'Embarked']=freq\n",
    "train.info()"
   ]
  },
  {
   "cell_type": "markdown",
   "metadata": {},
   "source": [
    "Let's convert it to numeric to make it more managable."
   ]
  },
  {
   "cell_type": "code",
   "execution_count": 32,
   "metadata": {},
   "outputs": [
    {
     "data": {
      "text/html": [
       "<div>\n",
       "<style scoped>\n",
       "    .dataframe tbody tr th:only-of-type {\n",
       "        vertical-align: middle;\n",
       "    }\n",
       "\n",
       "    .dataframe tbody tr th {\n",
       "        vertical-align: top;\n",
       "    }\n",
       "\n",
       "    .dataframe thead th {\n",
       "        text-align: right;\n",
       "    }\n",
       "</style>\n",
       "<table border=\"1\" class=\"dataframe\">\n",
       "  <thead>\n",
       "    <tr style=\"text-align: right;\">\n",
       "      <th></th>\n",
       "      <th>Survived</th>\n",
       "      <th>Pclass</th>\n",
       "      <th>Sex</th>\n",
       "      <th>Age</th>\n",
       "      <th>Fare</th>\n",
       "      <th>Embarked</th>\n",
       "      <th>Title</th>\n",
       "      <th>IsAlone</th>\n",
       "    </tr>\n",
       "  </thead>\n",
       "  <tbody>\n",
       "    <tr>\n",
       "      <th>0</th>\n",
       "      <td>0</td>\n",
       "      <td>3</td>\n",
       "      <td>0</td>\n",
       "      <td>2</td>\n",
       "      <td>7.2500</td>\n",
       "      <td>2</td>\n",
       "      <td>3</td>\n",
       "      <td>0</td>\n",
       "    </tr>\n",
       "    <tr>\n",
       "      <th>1</th>\n",
       "      <td>1</td>\n",
       "      <td>1</td>\n",
       "      <td>1</td>\n",
       "      <td>3</td>\n",
       "      <td>71.2833</td>\n",
       "      <td>1</td>\n",
       "      <td>4</td>\n",
       "      <td>0</td>\n",
       "    </tr>\n",
       "    <tr>\n",
       "      <th>2</th>\n",
       "      <td>1</td>\n",
       "      <td>3</td>\n",
       "      <td>1</td>\n",
       "      <td>2</td>\n",
       "      <td>7.9250</td>\n",
       "      <td>2</td>\n",
       "      <td>2</td>\n",
       "      <td>1</td>\n",
       "    </tr>\n",
       "    <tr>\n",
       "      <th>3</th>\n",
       "      <td>1</td>\n",
       "      <td>1</td>\n",
       "      <td>1</td>\n",
       "      <td>3</td>\n",
       "      <td>53.1000</td>\n",
       "      <td>2</td>\n",
       "      <td>4</td>\n",
       "      <td>0</td>\n",
       "    </tr>\n",
       "    <tr>\n",
       "      <th>4</th>\n",
       "      <td>0</td>\n",
       "      <td>3</td>\n",
       "      <td>0</td>\n",
       "      <td>3</td>\n",
       "      <td>8.0500</td>\n",
       "      <td>2</td>\n",
       "      <td>3</td>\n",
       "      <td>1</td>\n",
       "    </tr>\n",
       "  </tbody>\n",
       "</table>\n",
       "</div>"
      ],
      "text/plain": [
       "   Survived  Pclass  Sex  Age     Fare  Embarked  Title  IsAlone\n",
       "0         0       3    0    2   7.2500         2      3        0\n",
       "1         1       1    1    3  71.2833         1      4        0\n",
       "2         1       3    1    2   7.9250         2      2        1\n",
       "3         1       1    1    3  53.1000         2      4        0\n",
       "4         0       3    0    3   8.0500         2      3        1"
      ]
     },
     "execution_count": 32,
     "metadata": {},
     "output_type": "execute_result"
    }
   ],
   "source": [
    "emb_map={'C':1,'S':2,'Q':3}\n",
    "for dataset in combined:\n",
    "    dataset['Embarked']=dataset['Embarked'].map(emb_map).astype(int)\n",
    "train.head()        "
   ]
  },
  {
   "cell_type": "markdown",
   "metadata": {},
   "source": [
    "We notice there is a missing value of the fare in the test set so let's put it and simplyify the numbers. "
   ]
  },
  {
   "cell_type": "code",
   "execution_count": 33,
   "metadata": {},
   "outputs": [
    {
     "name": "stdout",
     "output_type": "stream",
     "text": [
      "<class 'pandas.core.frame.DataFrame'>\n",
      "RangeIndex: 418 entries, 0 to 417\n",
      "Data columns (total 8 columns):\n",
      "PassengerId    418 non-null int64\n",
      "Pclass         418 non-null int64\n",
      "Sex            418 non-null int32\n",
      "Age            418 non-null int32\n",
      "Fare           418 non-null float64\n",
      "Embarked       418 non-null int32\n",
      "Title          418 non-null int32\n",
      "IsAlone        418 non-null int64\n",
      "dtypes: float64(1), int32(4), int64(3)\n",
      "memory usage: 19.7 KB\n"
     ]
    }
   ],
   "source": [
    "test['Fare'].fillna(test['Fare'].dropna().median(),inplace=True)\n",
    "test.info()"
   ]
  },
  {
   "cell_type": "code",
   "execution_count": 34,
   "metadata": {},
   "outputs": [
    {
     "data": {
      "text/html": [
       "<div>\n",
       "<style scoped>\n",
       "    .dataframe tbody tr th:only-of-type {\n",
       "        vertical-align: middle;\n",
       "    }\n",
       "\n",
       "    .dataframe tbody tr th {\n",
       "        vertical-align: top;\n",
       "    }\n",
       "\n",
       "    .dataframe thead th {\n",
       "        text-align: right;\n",
       "    }\n",
       "</style>\n",
       "<table border=\"1\" class=\"dataframe\">\n",
       "  <thead>\n",
       "    <tr style=\"text-align: right;\">\n",
       "      <th></th>\n",
       "      <th>FareRange</th>\n",
       "      <th>Survived</th>\n",
       "    </tr>\n",
       "  </thead>\n",
       "  <tbody>\n",
       "    <tr>\n",
       "      <th>0</th>\n",
       "      <td>(-0.001, 7.91]</td>\n",
       "      <td>0.197309</td>\n",
       "    </tr>\n",
       "    <tr>\n",
       "      <th>1</th>\n",
       "      <td>(7.91, 14.454]</td>\n",
       "      <td>0.303571</td>\n",
       "    </tr>\n",
       "    <tr>\n",
       "      <th>2</th>\n",
       "      <td>(14.454, 31.0]</td>\n",
       "      <td>0.454955</td>\n",
       "    </tr>\n",
       "    <tr>\n",
       "      <th>3</th>\n",
       "      <td>(31.0, 512.329]</td>\n",
       "      <td>0.581081</td>\n",
       "    </tr>\n",
       "  </tbody>\n",
       "</table>\n",
       "</div>"
      ],
      "text/plain": [
       "         FareRange  Survived\n",
       "0   (-0.001, 7.91]  0.197309\n",
       "1   (7.91, 14.454]  0.303571\n",
       "2   (14.454, 31.0]  0.454955\n",
       "3  (31.0, 512.329]  0.581081"
      ]
     },
     "execution_count": 34,
     "metadata": {},
     "output_type": "execute_result"
    }
   ],
   "source": [
    "train['FareRange']=pd.qcut(train['Fare'],4)\n",
    "train[['FareRange','Survived']].groupby('FareRange',as_index=False).mean().sort_values(by='FareRange')"
   ]
  },
  {
   "cell_type": "code",
   "execution_count": 35,
   "metadata": {},
   "outputs": [
    {
     "data": {
      "text/html": [
       "<div>\n",
       "<style scoped>\n",
       "    .dataframe tbody tr th:only-of-type {\n",
       "        vertical-align: middle;\n",
       "    }\n",
       "\n",
       "    .dataframe tbody tr th {\n",
       "        vertical-align: top;\n",
       "    }\n",
       "\n",
       "    .dataframe thead th {\n",
       "        text-align: right;\n",
       "    }\n",
       "</style>\n",
       "<table border=\"1\" class=\"dataframe\">\n",
       "  <thead>\n",
       "    <tr style=\"text-align: right;\">\n",
       "      <th></th>\n",
       "      <th>Survived</th>\n",
       "      <th>Pclass</th>\n",
       "      <th>Sex</th>\n",
       "      <th>Age</th>\n",
       "      <th>Fare</th>\n",
       "      <th>Embarked</th>\n",
       "      <th>Title</th>\n",
       "      <th>IsAlone</th>\n",
       "      <th>FareRange</th>\n",
       "    </tr>\n",
       "  </thead>\n",
       "  <tbody>\n",
       "    <tr>\n",
       "      <th>0</th>\n",
       "      <td>0</td>\n",
       "      <td>3</td>\n",
       "      <td>0</td>\n",
       "      <td>2</td>\n",
       "      <td>1</td>\n",
       "      <td>2</td>\n",
       "      <td>3</td>\n",
       "      <td>0</td>\n",
       "      <td>(-0.001, 7.91]</td>\n",
       "    </tr>\n",
       "    <tr>\n",
       "      <th>1</th>\n",
       "      <td>1</td>\n",
       "      <td>1</td>\n",
       "      <td>1</td>\n",
       "      <td>3</td>\n",
       "      <td>4</td>\n",
       "      <td>1</td>\n",
       "      <td>4</td>\n",
       "      <td>0</td>\n",
       "      <td>(31.0, 512.329]</td>\n",
       "    </tr>\n",
       "    <tr>\n",
       "      <th>2</th>\n",
       "      <td>1</td>\n",
       "      <td>3</td>\n",
       "      <td>1</td>\n",
       "      <td>2</td>\n",
       "      <td>2</td>\n",
       "      <td>2</td>\n",
       "      <td>2</td>\n",
       "      <td>1</td>\n",
       "      <td>(7.91, 14.454]</td>\n",
       "    </tr>\n",
       "    <tr>\n",
       "      <th>3</th>\n",
       "      <td>1</td>\n",
       "      <td>1</td>\n",
       "      <td>1</td>\n",
       "      <td>3</td>\n",
       "      <td>4</td>\n",
       "      <td>2</td>\n",
       "      <td>4</td>\n",
       "      <td>0</td>\n",
       "      <td>(31.0, 512.329]</td>\n",
       "    </tr>\n",
       "    <tr>\n",
       "      <th>4</th>\n",
       "      <td>0</td>\n",
       "      <td>3</td>\n",
       "      <td>0</td>\n",
       "      <td>3</td>\n",
       "      <td>2</td>\n",
       "      <td>2</td>\n",
       "      <td>3</td>\n",
       "      <td>1</td>\n",
       "      <td>(7.91, 14.454]</td>\n",
       "    </tr>\n",
       "  </tbody>\n",
       "</table>\n",
       "</div>"
      ],
      "text/plain": [
       "   Survived  Pclass  Sex  Age  Fare  Embarked  Title  IsAlone        FareRange\n",
       "0         0       3    0    2     1         2      3        0   (-0.001, 7.91]\n",
       "1         1       1    1    3     4         1      4        0  (31.0, 512.329]\n",
       "2         1       3    1    2     2         2      2        1   (7.91, 14.454]\n",
       "3         1       1    1    3     4         2      4        0  (31.0, 512.329]\n",
       "4         0       3    0    3     2         2      3        1   (7.91, 14.454]"
      ]
     },
     "execution_count": 35,
     "metadata": {},
     "output_type": "execute_result"
    }
   ],
   "source": [
    "for dataset in combined:\n",
    "    dataset.loc[dataset['Fare']<=7.91,'Fare']=1\n",
    "    dataset.loc[(dataset['Fare']>7.91)&(dataset['Fare']<=14.454),'Fare']=2\n",
    "    dataset.loc[(dataset['Fare']>14.454)&(dataset['Fare']<=31),'Fare']=3\n",
    "    dataset.loc[(dataset['Fare']>31)&(dataset['Age']<=512.329),'Fare']=4\n",
    "    dataset['Fare']=dataset['Fare'].astype(int)\n",
    "    \n",
    "train.head()    "
   ]
  },
  {
   "cell_type": "markdown",
   "metadata": {},
   "source": [
    "We drop the fare range.\n"
   ]
  },
  {
   "cell_type": "code",
   "execution_count": 36,
   "metadata": {},
   "outputs": [],
   "source": [
    "train=train.drop('FareRange',axis=1)\n",
    "combined=[train,test]"
   ]
  },
  {
   "cell_type": "code",
   "execution_count": 37,
   "metadata": {},
   "outputs": [
    {
     "data": {
      "text/html": [
       "<div>\n",
       "<style scoped>\n",
       "    .dataframe tbody tr th:only-of-type {\n",
       "        vertical-align: middle;\n",
       "    }\n",
       "\n",
       "    .dataframe tbody tr th {\n",
       "        vertical-align: top;\n",
       "    }\n",
       "\n",
       "    .dataframe thead th {\n",
       "        text-align: right;\n",
       "    }\n",
       "</style>\n",
       "<table border=\"1\" class=\"dataframe\">\n",
       "  <thead>\n",
       "    <tr style=\"text-align: right;\">\n",
       "      <th></th>\n",
       "      <th>Survived</th>\n",
       "      <th>Pclass</th>\n",
       "      <th>Sex</th>\n",
       "      <th>Age</th>\n",
       "      <th>Fare</th>\n",
       "      <th>Embarked</th>\n",
       "      <th>Title</th>\n",
       "      <th>IsAlone</th>\n",
       "    </tr>\n",
       "  </thead>\n",
       "  <tbody>\n",
       "    <tr>\n",
       "      <th>0</th>\n",
       "      <td>0</td>\n",
       "      <td>3</td>\n",
       "      <td>0</td>\n",
       "      <td>2</td>\n",
       "      <td>1</td>\n",
       "      <td>2</td>\n",
       "      <td>3</td>\n",
       "      <td>0</td>\n",
       "    </tr>\n",
       "    <tr>\n",
       "      <th>1</th>\n",
       "      <td>1</td>\n",
       "      <td>1</td>\n",
       "      <td>1</td>\n",
       "      <td>3</td>\n",
       "      <td>4</td>\n",
       "      <td>1</td>\n",
       "      <td>4</td>\n",
       "      <td>0</td>\n",
       "    </tr>\n",
       "    <tr>\n",
       "      <th>2</th>\n",
       "      <td>1</td>\n",
       "      <td>3</td>\n",
       "      <td>1</td>\n",
       "      <td>2</td>\n",
       "      <td>2</td>\n",
       "      <td>2</td>\n",
       "      <td>2</td>\n",
       "      <td>1</td>\n",
       "    </tr>\n",
       "    <tr>\n",
       "      <th>3</th>\n",
       "      <td>1</td>\n",
       "      <td>1</td>\n",
       "      <td>1</td>\n",
       "      <td>3</td>\n",
       "      <td>4</td>\n",
       "      <td>2</td>\n",
       "      <td>4</td>\n",
       "      <td>0</td>\n",
       "    </tr>\n",
       "    <tr>\n",
       "      <th>4</th>\n",
       "      <td>0</td>\n",
       "      <td>3</td>\n",
       "      <td>0</td>\n",
       "      <td>3</td>\n",
       "      <td>2</td>\n",
       "      <td>2</td>\n",
       "      <td>3</td>\n",
       "      <td>1</td>\n",
       "    </tr>\n",
       "  </tbody>\n",
       "</table>\n",
       "</div>"
      ],
      "text/plain": [
       "   Survived  Pclass  Sex  Age  Fare  Embarked  Title  IsAlone\n",
       "0         0       3    0    2     1         2      3        0\n",
       "1         1       1    1    3     4         1      4        0\n",
       "2         1       3    1    2     2         2      2        1\n",
       "3         1       1    1    3     4         2      4        0\n",
       "4         0       3    0    3     2         2      3        1"
      ]
     },
     "execution_count": 37,
     "metadata": {},
     "output_type": "execute_result"
    }
   ],
   "source": [
    "train.head()"
   ]
  },
  {
   "cell_type": "code",
   "execution_count": 38,
   "metadata": {},
   "outputs": [
    {
     "data": {
      "text/html": [
       "<div>\n",
       "<style scoped>\n",
       "    .dataframe tbody tr th:only-of-type {\n",
       "        vertical-align: middle;\n",
       "    }\n",
       "\n",
       "    .dataframe tbody tr th {\n",
       "        vertical-align: top;\n",
       "    }\n",
       "\n",
       "    .dataframe thead th {\n",
       "        text-align: right;\n",
       "    }\n",
       "</style>\n",
       "<table border=\"1\" class=\"dataframe\">\n",
       "  <thead>\n",
       "    <tr style=\"text-align: right;\">\n",
       "      <th></th>\n",
       "      <th>PassengerId</th>\n",
       "      <th>Pclass</th>\n",
       "      <th>Sex</th>\n",
       "      <th>Age</th>\n",
       "      <th>Fare</th>\n",
       "      <th>Embarked</th>\n",
       "      <th>Title</th>\n",
       "      <th>IsAlone</th>\n",
       "    </tr>\n",
       "  </thead>\n",
       "  <tbody>\n",
       "    <tr>\n",
       "      <th>0</th>\n",
       "      <td>892</td>\n",
       "      <td>3</td>\n",
       "      <td>0</td>\n",
       "      <td>3</td>\n",
       "      <td>1</td>\n",
       "      <td>3</td>\n",
       "      <td>3</td>\n",
       "      <td>1</td>\n",
       "    </tr>\n",
       "    <tr>\n",
       "      <th>1</th>\n",
       "      <td>893</td>\n",
       "      <td>3</td>\n",
       "      <td>1</td>\n",
       "      <td>3</td>\n",
       "      <td>1</td>\n",
       "      <td>2</td>\n",
       "      <td>4</td>\n",
       "      <td>0</td>\n",
       "    </tr>\n",
       "    <tr>\n",
       "      <th>2</th>\n",
       "      <td>894</td>\n",
       "      <td>2</td>\n",
       "      <td>0</td>\n",
       "      <td>4</td>\n",
       "      <td>2</td>\n",
       "      <td>3</td>\n",
       "      <td>3</td>\n",
       "      <td>1</td>\n",
       "    </tr>\n",
       "    <tr>\n",
       "      <th>3</th>\n",
       "      <td>895</td>\n",
       "      <td>3</td>\n",
       "      <td>0</td>\n",
       "      <td>2</td>\n",
       "      <td>2</td>\n",
       "      <td>2</td>\n",
       "      <td>3</td>\n",
       "      <td>1</td>\n",
       "    </tr>\n",
       "    <tr>\n",
       "      <th>4</th>\n",
       "      <td>896</td>\n",
       "      <td>3</td>\n",
       "      <td>1</td>\n",
       "      <td>2</td>\n",
       "      <td>2</td>\n",
       "      <td>2</td>\n",
       "      <td>4</td>\n",
       "      <td>0</td>\n",
       "    </tr>\n",
       "  </tbody>\n",
       "</table>\n",
       "</div>"
      ],
      "text/plain": [
       "   PassengerId  Pclass  Sex  Age  Fare  Embarked  Title  IsAlone\n",
       "0          892       3    0    3     1         3      3        1\n",
       "1          893       3    1    3     1         2      4        0\n",
       "2          894       2    0    4     2         3      3        1\n",
       "3          895       3    0    2     2         2      3        1\n",
       "4          896       3    1    2     2         2      4        0"
      ]
     },
     "execution_count": 38,
     "metadata": {},
     "output_type": "execute_result"
    }
   ],
   "source": [
    "test.head()"
   ]
  },
  {
   "cell_type": "markdown",
   "metadata": {},
   "source": [
    "### Step 4: Model, predict and solve the problem"
   ]
  },
  {
   "cell_type": "markdown",
   "metadata": {},
   "source": [
    "Now let's prepare the data to be entered into the model."
   ]
  },
  {
   "cell_type": "code",
   "execution_count": 41,
   "metadata": {},
   "outputs": [
    {
     "data": {
      "text/plain": [
       "((891, 7), (891,), (418, 7))"
      ]
     },
     "execution_count": 41,
     "metadata": {},
     "output_type": "execute_result"
    }
   ],
   "source": [
    "X_train=train.drop('Survived',axis=1).values\n",
    "Y_train=train['Survived'].values\n",
    "X_test=test.drop('PassengerId',axis=1).copy().values\n",
    "X_train.shape,Y_train.shape,X_test.shape"
   ]
  },
  {
   "cell_type": "code",
   "execution_count": 39,
   "metadata": {},
   "outputs": [],
   "source": [
    "from sklearn.model_selection import train_test_split\n"
   ]
  },
  {
   "cell_type": "code",
   "execution_count": 67,
   "metadata": {},
   "outputs": [
    {
     "name": "stdout",
     "output_type": "stream",
     "text": [
      "Train on 623 samples, validate on 268 samples\n",
      "Epoch 1/500\n",
      "623/623 - 1s - loss: 0.6614 - acc: 0.6051 - val_loss: 0.6023 - val_acc: 0.6418\n",
      "Epoch 2/500\n",
      "623/623 - 0s - loss: 0.6162 - acc: 0.6437 - val_loss: 0.5601 - val_acc: 0.7575\n",
      "Epoch 3/500\n",
      "623/623 - 0s - loss: 0.5923 - acc: 0.6854 - val_loss: 0.5355 - val_acc: 0.7425\n",
      "Epoch 4/500\n",
      "623/623 - 0s - loss: 0.5743 - acc: 0.6918 - val_loss: 0.5202 - val_acc: 0.7612\n",
      "Epoch 5/500\n",
      "623/623 - 0s - loss: 0.5620 - acc: 0.7175 - val_loss: 0.5084 - val_acc: 0.7724\n",
      "Epoch 6/500\n",
      "623/623 - 0s - loss: 0.5494 - acc: 0.7207 - val_loss: 0.4990 - val_acc: 0.7463\n",
      "Epoch 7/500\n",
      "623/623 - 0s - loss: 0.5395 - acc: 0.7352 - val_loss: 0.4893 - val_acc: 0.7612\n",
      "Epoch 8/500\n",
      "623/623 - 0s - loss: 0.5278 - acc: 0.7416 - val_loss: 0.4822 - val_acc: 0.7724\n",
      "Epoch 9/500\n",
      "623/623 - 0s - loss: 0.5186 - acc: 0.7608 - val_loss: 0.4742 - val_acc: 0.7724\n",
      "Epoch 10/500\n",
      "623/623 - 0s - loss: 0.5114 - acc: 0.7640 - val_loss: 0.4693 - val_acc: 0.7724\n",
      "Epoch 11/500\n",
      "623/623 - 0s - loss: 0.5049 - acc: 0.7801 - val_loss: 0.4623 - val_acc: 0.7649\n",
      "Epoch 12/500\n",
      "623/623 - 0s - loss: 0.4986 - acc: 0.7737 - val_loss: 0.4589 - val_acc: 0.7761\n",
      "Epoch 13/500\n",
      "623/623 - 0s - loss: 0.4916 - acc: 0.7913 - val_loss: 0.4556 - val_acc: 0.7612\n",
      "Epoch 14/500\n",
      "623/623 - 0s - loss: 0.4888 - acc: 0.7994 - val_loss: 0.4507 - val_acc: 0.7612\n",
      "Epoch 15/500\n",
      "623/623 - 0s - loss: 0.4833 - acc: 0.7897 - val_loss: 0.4496 - val_acc: 0.7799\n",
      "Epoch 16/500\n",
      "623/623 - 0s - loss: 0.4796 - acc: 0.7865 - val_loss: 0.4446 - val_acc: 0.7649\n",
      "Epoch 17/500\n",
      "623/623 - 0s - loss: 0.4770 - acc: 0.7881 - val_loss: 0.4465 - val_acc: 0.7836\n",
      "Epoch 18/500\n",
      "623/623 - 0s - loss: 0.4724 - acc: 0.7978 - val_loss: 0.4410 - val_acc: 0.7724\n",
      "Epoch 19/500\n",
      "623/623 - 0s - loss: 0.4705 - acc: 0.7897 - val_loss: 0.4395 - val_acc: 0.7836\n",
      "Epoch 20/500\n",
      "623/623 - 0s - loss: 0.4695 - acc: 0.7929 - val_loss: 0.4391 - val_acc: 0.7836\n",
      "Epoch 21/500\n",
      "623/623 - 0s - loss: 0.4675 - acc: 0.7865 - val_loss: 0.4392 - val_acc: 0.7836\n",
      "Epoch 22/500\n",
      "623/623 - 0s - loss: 0.4650 - acc: 0.7865 - val_loss: 0.4376 - val_acc: 0.7761\n",
      "Epoch 23/500\n",
      "623/623 - 0s - loss: 0.4631 - acc: 0.7978 - val_loss: 0.4369 - val_acc: 0.7836\n",
      "Epoch 24/500\n",
      "623/623 - 0s - loss: 0.4631 - acc: 0.7881 - val_loss: 0.4339 - val_acc: 0.7836\n",
      "Epoch 25/500\n",
      "623/623 - 0s - loss: 0.4622 - acc: 0.7881 - val_loss: 0.4341 - val_acc: 0.7836\n",
      "Epoch 26/500\n",
      "623/623 - 0s - loss: 0.4604 - acc: 0.7929 - val_loss: 0.4330 - val_acc: 0.7836\n",
      "Epoch 27/500\n",
      "623/623 - 0s - loss: 0.4590 - acc: 0.7929 - val_loss: 0.4317 - val_acc: 0.7836\n",
      "Epoch 28/500\n",
      "623/623 - 0s - loss: 0.4581 - acc: 0.7929 - val_loss: 0.4322 - val_acc: 0.7836\n",
      "Epoch 29/500\n",
      "623/623 - 0s - loss: 0.4584 - acc: 0.7929 - val_loss: 0.4321 - val_acc: 0.7836\n",
      "Epoch 30/500\n",
      "623/623 - 0s - loss: 0.4592 - acc: 0.7913 - val_loss: 0.4310 - val_acc: 0.7836\n",
      "Epoch 31/500\n",
      "623/623 - 0s - loss: 0.4656 - acc: 0.7929 - val_loss: 0.4287 - val_acc: 0.7836\n",
      "Epoch 32/500\n",
      "623/623 - 0s - loss: 0.4558 - acc: 0.7849 - val_loss: 0.4316 - val_acc: 0.7836\n",
      "Epoch 33/500\n",
      "623/623 - 0s - loss: 0.4548 - acc: 0.7929 - val_loss: 0.4288 - val_acc: 0.7836\n",
      "Epoch 34/500\n",
      "623/623 - 0s - loss: 0.4607 - acc: 0.7865 - val_loss: 0.4296 - val_acc: 0.7836\n",
      "Epoch 35/500\n",
      "623/623 - 0s - loss: 0.4570 - acc: 0.7945 - val_loss: 0.4276 - val_acc: 0.7836\n",
      "Epoch 36/500\n",
      "623/623 - 0s - loss: 0.4573 - acc: 0.7994 - val_loss: 0.4263 - val_acc: 0.7836\n",
      "Epoch 37/500\n",
      "623/623 - 0s - loss: 0.4589 - acc: 0.7881 - val_loss: 0.4317 - val_acc: 0.7910\n",
      "Epoch 38/500\n",
      "623/623 - 0s - loss: 0.4563 - acc: 0.7913 - val_loss: 0.4284 - val_acc: 0.7799\n",
      "Epoch 39/500\n",
      "623/623 - 0s - loss: 0.4513 - acc: 0.7945 - val_loss: 0.4289 - val_acc: 0.7836\n",
      "Epoch 40/500\n",
      "623/623 - 0s - loss: 0.4529 - acc: 0.7913 - val_loss: 0.4243 - val_acc: 0.7836\n",
      "Epoch 41/500\n",
      "623/623 - 0s - loss: 0.4508 - acc: 0.7913 - val_loss: 0.4244 - val_acc: 0.7836\n",
      "Epoch 42/500\n",
      "623/623 - 0s - loss: 0.4514 - acc: 0.7929 - val_loss: 0.4245 - val_acc: 0.7836\n",
      "Epoch 43/500\n",
      "623/623 - 0s - loss: 0.4502 - acc: 0.7945 - val_loss: 0.4244 - val_acc: 0.7836\n",
      "Epoch 44/500\n",
      "623/623 - 0s - loss: 0.4489 - acc: 0.7945 - val_loss: 0.4232 - val_acc: 0.7836\n",
      "Epoch 45/500\n",
      "623/623 - 0s - loss: 0.4487 - acc: 0.7945 - val_loss: 0.4217 - val_acc: 0.7836\n",
      "Epoch 46/500\n",
      "623/623 - 0s - loss: 0.4472 - acc: 0.7945 - val_loss: 0.4216 - val_acc: 0.7836\n",
      "Epoch 47/500\n",
      "623/623 - 0s - loss: 0.4506 - acc: 0.7929 - val_loss: 0.4219 - val_acc: 0.7836\n",
      "Epoch 48/500\n",
      "623/623 - 0s - loss: 0.4474 - acc: 0.7945 - val_loss: 0.4217 - val_acc: 0.7836\n",
      "Epoch 49/500\n",
      "623/623 - 0s - loss: 0.4463 - acc: 0.7945 - val_loss: 0.4213 - val_acc: 0.7836\n",
      "Epoch 50/500\n",
      "623/623 - 0s - loss: 0.4463 - acc: 0.7945 - val_loss: 0.4200 - val_acc: 0.7836\n",
      "Epoch 51/500\n",
      "623/623 - 0s - loss: 0.4453 - acc: 0.7945 - val_loss: 0.4198 - val_acc: 0.7836\n",
      "Epoch 52/500\n",
      "623/623 - 0s - loss: 0.4447 - acc: 0.7945 - val_loss: 0.4196 - val_acc: 0.7836\n",
      "Epoch 53/500\n",
      "623/623 - 0s - loss: 0.4452 - acc: 0.7929 - val_loss: 0.4184 - val_acc: 0.7836\n",
      "Epoch 54/500\n",
      "623/623 - 0s - loss: 0.4461 - acc: 0.7961 - val_loss: 0.4190 - val_acc: 0.7910\n",
      "Epoch 55/500\n",
      "623/623 - 0s - loss: 0.4440 - acc: 0.7929 - val_loss: 0.4194 - val_acc: 0.7836\n",
      "Epoch 56/500\n",
      "623/623 - 0s - loss: 0.4433 - acc: 0.7929 - val_loss: 0.4171 - val_acc: 0.7836\n",
      "Epoch 57/500\n",
      "623/623 - 0s - loss: 0.4449 - acc: 0.8010 - val_loss: 0.4153 - val_acc: 0.7873\n",
      "Epoch 58/500\n",
      "623/623 - 0s - loss: 0.4422 - acc: 0.7945 - val_loss: 0.4179 - val_acc: 0.7873\n",
      "Epoch 59/500\n",
      "623/623 - 0s - loss: 0.4451 - acc: 0.7929 - val_loss: 0.4152 - val_acc: 0.7836\n",
      "Epoch 60/500\n",
      "623/623 - 0s - loss: 0.4438 - acc: 0.7929 - val_loss: 0.4150 - val_acc: 0.7836\n",
      "Epoch 61/500\n",
      "623/623 - 0s - loss: 0.4416 - acc: 0.7945 - val_loss: 0.4146 - val_acc: 0.7836\n",
      "Epoch 62/500\n",
      "623/623 - 0s - loss: 0.4398 - acc: 0.7945 - val_loss: 0.4137 - val_acc: 0.7836\n",
      "Epoch 63/500\n",
      "623/623 - 0s - loss: 0.4408 - acc: 0.7945 - val_loss: 0.4153 - val_acc: 0.7836\n",
      "Epoch 64/500\n",
      "623/623 - 0s - loss: 0.4405 - acc: 0.7945 - val_loss: 0.4133 - val_acc: 0.7836\n",
      "Epoch 65/500\n",
      "623/623 - 0s - loss: 0.4420 - acc: 0.7961 - val_loss: 0.4109 - val_acc: 0.7910\n",
      "Epoch 66/500\n",
      "623/623 - 0s - loss: 0.4400 - acc: 0.7945 - val_loss: 0.4145 - val_acc: 0.7873\n",
      "Epoch 67/500\n",
      "623/623 - 0s - loss: 0.4407 - acc: 0.7994 - val_loss: 0.4108 - val_acc: 0.7948\n",
      "Epoch 68/500\n",
      "623/623 - 0s - loss: 0.4371 - acc: 0.7961 - val_loss: 0.4120 - val_acc: 0.7836\n",
      "Epoch 69/500\n",
      "623/623 - 0s - loss: 0.4371 - acc: 0.7961 - val_loss: 0.4115 - val_acc: 0.7836\n",
      "Epoch 70/500\n",
      "623/623 - 0s - loss: 0.4405 - acc: 0.7978 - val_loss: 0.4081 - val_acc: 0.7873\n",
      "Epoch 71/500\n",
      "623/623 - 0s - loss: 0.4350 - acc: 0.7978 - val_loss: 0.4140 - val_acc: 0.7873\n",
      "Epoch 72/500\n",
      "623/623 - 0s - loss: 0.4376 - acc: 0.8026 - val_loss: 0.4100 - val_acc: 0.7910\n",
      "Epoch 73/500\n",
      "623/623 - 0s - loss: 0.4358 - acc: 0.8010 - val_loss: 0.4107 - val_acc: 0.7873\n",
      "Epoch 74/500\n",
      "623/623 - 0s - loss: 0.4349 - acc: 0.7945 - val_loss: 0.4089 - val_acc: 0.7910\n",
      "Epoch 75/500\n",
      "623/623 - 0s - loss: 0.4356 - acc: 0.8058 - val_loss: 0.4084 - val_acc: 0.7910\n",
      "Epoch 76/500\n",
      "623/623 - 0s - loss: 0.4386 - acc: 0.7994 - val_loss: 0.4100 - val_acc: 0.7873\n",
      "Epoch 77/500\n",
      "623/623 - 0s - loss: 0.4386 - acc: 0.8010 - val_loss: 0.4070 - val_acc: 0.7873\n",
      "Epoch 78/500\n",
      "623/623 - 0s - loss: 0.4387 - acc: 0.7994 - val_loss: 0.4106 - val_acc: 0.7873\n",
      "Epoch 79/500\n",
      "623/623 - 0s - loss: 0.4380 - acc: 0.8010 - val_loss: 0.4068 - val_acc: 0.7910\n",
      "Epoch 80/500\n",
      "623/623 - 0s - loss: 0.4329 - acc: 0.8026 - val_loss: 0.4062 - val_acc: 0.7910\n",
      "Epoch 81/500\n",
      "623/623 - 0s - loss: 0.4326 - acc: 0.8058 - val_loss: 0.4058 - val_acc: 0.7910\n",
      "Epoch 82/500\n",
      "623/623 - 0s - loss: 0.4342 - acc: 0.8042 - val_loss: 0.4072 - val_acc: 0.7948\n",
      "Epoch 83/500\n",
      "623/623 - 0s - loss: 0.4339 - acc: 0.8106 - val_loss: 0.4062 - val_acc: 0.8134\n",
      "Epoch 84/500\n",
      "623/623 - 0s - loss: 0.4325 - acc: 0.8010 - val_loss: 0.4065 - val_acc: 0.7873\n",
      "Epoch 85/500\n",
      "623/623 - 0s - loss: 0.4304 - acc: 0.8058 - val_loss: 0.4049 - val_acc: 0.7910\n",
      "Epoch 86/500\n",
      "623/623 - 0s - loss: 0.4305 - acc: 0.8074 - val_loss: 0.4040 - val_acc: 0.7985\n",
      "Epoch 87/500\n",
      "623/623 - 0s - loss: 0.4299 - acc: 0.8106 - val_loss: 0.4036 - val_acc: 0.7910\n",
      "Epoch 88/500\n",
      "623/623 - 0s - loss: 0.4308 - acc: 0.8042 - val_loss: 0.4051 - val_acc: 0.7910\n",
      "Epoch 89/500\n",
      "623/623 - 0s - loss: 0.4307 - acc: 0.8106 - val_loss: 0.4029 - val_acc: 0.7910\n",
      "Epoch 90/500\n",
      "623/623 - 0s - loss: 0.4293 - acc: 0.8074 - val_loss: 0.4059 - val_acc: 0.7910\n",
      "Epoch 91/500\n",
      "623/623 - 0s - loss: 0.4303 - acc: 0.7978 - val_loss: 0.4034 - val_acc: 0.7910\n",
      "Epoch 92/500\n",
      "623/623 - 0s - loss: 0.4289 - acc: 0.8186 - val_loss: 0.4026 - val_acc: 0.7948\n",
      "Epoch 93/500\n",
      "623/623 - 0s - loss: 0.4308 - acc: 0.8042 - val_loss: 0.4035 - val_acc: 0.7948\n",
      "Epoch 94/500\n",
      "623/623 - 0s - loss: 0.4279 - acc: 0.8090 - val_loss: 0.4009 - val_acc: 0.8060\n",
      "Epoch 95/500\n",
      "623/623 - 0s - loss: 0.4274 - acc: 0.8058 - val_loss: 0.4019 - val_acc: 0.7910\n",
      "Epoch 96/500\n",
      "623/623 - 0s - loss: 0.4277 - acc: 0.8074 - val_loss: 0.4019 - val_acc: 0.7985\n",
      "Epoch 97/500\n",
      "623/623 - 0s - loss: 0.4288 - acc: 0.8042 - val_loss: 0.4026 - val_acc: 0.7910\n",
      "Epoch 98/500\n",
      "623/623 - 0s - loss: 0.4263 - acc: 0.8122 - val_loss: 0.4012 - val_acc: 0.8246\n",
      "Epoch 99/500\n",
      "623/623 - 0s - loss: 0.4287 - acc: 0.8074 - val_loss: 0.4030 - val_acc: 0.7985\n",
      "Epoch 100/500\n",
      "623/623 - 0s - loss: 0.4275 - acc: 0.8154 - val_loss: 0.4007 - val_acc: 0.7985\n",
      "Epoch 101/500\n",
      "623/623 - 0s - loss: 0.4268 - acc: 0.8202 - val_loss: 0.4013 - val_acc: 0.7948\n",
      "Epoch 102/500\n",
      "623/623 - 0s - loss: 0.4287 - acc: 0.8026 - val_loss: 0.4003 - val_acc: 0.7985\n",
      "Epoch 103/500\n",
      "623/623 - 0s - loss: 0.4252 - acc: 0.8186 - val_loss: 0.3987 - val_acc: 0.8246\n",
      "Epoch 104/500\n",
      "623/623 - 0s - loss: 0.4249 - acc: 0.8138 - val_loss: 0.4023 - val_acc: 0.8060\n",
      "Epoch 105/500\n",
      "623/623 - 0s - loss: 0.4267 - acc: 0.8074 - val_loss: 0.3993 - val_acc: 0.8172\n",
      "Epoch 106/500\n",
      "623/623 - 0s - loss: 0.4247 - acc: 0.8218 - val_loss: 0.4001 - val_acc: 0.8022\n",
      "Epoch 107/500\n",
      "623/623 - 0s - loss: 0.4244 - acc: 0.8106 - val_loss: 0.4010 - val_acc: 0.8022\n",
      "Epoch 108/500\n",
      "623/623 - 0s - loss: 0.4247 - acc: 0.8154 - val_loss: 0.3985 - val_acc: 0.8060\n",
      "Epoch 109/500\n",
      "623/623 - 0s - loss: 0.4245 - acc: 0.8202 - val_loss: 0.3982 - val_acc: 0.8172\n",
      "Epoch 110/500\n",
      "623/623 - 0s - loss: 0.4239 - acc: 0.8218 - val_loss: 0.3976 - val_acc: 0.8134\n",
      "Epoch 111/500\n",
      "623/623 - 0s - loss: 0.4231 - acc: 0.8170 - val_loss: 0.3997 - val_acc: 0.8134\n",
      "Epoch 112/500\n",
      "623/623 - 0s - loss: 0.4247 - acc: 0.8138 - val_loss: 0.3999 - val_acc: 0.8097\n",
      "Epoch 113/500\n",
      "623/623 - 0s - loss: 0.4227 - acc: 0.8218 - val_loss: 0.3997 - val_acc: 0.8134\n",
      "Epoch 114/500\n",
      "623/623 - 0s - loss: 0.4223 - acc: 0.8186 - val_loss: 0.3970 - val_acc: 0.8134\n",
      "Epoch 115/500\n",
      "623/623 - 0s - loss: 0.4224 - acc: 0.8122 - val_loss: 0.3965 - val_acc: 0.8060\n",
      "Epoch 116/500\n",
      "623/623 - 0s - loss: 0.4237 - acc: 0.8138 - val_loss: 0.3967 - val_acc: 0.8097\n",
      "Epoch 117/500\n",
      "623/623 - 0s - loss: 0.4240 - acc: 0.8234 - val_loss: 0.3980 - val_acc: 0.8209\n",
      "Epoch 118/500\n",
      "623/623 - 0s - loss: 0.4226 - acc: 0.8154 - val_loss: 0.3956 - val_acc: 0.8246\n",
      "Epoch 119/500\n",
      "623/623 - 0s - loss: 0.4225 - acc: 0.8122 - val_loss: 0.3972 - val_acc: 0.8246\n",
      "Epoch 120/500\n",
      "623/623 - 0s - loss: 0.4227 - acc: 0.8186 - val_loss: 0.3957 - val_acc: 0.8246\n",
      "Epoch 121/500\n",
      "623/623 - 0s - loss: 0.4292 - acc: 0.8122 - val_loss: 0.3970 - val_acc: 0.8134\n",
      "Epoch 122/500\n",
      "623/623 - 0s - loss: 0.4223 - acc: 0.8122 - val_loss: 0.3962 - val_acc: 0.8246\n",
      "Epoch 123/500\n",
      "623/623 - 0s - loss: 0.4205 - acc: 0.8122 - val_loss: 0.3970 - val_acc: 0.8209\n",
      "Epoch 124/500\n",
      "623/623 - 0s - loss: 0.4204 - acc: 0.8138 - val_loss: 0.3967 - val_acc: 0.8209\n",
      "Epoch 125/500\n",
      "623/623 - 0s - loss: 0.4216 - acc: 0.8250 - val_loss: 0.3949 - val_acc: 0.8209\n",
      "Epoch 126/500\n",
      "623/623 - 0s - loss: 0.4218 - acc: 0.8138 - val_loss: 0.3961 - val_acc: 0.8209\n",
      "Epoch 127/500\n",
      "623/623 - 0s - loss: 0.4202 - acc: 0.8186 - val_loss: 0.3949 - val_acc: 0.8246\n",
      "Epoch 128/500\n",
      "623/623 - 0s - loss: 0.4207 - acc: 0.8250 - val_loss: 0.3946 - val_acc: 0.8284\n",
      "Epoch 129/500\n",
      "623/623 - 0s - loss: 0.4197 - acc: 0.8186 - val_loss: 0.3984 - val_acc: 0.8209\n",
      "Epoch 130/500\n",
      "623/623 - 0s - loss: 0.4206 - acc: 0.8170 - val_loss: 0.3952 - val_acc: 0.8209\n",
      "Epoch 131/500\n",
      "623/623 - 0s - loss: 0.4206 - acc: 0.8218 - val_loss: 0.3948 - val_acc: 0.8209\n",
      "Epoch 132/500\n",
      "623/623 - 0s - loss: 0.4204 - acc: 0.8202 - val_loss: 0.3936 - val_acc: 0.8321\n",
      "Epoch 133/500\n",
      "623/623 - 0s - loss: 0.4181 - acc: 0.8234 - val_loss: 0.3952 - val_acc: 0.8209\n",
      "Epoch 134/500\n",
      "623/623 - 0s - loss: 0.4181 - acc: 0.8250 - val_loss: 0.3940 - val_acc: 0.8172\n",
      "Epoch 135/500\n",
      "623/623 - 0s - loss: 0.4197 - acc: 0.8250 - val_loss: 0.3953 - val_acc: 0.8321\n",
      "Epoch 136/500\n",
      "623/623 - 0s - loss: 0.4180 - acc: 0.8250 - val_loss: 0.3950 - val_acc: 0.8209\n",
      "Epoch 137/500\n",
      "623/623 - 0s - loss: 0.4186 - acc: 0.8234 - val_loss: 0.3941 - val_acc: 0.8246\n",
      "Epoch 138/500\n",
      "623/623 - 0s - loss: 0.4172 - acc: 0.8234 - val_loss: 0.3909 - val_acc: 0.8358\n",
      "Epoch 139/500\n",
      "623/623 - 0s - loss: 0.4201 - acc: 0.8186 - val_loss: 0.3950 - val_acc: 0.8321\n",
      "Epoch 140/500\n",
      "623/623 - 0s - loss: 0.4185 - acc: 0.8234 - val_loss: 0.3941 - val_acc: 0.8209\n",
      "Epoch 141/500\n",
      "623/623 - 0s - loss: 0.4172 - acc: 0.8331 - val_loss: 0.3912 - val_acc: 0.8321\n",
      "Epoch 142/500\n",
      "623/623 - 0s - loss: 0.4194 - acc: 0.8283 - val_loss: 0.3945 - val_acc: 0.8209\n",
      "Epoch 143/500\n",
      "623/623 - 0s - loss: 0.4173 - acc: 0.8234 - val_loss: 0.3924 - val_acc: 0.8284\n",
      "Epoch 144/500\n",
      "623/623 - 0s - loss: 0.4181 - acc: 0.8299 - val_loss: 0.3960 - val_acc: 0.8209\n",
      "Epoch 145/500\n",
      "623/623 - 0s - loss: 0.4151 - acc: 0.8218 - val_loss: 0.3937 - val_acc: 0.8358\n",
      "Epoch 146/500\n",
      "623/623 - 0s - loss: 0.4193 - acc: 0.8218 - val_loss: 0.3912 - val_acc: 0.8209\n",
      "Epoch 147/500\n",
      "623/623 - 0s - loss: 0.4184 - acc: 0.8218 - val_loss: 0.3927 - val_acc: 0.8321\n",
      "Epoch 148/500\n",
      "623/623 - 0s - loss: 0.4149 - acc: 0.8266 - val_loss: 0.3925 - val_acc: 0.8209\n",
      "Epoch 149/500\n",
      "623/623 - 0s - loss: 0.4148 - acc: 0.8234 - val_loss: 0.3925 - val_acc: 0.8209\n",
      "Epoch 150/500\n",
      "623/623 - 0s - loss: 0.4144 - acc: 0.8234 - val_loss: 0.3929 - val_acc: 0.8321\n",
      "Epoch 151/500\n",
      "623/623 - 0s - loss: 0.4148 - acc: 0.8266 - val_loss: 0.3919 - val_acc: 0.8209\n",
      "Epoch 152/500\n",
      "623/623 - 0s - loss: 0.4142 - acc: 0.8266 - val_loss: 0.3916 - val_acc: 0.8209\n",
      "Epoch 153/500\n",
      "623/623 - 0s - loss: 0.4139 - acc: 0.8315 - val_loss: 0.3910 - val_acc: 0.8321\n",
      "Epoch 154/500\n",
      "623/623 - 0s - loss: 0.4140 - acc: 0.8266 - val_loss: 0.3927 - val_acc: 0.8246\n",
      "Epoch 155/500\n",
      "623/623 - 0s - loss: 0.4138 - acc: 0.8266 - val_loss: 0.3915 - val_acc: 0.8172\n",
      "Epoch 156/500\n",
      "623/623 - 0s - loss: 0.4187 - acc: 0.8218 - val_loss: 0.3917 - val_acc: 0.8209\n",
      "Epoch 157/500\n",
      "623/623 - 0s - loss: 0.4274 - acc: 0.8154 - val_loss: 0.3896 - val_acc: 0.8321\n",
      "Epoch 158/500\n",
      "623/623 - 0s - loss: 0.4199 - acc: 0.8106 - val_loss: 0.4010 - val_acc: 0.8134\n",
      "Epoch 159/500\n",
      "623/623 - 0s - loss: 0.4151 - acc: 0.8283 - val_loss: 0.3921 - val_acc: 0.8246\n",
      "Epoch 160/500\n",
      "623/623 - 0s - loss: 0.4225 - acc: 0.8234 - val_loss: 0.3953 - val_acc: 0.8284\n",
      "Epoch 161/500\n",
      "623/623 - 0s - loss: 0.4120 - acc: 0.8283 - val_loss: 0.3925 - val_acc: 0.8358\n",
      "Epoch 162/500\n",
      "623/623 - 0s - loss: 0.4145 - acc: 0.8218 - val_loss: 0.3922 - val_acc: 0.8246\n",
      "Epoch 163/500\n",
      "623/623 - 0s - loss: 0.4138 - acc: 0.8186 - val_loss: 0.3894 - val_acc: 0.8209\n",
      "Epoch 164/500\n",
      "623/623 - 0s - loss: 0.4121 - acc: 0.8218 - val_loss: 0.3903 - val_acc: 0.8209\n",
      "Epoch 165/500\n",
      "623/623 - 0s - loss: 0.4132 - acc: 0.8186 - val_loss: 0.3898 - val_acc: 0.8321\n",
      "Epoch 166/500\n",
      "623/623 - 0s - loss: 0.4153 - acc: 0.8299 - val_loss: 0.3904 - val_acc: 0.8358\n",
      "Epoch 167/500\n",
      "623/623 - 0s - loss: 0.4127 - acc: 0.8315 - val_loss: 0.3908 - val_acc: 0.8246\n",
      "Epoch 168/500\n",
      "623/623 - 0s - loss: 0.4151 - acc: 0.8315 - val_loss: 0.3887 - val_acc: 0.8358\n",
      "Epoch 169/500\n",
      "623/623 - 0s - loss: 0.4103 - acc: 0.8331 - val_loss: 0.3939 - val_acc: 0.8246\n",
      "Epoch 170/500\n",
      "623/623 - 0s - loss: 0.4124 - acc: 0.8299 - val_loss: 0.3890 - val_acc: 0.8358\n",
      "Epoch 171/500\n",
      "623/623 - 0s - loss: 0.4122 - acc: 0.8315 - val_loss: 0.3883 - val_acc: 0.8321\n",
      "Epoch 172/500\n",
      "623/623 - 0s - loss: 0.4111 - acc: 0.8234 - val_loss: 0.3902 - val_acc: 0.8246\n",
      "Epoch 173/500\n",
      "623/623 - 0s - loss: 0.4129 - acc: 0.8234 - val_loss: 0.3887 - val_acc: 0.8433\n",
      "Epoch 174/500\n",
      "623/623 - 0s - loss: 0.4103 - acc: 0.8315 - val_loss: 0.3945 - val_acc: 0.8246\n",
      "Epoch 175/500\n",
      "623/623 - 0s - loss: 0.4099 - acc: 0.8266 - val_loss: 0.3891 - val_acc: 0.8358\n",
      "Epoch 176/500\n",
      "623/623 - 0s - loss: 0.4101 - acc: 0.8299 - val_loss: 0.3888 - val_acc: 0.8358\n",
      "Epoch 177/500\n",
      "623/623 - 0s - loss: 0.4111 - acc: 0.8283 - val_loss: 0.3915 - val_acc: 0.8246\n",
      "Epoch 178/500\n",
      "623/623 - 0s - loss: 0.4104 - acc: 0.8234 - val_loss: 0.3888 - val_acc: 0.8358\n",
      "Epoch 179/500\n",
      "623/623 - 0s - loss: 0.4140 - acc: 0.8266 - val_loss: 0.3864 - val_acc: 0.8358\n",
      "Epoch 180/500\n",
      "623/623 - 0s - loss: 0.4092 - acc: 0.8283 - val_loss: 0.3892 - val_acc: 0.8321\n",
      "Epoch 181/500\n",
      "623/623 - 0s - loss: 0.4090 - acc: 0.8283 - val_loss: 0.3894 - val_acc: 0.8209\n",
      "Epoch 182/500\n",
      "623/623 - 0s - loss: 0.4088 - acc: 0.8283 - val_loss: 0.3895 - val_acc: 0.8209\n",
      "Epoch 183/500\n",
      "623/623 - 0s - loss: 0.4092 - acc: 0.8283 - val_loss: 0.3862 - val_acc: 0.8321\n",
      "Epoch 184/500\n",
      "623/623 - 0s - loss: 0.4099 - acc: 0.8283 - val_loss: 0.3883 - val_acc: 0.8321\n",
      "Epoch 185/500\n",
      "623/623 - 0s - loss: 0.4100 - acc: 0.8250 - val_loss: 0.3908 - val_acc: 0.8246\n",
      "Epoch 186/500\n",
      "623/623 - 0s - loss: 0.4072 - acc: 0.8299 - val_loss: 0.3874 - val_acc: 0.8396\n",
      "Epoch 187/500\n",
      "623/623 - 0s - loss: 0.4101 - acc: 0.8299 - val_loss: 0.3927 - val_acc: 0.8246\n",
      "Epoch 188/500\n",
      "623/623 - 0s - loss: 0.4076 - acc: 0.8363 - val_loss: 0.3864 - val_acc: 0.8396\n",
      "Epoch 189/500\n",
      "623/623 - 0s - loss: 0.4106 - acc: 0.8266 - val_loss: 0.3889 - val_acc: 0.8246\n",
      "Epoch 190/500\n",
      "623/623 - 0s - loss: 0.4089 - acc: 0.8266 - val_loss: 0.3868 - val_acc: 0.8358\n",
      "Epoch 191/500\n",
      "623/623 - 0s - loss: 0.4093 - acc: 0.8218 - val_loss: 0.3894 - val_acc: 0.8209\n",
      "Epoch 192/500\n",
      "623/623 - 0s - loss: 0.4095 - acc: 0.8315 - val_loss: 0.3871 - val_acc: 0.8358\n",
      "Epoch 193/500\n",
      "623/623 - 0s - loss: 0.4102 - acc: 0.8299 - val_loss: 0.3866 - val_acc: 0.8358\n",
      "Epoch 194/500\n",
      "623/623 - 0s - loss: 0.4068 - acc: 0.8283 - val_loss: 0.3859 - val_acc: 0.8209\n",
      "Epoch 195/500\n",
      "623/623 - 0s - loss: 0.4064 - acc: 0.8250 - val_loss: 0.3876 - val_acc: 0.8209\n",
      "Epoch 196/500\n",
      "623/623 - 0s - loss: 0.4079 - acc: 0.8250 - val_loss: 0.3889 - val_acc: 0.8321\n",
      "Epoch 197/500\n",
      "623/623 - 0s - loss: 0.4091 - acc: 0.8250 - val_loss: 0.3852 - val_acc: 0.8358\n",
      "Epoch 198/500\n",
      "623/623 - 0s - loss: 0.4089 - acc: 0.8363 - val_loss: 0.3913 - val_acc: 0.8246\n",
      "Epoch 199/500\n",
      "623/623 - 0s - loss: 0.4081 - acc: 0.8283 - val_loss: 0.3857 - val_acc: 0.8396\n",
      "Epoch 200/500\n",
      "623/623 - 0s - loss: 0.4055 - acc: 0.8283 - val_loss: 0.3862 - val_acc: 0.8209\n",
      "Epoch 201/500\n",
      "623/623 - 0s - loss: 0.4058 - acc: 0.8283 - val_loss: 0.3854 - val_acc: 0.8321\n",
      "Epoch 202/500\n",
      "623/623 - 0s - loss: 0.4063 - acc: 0.8266 - val_loss: 0.3867 - val_acc: 0.8321\n",
      "Epoch 203/500\n",
      "623/623 - 0s - loss: 0.4095 - acc: 0.8347 - val_loss: 0.3888 - val_acc: 0.8321\n",
      "Epoch 204/500\n",
      "623/623 - 0s - loss: 0.4078 - acc: 0.8266 - val_loss: 0.3844 - val_acc: 0.8284\n",
      "Epoch 205/500\n",
      "623/623 - 0s - loss: 0.4043 - acc: 0.8347 - val_loss: 0.3864 - val_acc: 0.8396\n",
      "Epoch 206/500\n",
      "623/623 - 0s - loss: 0.4064 - acc: 0.8299 - val_loss: 0.3847 - val_acc: 0.8209\n",
      "Epoch 207/500\n",
      "623/623 - 0s - loss: 0.4049 - acc: 0.8234 - val_loss: 0.3855 - val_acc: 0.8209\n",
      "Epoch 208/500\n",
      "623/623 - 0s - loss: 0.4034 - acc: 0.8266 - val_loss: 0.3866 - val_acc: 0.8358\n",
      "Epoch 209/500\n",
      "623/623 - 0s - loss: 0.4046 - acc: 0.8331 - val_loss: 0.3876 - val_acc: 0.8321\n",
      "Epoch 210/500\n",
      "623/623 - 0s - loss: 0.4036 - acc: 0.8266 - val_loss: 0.3845 - val_acc: 0.8396\n",
      "Epoch 211/500\n",
      "623/623 - 0s - loss: 0.4045 - acc: 0.8299 - val_loss: 0.3847 - val_acc: 0.8284\n",
      "Epoch 212/500\n",
      "623/623 - 0s - loss: 0.4035 - acc: 0.8266 - val_loss: 0.3846 - val_acc: 0.8321\n",
      "Epoch 213/500\n",
      "623/623 - 0s - loss: 0.4036 - acc: 0.8283 - val_loss: 0.3864 - val_acc: 0.8321\n",
      "Epoch 214/500\n",
      "623/623 - 0s - loss: 0.4026 - acc: 0.8315 - val_loss: 0.3832 - val_acc: 0.8396\n",
      "Epoch 215/500\n",
      "623/623 - 0s - loss: 0.4028 - acc: 0.8331 - val_loss: 0.3840 - val_acc: 0.8321\n",
      "Epoch 216/500\n",
      "623/623 - 0s - loss: 0.4050 - acc: 0.8250 - val_loss: 0.3844 - val_acc: 0.8396\n",
      "Epoch 217/500\n",
      "623/623 - 0s - loss: 0.4047 - acc: 0.8299 - val_loss: 0.3818 - val_acc: 0.8358\n",
      "Epoch 218/500\n",
      "623/623 - 0s - loss: 0.4038 - acc: 0.8347 - val_loss: 0.3854 - val_acc: 0.8396\n",
      "Epoch 219/500\n",
      "623/623 - 0s - loss: 0.4045 - acc: 0.8218 - val_loss: 0.3852 - val_acc: 0.8321\n",
      "Epoch 220/500\n",
      "623/623 - 0s - loss: 0.4039 - acc: 0.8331 - val_loss: 0.3805 - val_acc: 0.8396\n",
      "Epoch 221/500\n",
      "623/623 - 0s - loss: 0.4047 - acc: 0.8234 - val_loss: 0.3862 - val_acc: 0.8284\n",
      "Epoch 222/500\n",
      "623/623 - 0s - loss: 0.4018 - acc: 0.8347 - val_loss: 0.3826 - val_acc: 0.8396\n",
      "Epoch 223/500\n",
      "623/623 - 0s - loss: 0.4014 - acc: 0.8315 - val_loss: 0.3851 - val_acc: 0.8321\n",
      "Epoch 224/500\n",
      "623/623 - 0s - loss: 0.4005 - acc: 0.8299 - val_loss: 0.3833 - val_acc: 0.8396\n",
      "Epoch 225/500\n",
      "623/623 - 0s - loss: 0.4008 - acc: 0.8315 - val_loss: 0.3829 - val_acc: 0.8358\n",
      "Epoch 226/500\n",
      "623/623 - 0s - loss: 0.4009 - acc: 0.8283 - val_loss: 0.3841 - val_acc: 0.8209\n",
      "Epoch 227/500\n",
      "623/623 - 0s - loss: 0.4036 - acc: 0.8299 - val_loss: 0.3820 - val_acc: 0.8358\n",
      "Epoch 228/500\n",
      "623/623 - 0s - loss: 0.4003 - acc: 0.8299 - val_loss: 0.3868 - val_acc: 0.8358\n",
      "Epoch 229/500\n",
      "623/623 - 0s - loss: 0.4011 - acc: 0.8299 - val_loss: 0.3832 - val_acc: 0.8358\n",
      "Epoch 230/500\n",
      "623/623 - 0s - loss: 0.4001 - acc: 0.8315 - val_loss: 0.3837 - val_acc: 0.8358\n",
      "Epoch 231/500\n",
      "623/623 - 0s - loss: 0.4009 - acc: 0.8363 - val_loss: 0.3835 - val_acc: 0.8396\n",
      "Epoch 232/500\n",
      "623/623 - 0s - loss: 0.4011 - acc: 0.8331 - val_loss: 0.3831 - val_acc: 0.8284\n",
      "Epoch 233/500\n",
      "623/623 - 0s - loss: 0.4015 - acc: 0.8283 - val_loss: 0.3835 - val_acc: 0.8358\n",
      "Epoch 234/500\n",
      "623/623 - 0s - loss: 0.4030 - acc: 0.8363 - val_loss: 0.3828 - val_acc: 0.8396\n",
      "Epoch 235/500\n",
      "623/623 - 0s - loss: 0.4015 - acc: 0.8315 - val_loss: 0.3820 - val_acc: 0.8396\n",
      "Epoch 236/500\n",
      "623/623 - 0s - loss: 0.4031 - acc: 0.8250 - val_loss: 0.3851 - val_acc: 0.8358\n",
      "Epoch 237/500\n",
      "623/623 - 0s - loss: 0.4042 - acc: 0.8363 - val_loss: 0.3834 - val_acc: 0.8396\n",
      "Epoch 238/500\n",
      "623/623 - 0s - loss: 0.3994 - acc: 0.8299 - val_loss: 0.3854 - val_acc: 0.8396\n",
      "Epoch 239/500\n",
      "623/623 - 0s - loss: 0.4015 - acc: 0.8315 - val_loss: 0.3820 - val_acc: 0.8396\n",
      "Epoch 240/500\n",
      "623/623 - 0s - loss: 0.3992 - acc: 0.8266 - val_loss: 0.3809 - val_acc: 0.8396\n",
      "Epoch 241/500\n",
      "623/623 - 0s - loss: 0.3992 - acc: 0.8331 - val_loss: 0.3841 - val_acc: 0.8433\n",
      "Epoch 242/500\n",
      "623/623 - 0s - loss: 0.3986 - acc: 0.8283 - val_loss: 0.3845 - val_acc: 0.8470\n",
      "Epoch 243/500\n",
      "623/623 - 0s - loss: 0.3999 - acc: 0.8299 - val_loss: 0.3810 - val_acc: 0.8396\n",
      "Epoch 244/500\n",
      "623/623 - 0s - loss: 0.4055 - acc: 0.8234 - val_loss: 0.3804 - val_acc: 0.8433\n",
      "Epoch 245/500\n",
      "623/623 - 0s - loss: 0.3995 - acc: 0.8347 - val_loss: 0.3824 - val_acc: 0.8396\n",
      "Epoch 246/500\n",
      "623/623 - 0s - loss: 0.4001 - acc: 0.8218 - val_loss: 0.3884 - val_acc: 0.8358\n",
      "Epoch 247/500\n",
      "623/623 - 0s - loss: 0.4034 - acc: 0.8363 - val_loss: 0.3833 - val_acc: 0.8396\n",
      "Epoch 248/500\n",
      "623/623 - 0s - loss: 0.4013 - acc: 0.8283 - val_loss: 0.3821 - val_acc: 0.8358\n",
      "Epoch 249/500\n",
      "623/623 - 0s - loss: 0.3997 - acc: 0.8363 - val_loss: 0.3830 - val_acc: 0.8396\n",
      "Epoch 250/500\n",
      "623/623 - 0s - loss: 0.3979 - acc: 0.8347 - val_loss: 0.3832 - val_acc: 0.8358\n",
      "Epoch 251/500\n",
      "623/623 - 0s - loss: 0.3972 - acc: 0.8315 - val_loss: 0.3820 - val_acc: 0.8396\n",
      "Epoch 252/500\n",
      "623/623 - 0s - loss: 0.3977 - acc: 0.8395 - val_loss: 0.3825 - val_acc: 0.8470\n",
      "Epoch 253/500\n",
      "623/623 - 0s - loss: 0.3962 - acc: 0.8331 - val_loss: 0.3823 - val_acc: 0.8470\n",
      "Epoch 254/500\n",
      "623/623 - 0s - loss: 0.3984 - acc: 0.8283 - val_loss: 0.3816 - val_acc: 0.8433\n",
      "Epoch 255/500\n",
      "623/623 - 0s - loss: 0.4023 - acc: 0.8202 - val_loss: 0.3843 - val_acc: 0.8470\n",
      "Epoch 256/500\n",
      "623/623 - 0s - loss: 0.3971 - acc: 0.8395 - val_loss: 0.3815 - val_acc: 0.8396\n",
      "Epoch 257/500\n",
      "623/623 - 0s - loss: 0.3956 - acc: 0.8363 - val_loss: 0.3814 - val_acc: 0.8396\n",
      "Epoch 258/500\n",
      "623/623 - 0s - loss: 0.3970 - acc: 0.8315 - val_loss: 0.3835 - val_acc: 0.8470\n",
      "Epoch 259/500\n",
      "623/623 - 0s - loss: 0.3970 - acc: 0.8331 - val_loss: 0.3815 - val_acc: 0.8433\n",
      "Epoch 260/500\n",
      "623/623 - 0s - loss: 0.3960 - acc: 0.8363 - val_loss: 0.3821 - val_acc: 0.8321\n",
      "Epoch 261/500\n",
      "623/623 - 0s - loss: 0.3985 - acc: 0.8363 - val_loss: 0.3859 - val_acc: 0.8507\n",
      "Epoch 262/500\n",
      "623/623 - 0s - loss: 0.3953 - acc: 0.8234 - val_loss: 0.3863 - val_acc: 0.8358\n",
      "Epoch 263/500\n",
      "623/623 - 0s - loss: 0.3956 - acc: 0.8363 - val_loss: 0.3807 - val_acc: 0.8396\n",
      "Epoch 264/500\n",
      "623/623 - 0s - loss: 0.3949 - acc: 0.8363 - val_loss: 0.3820 - val_acc: 0.8396\n",
      "Epoch 265/500\n",
      "623/623 - 0s - loss: 0.3946 - acc: 0.8363 - val_loss: 0.3829 - val_acc: 0.8470\n",
      "Epoch 266/500\n",
      "623/623 - 0s - loss: 0.3950 - acc: 0.8315 - val_loss: 0.3814 - val_acc: 0.8396\n",
      "Epoch 267/500\n",
      "623/623 - 0s - loss: 0.3963 - acc: 0.8347 - val_loss: 0.3829 - val_acc: 0.8470\n",
      "Epoch 268/500\n",
      "623/623 - 0s - loss: 0.3935 - acc: 0.8363 - val_loss: 0.3821 - val_acc: 0.8396\n",
      "Epoch 269/500\n",
      "623/623 - 0s - loss: 0.3962 - acc: 0.8363 - val_loss: 0.3835 - val_acc: 0.8396\n",
      "Epoch 270/500\n",
      "623/623 - 0s - loss: 0.3995 - acc: 0.8283 - val_loss: 0.3831 - val_acc: 0.8396\n",
      "Epoch 271/500\n",
      "623/623 - 0s - loss: 0.3978 - acc: 0.8395 - val_loss: 0.3801 - val_acc: 0.8396\n",
      "Epoch 272/500\n",
      "623/623 - 0s - loss: 0.3963 - acc: 0.8347 - val_loss: 0.3886 - val_acc: 0.8358\n",
      "Epoch 273/500\n",
      "623/623 - 0s - loss: 0.3963 - acc: 0.8363 - val_loss: 0.3836 - val_acc: 0.8396\n",
      "Epoch 274/500\n",
      "623/623 - 0s - loss: 0.3943 - acc: 0.8379 - val_loss: 0.3821 - val_acc: 0.8396\n",
      "Epoch 275/500\n",
      "623/623 - 0s - loss: 0.3974 - acc: 0.8331 - val_loss: 0.3807 - val_acc: 0.8470\n",
      "Epoch 276/500\n",
      "623/623 - 0s - loss: 0.3936 - acc: 0.8347 - val_loss: 0.3821 - val_acc: 0.8507\n",
      "Epoch 277/500\n",
      "623/623 - 0s - loss: 0.3926 - acc: 0.8363 - val_loss: 0.3840 - val_acc: 0.8470\n",
      "Epoch 278/500\n",
      "623/623 - 0s - loss: 0.3939 - acc: 0.8347 - val_loss: 0.3852 - val_acc: 0.8470\n",
      "Epoch 279/500\n",
      "623/623 - 0s - loss: 0.3922 - acc: 0.8363 - val_loss: 0.3812 - val_acc: 0.8507\n",
      "Epoch 280/500\n",
      "623/623 - 0s - loss: 0.3939 - acc: 0.8379 - val_loss: 0.3834 - val_acc: 0.8396\n",
      "Epoch 281/500\n",
      "623/623 - 0s - loss: 0.3925 - acc: 0.8379 - val_loss: 0.3812 - val_acc: 0.8396\n",
      "Epoch 282/500\n",
      "623/623 - 0s - loss: 0.3918 - acc: 0.8331 - val_loss: 0.3836 - val_acc: 0.8545\n",
      "Epoch 283/500\n",
      "623/623 - 0s - loss: 0.3915 - acc: 0.8347 - val_loss: 0.3824 - val_acc: 0.8470\n",
      "Epoch 284/500\n",
      "623/623 - 0s - loss: 0.3922 - acc: 0.8363 - val_loss: 0.3823 - val_acc: 0.8470\n",
      "Epoch 285/500\n",
      "623/623 - 0s - loss: 0.3901 - acc: 0.8379 - val_loss: 0.3828 - val_acc: 0.8396\n",
      "Epoch 286/500\n",
      "623/623 - 0s - loss: 0.3916 - acc: 0.8379 - val_loss: 0.3810 - val_acc: 0.8470\n",
      "Epoch 287/500\n",
      "623/623 - 0s - loss: 0.3910 - acc: 0.8379 - val_loss: 0.3828 - val_acc: 0.8470\n",
      "Epoch 288/500\n",
      "623/623 - 0s - loss: 0.3903 - acc: 0.8363 - val_loss: 0.3827 - val_acc: 0.8470\n",
      "Epoch 289/500\n",
      "623/623 - 0s - loss: 0.3914 - acc: 0.8315 - val_loss: 0.3833 - val_acc: 0.8470\n",
      "Epoch 290/500\n",
      "623/623 - 0s - loss: 0.3935 - acc: 0.8395 - val_loss: 0.3816 - val_acc: 0.8433\n",
      "Epoch 291/500\n",
      "623/623 - 0s - loss: 0.3916 - acc: 0.8459 - val_loss: 0.3792 - val_acc: 0.8433\n",
      "Epoch 292/500\n",
      "623/623 - 0s - loss: 0.3907 - acc: 0.8379 - val_loss: 0.3829 - val_acc: 0.8396\n",
      "Epoch 293/500\n",
      "623/623 - 0s - loss: 0.3910 - acc: 0.8315 - val_loss: 0.3853 - val_acc: 0.8507\n",
      "Epoch 294/500\n",
      "623/623 - 0s - loss: 0.3911 - acc: 0.8411 - val_loss: 0.3822 - val_acc: 0.8507\n",
      "Epoch 295/500\n",
      "623/623 - 0s - loss: 0.3928 - acc: 0.8379 - val_loss: 0.3816 - val_acc: 0.8470\n",
      "Epoch 296/500\n",
      "623/623 - 0s - loss: 0.3917 - acc: 0.8331 - val_loss: 0.3826 - val_acc: 0.8433\n",
      "Epoch 297/500\n",
      "623/623 - 0s - loss: 0.3895 - acc: 0.8379 - val_loss: 0.3809 - val_acc: 0.8470\n",
      "Epoch 298/500\n",
      "623/623 - 0s - loss: 0.3898 - acc: 0.8395 - val_loss: 0.3844 - val_acc: 0.8433\n",
      "Epoch 299/500\n",
      "623/623 - 0s - loss: 0.3909 - acc: 0.8395 - val_loss: 0.3846 - val_acc: 0.8433\n",
      "Epoch 300/500\n",
      "623/623 - 0s - loss: 0.3899 - acc: 0.8427 - val_loss: 0.3812 - val_acc: 0.8433\n",
      "Epoch 301/500\n",
      "623/623 - 0s - loss: 0.3915 - acc: 0.8363 - val_loss: 0.3833 - val_acc: 0.8470\n",
      "Epoch 302/500\n",
      "623/623 - 0s - loss: 0.3889 - acc: 0.8363 - val_loss: 0.3815 - val_acc: 0.8507\n",
      "Epoch 303/500\n",
      "623/623 - 0s - loss: 0.3903 - acc: 0.8347 - val_loss: 0.3812 - val_acc: 0.8396\n",
      "Epoch 304/500\n",
      "623/623 - 0s - loss: 0.3906 - acc: 0.8347 - val_loss: 0.3842 - val_acc: 0.8396\n",
      "Epoch 305/500\n",
      "623/623 - 0s - loss: 0.3901 - acc: 0.8347 - val_loss: 0.3832 - val_acc: 0.8470\n",
      "Epoch 306/500\n",
      "623/623 - 0s - loss: 0.3900 - acc: 0.8347 - val_loss: 0.3827 - val_acc: 0.8470\n",
      "Epoch 307/500\n",
      "623/623 - 0s - loss: 0.3925 - acc: 0.8347 - val_loss: 0.3820 - val_acc: 0.8396\n",
      "Epoch 308/500\n",
      "623/623 - 0s - loss: 0.3900 - acc: 0.8395 - val_loss: 0.3833 - val_acc: 0.8470\n",
      "Epoch 309/500\n",
      "623/623 - 0s - loss: 0.3886 - acc: 0.8331 - val_loss: 0.3831 - val_acc: 0.8433\n",
      "Epoch 310/500\n",
      "623/623 - 0s - loss: 0.3894 - acc: 0.8395 - val_loss: 0.3814 - val_acc: 0.8396\n",
      "Epoch 311/500\n",
      "623/623 - 0s - loss: 0.3881 - acc: 0.8395 - val_loss: 0.3816 - val_acc: 0.8470\n",
      "Epoch 312/500\n",
      "623/623 - 0s - loss: 0.3885 - acc: 0.8363 - val_loss: 0.3836 - val_acc: 0.8433\n",
      "Epoch 313/500\n",
      "623/623 - 0s - loss: 0.3885 - acc: 0.8411 - val_loss: 0.3824 - val_acc: 0.8470\n",
      "Epoch 314/500\n",
      "623/623 - 0s - loss: 0.3890 - acc: 0.8395 - val_loss: 0.3820 - val_acc: 0.8433\n",
      "Epoch 315/500\n",
      "623/623 - 0s - loss: 0.3881 - acc: 0.8331 - val_loss: 0.3817 - val_acc: 0.8433\n",
      "Epoch 316/500\n",
      "623/623 - 0s - loss: 0.3891 - acc: 0.8379 - val_loss: 0.3840 - val_acc: 0.8396\n",
      "Epoch 317/500\n",
      "623/623 - 0s - loss: 0.3884 - acc: 0.8411 - val_loss: 0.3815 - val_acc: 0.8507\n",
      "Epoch 318/500\n",
      "623/623 - 0s - loss: 0.3929 - acc: 0.8347 - val_loss: 0.3841 - val_acc: 0.8396\n",
      "Epoch 319/500\n",
      "623/623 - 0s - loss: 0.3890 - acc: 0.8315 - val_loss: 0.3803 - val_acc: 0.8433\n",
      "Epoch 320/500\n",
      "623/623 - 0s - loss: 0.3887 - acc: 0.8347 - val_loss: 0.3858 - val_acc: 0.8507\n",
      "Epoch 321/500\n",
      "623/623 - 0s - loss: 0.3866 - acc: 0.8427 - val_loss: 0.3827 - val_acc: 0.8470\n",
      "Epoch 322/500\n",
      "623/623 - 0s - loss: 0.3881 - acc: 0.8395 - val_loss: 0.3825 - val_acc: 0.8433\n",
      "Epoch 323/500\n",
      "623/623 - 0s - loss: 0.3890 - acc: 0.8363 - val_loss: 0.3838 - val_acc: 0.8433\n",
      "Epoch 324/500\n",
      "623/623 - 0s - loss: 0.3902 - acc: 0.8347 - val_loss: 0.3843 - val_acc: 0.8507\n",
      "Epoch 325/500\n",
      "623/623 - 0s - loss: 0.3909 - acc: 0.8363 - val_loss: 0.3815 - val_acc: 0.8433\n",
      "Epoch 326/500\n",
      "623/623 - 0s - loss: 0.3879 - acc: 0.8363 - val_loss: 0.3842 - val_acc: 0.8396\n",
      "Epoch 327/500\n",
      "623/623 - 0s - loss: 0.3897 - acc: 0.8379 - val_loss: 0.3837 - val_acc: 0.8470\n",
      "Epoch 328/500\n",
      "623/623 - 0s - loss: 0.3872 - acc: 0.8347 - val_loss: 0.3840 - val_acc: 0.8433\n",
      "Epoch 329/500\n",
      "623/623 - 0s - loss: 0.3894 - acc: 0.8411 - val_loss: 0.3829 - val_acc: 0.8433\n",
      "Epoch 330/500\n",
      "623/623 - 0s - loss: 0.3849 - acc: 0.8411 - val_loss: 0.3811 - val_acc: 0.8433\n",
      "Epoch 331/500\n",
      "623/623 - 0s - loss: 0.3871 - acc: 0.8315 - val_loss: 0.3816 - val_acc: 0.8433\n",
      "Epoch 332/500\n",
      "623/623 - 0s - loss: 0.3848 - acc: 0.8411 - val_loss: 0.3832 - val_acc: 0.8470\n",
      "Epoch 333/500\n",
      "623/623 - 0s - loss: 0.3855 - acc: 0.8363 - val_loss: 0.3852 - val_acc: 0.8433\n",
      "Epoch 334/500\n",
      "623/623 - 0s - loss: 0.3845 - acc: 0.8395 - val_loss: 0.3847 - val_acc: 0.8433\n",
      "Epoch 335/500\n",
      "623/623 - 0s - loss: 0.3848 - acc: 0.8395 - val_loss: 0.3836 - val_acc: 0.8470\n",
      "Epoch 336/500\n",
      "623/623 - 0s - loss: 0.3852 - acc: 0.8395 - val_loss: 0.3831 - val_acc: 0.8396\n",
      "Epoch 337/500\n",
      "623/623 - 0s - loss: 0.3856 - acc: 0.8395 - val_loss: 0.3867 - val_acc: 0.8396\n",
      "Epoch 338/500\n",
      "623/623 - 0s - loss: 0.3864 - acc: 0.8379 - val_loss: 0.3879 - val_acc: 0.8507\n",
      "Epoch 339/500\n",
      "623/623 - 0s - loss: 0.3885 - acc: 0.8315 - val_loss: 0.3828 - val_acc: 0.8396\n",
      "Epoch 340/500\n",
      "623/623 - 0s - loss: 0.3836 - acc: 0.8363 - val_loss: 0.3814 - val_acc: 0.8470\n",
      "Epoch 341/500\n",
      "623/623 - 0s - loss: 0.3856 - acc: 0.8347 - val_loss: 0.3863 - val_acc: 0.8507\n",
      "Epoch 342/500\n",
      "623/623 - 0s - loss: 0.3842 - acc: 0.8411 - val_loss: 0.3860 - val_acc: 0.8507\n",
      "Epoch 343/500\n",
      "623/623 - 0s - loss: 0.3836 - acc: 0.8379 - val_loss: 0.3853 - val_acc: 0.8396\n",
      "Epoch 344/500\n",
      "623/623 - 0s - loss: 0.3857 - acc: 0.8347 - val_loss: 0.3832 - val_acc: 0.8433\n",
      "Epoch 345/500\n",
      "623/623 - 0s - loss: 0.3833 - acc: 0.8379 - val_loss: 0.3832 - val_acc: 0.8433\n",
      "Epoch 346/500\n",
      "623/623 - 0s - loss: 0.3842 - acc: 0.8379 - val_loss: 0.3824 - val_acc: 0.8321\n",
      "Epoch 347/500\n",
      "623/623 - 0s - loss: 0.3833 - acc: 0.8411 - val_loss: 0.3839 - val_acc: 0.8433\n",
      "Epoch 348/500\n",
      "623/623 - 0s - loss: 0.3829 - acc: 0.8411 - val_loss: 0.3873 - val_acc: 0.8433\n",
      "Epoch 349/500\n",
      "623/623 - 0s - loss: 0.3832 - acc: 0.8411 - val_loss: 0.3850 - val_acc: 0.8433\n",
      "Epoch 350/500\n",
      "623/623 - 0s - loss: 0.3832 - acc: 0.8411 - val_loss: 0.3819 - val_acc: 0.8433\n",
      "Epoch 351/500\n",
      "623/623 - 0s - loss: 0.3831 - acc: 0.8395 - val_loss: 0.3842 - val_acc: 0.8433\n",
      "Epoch 352/500\n",
      "623/623 - 0s - loss: 0.3857 - acc: 0.8411 - val_loss: 0.3836 - val_acc: 0.8433\n",
      "Epoch 353/500\n",
      "623/623 - 0s - loss: 0.3846 - acc: 0.8379 - val_loss: 0.3898 - val_acc: 0.8433\n",
      "Epoch 354/500\n",
      "623/623 - 0s - loss: 0.3839 - acc: 0.8395 - val_loss: 0.3819 - val_acc: 0.8396\n",
      "Epoch 355/500\n",
      "623/623 - 0s - loss: 0.3840 - acc: 0.8427 - val_loss: 0.3821 - val_acc: 0.8433\n",
      "Epoch 356/500\n",
      "623/623 - 0s - loss: 0.3819 - acc: 0.8411 - val_loss: 0.3849 - val_acc: 0.8433\n",
      "Epoch 357/500\n",
      "623/623 - 0s - loss: 0.3822 - acc: 0.8411 - val_loss: 0.3833 - val_acc: 0.8433\n",
      "Epoch 358/500\n",
      "623/623 - 0s - loss: 0.3824 - acc: 0.8395 - val_loss: 0.3849 - val_acc: 0.8433\n",
      "Epoch 359/500\n",
      "623/623 - 0s - loss: 0.3821 - acc: 0.8411 - val_loss: 0.3852 - val_acc: 0.8433\n",
      "Epoch 360/500\n",
      "623/623 - 0s - loss: 0.3828 - acc: 0.8395 - val_loss: 0.3870 - val_acc: 0.8433\n",
      "Epoch 361/500\n",
      "623/623 - 0s - loss: 0.3837 - acc: 0.8379 - val_loss: 0.3841 - val_acc: 0.8433\n",
      "Epoch 362/500\n",
      "623/623 - 0s - loss: 0.3852 - acc: 0.8379 - val_loss: 0.3831 - val_acc: 0.8433\n",
      "Epoch 363/500\n",
      "623/623 - 0s - loss: 0.3871 - acc: 0.8379 - val_loss: 0.3820 - val_acc: 0.8396\n",
      "Epoch 364/500\n",
      "623/623 - 0s - loss: 0.3836 - acc: 0.8347 - val_loss: 0.3856 - val_acc: 0.8433\n",
      "Epoch 365/500\n",
      "623/623 - 0s - loss: 0.3815 - acc: 0.8363 - val_loss: 0.3882 - val_acc: 0.8396\n",
      "Epoch 366/500\n",
      "623/623 - 0s - loss: 0.3825 - acc: 0.8395 - val_loss: 0.3839 - val_acc: 0.8470\n",
      "Epoch 367/500\n",
      "623/623 - 0s - loss: 0.3833 - acc: 0.8395 - val_loss: 0.3862 - val_acc: 0.8433\n",
      "Epoch 368/500\n",
      "623/623 - 0s - loss: 0.3864 - acc: 0.8379 - val_loss: 0.3818 - val_acc: 0.8470\n",
      "Epoch 369/500\n",
      "623/623 - 0s - loss: 0.3820 - acc: 0.8347 - val_loss: 0.3882 - val_acc: 0.8396\n",
      "Epoch 370/500\n",
      "623/623 - 0s - loss: 0.3804 - acc: 0.8379 - val_loss: 0.3854 - val_acc: 0.8433\n",
      "Epoch 371/500\n",
      "623/623 - 0s - loss: 0.3819 - acc: 0.8395 - val_loss: 0.3875 - val_acc: 0.8433\n",
      "Epoch 372/500\n",
      "623/623 - 0s - loss: 0.3816 - acc: 0.8411 - val_loss: 0.3847 - val_acc: 0.8433\n",
      "Epoch 373/500\n",
      "623/623 - 0s - loss: 0.3817 - acc: 0.8411 - val_loss: 0.3843 - val_acc: 0.8433\n",
      "Epoch 374/500\n",
      "623/623 - 0s - loss: 0.3848 - acc: 0.8331 - val_loss: 0.3879 - val_acc: 0.8507\n",
      "Epoch 375/500\n",
      "623/623 - 0s - loss: 0.3796 - acc: 0.8411 - val_loss: 0.3847 - val_acc: 0.8433\n",
      "Epoch 376/500\n",
      "623/623 - 0s - loss: 0.3829 - acc: 0.8331 - val_loss: 0.3866 - val_acc: 0.8433\n",
      "Epoch 377/500\n",
      "623/623 - 0s - loss: 0.3855 - acc: 0.8315 - val_loss: 0.3867 - val_acc: 0.8507\n",
      "Epoch 378/500\n",
      "623/623 - 0s - loss: 0.3864 - acc: 0.8363 - val_loss: 0.3847 - val_acc: 0.8433\n",
      "Epoch 379/500\n",
      "623/623 - 0s - loss: 0.3821 - acc: 0.8395 - val_loss: 0.3863 - val_acc: 0.8433\n",
      "Epoch 380/500\n",
      "623/623 - 0s - loss: 0.3840 - acc: 0.8363 - val_loss: 0.3847 - val_acc: 0.8433\n",
      "Epoch 381/500\n",
      "623/623 - 0s - loss: 0.3803 - acc: 0.8347 - val_loss: 0.3871 - val_acc: 0.8433\n",
      "Epoch 382/500\n",
      "623/623 - 0s - loss: 0.3785 - acc: 0.8427 - val_loss: 0.3868 - val_acc: 0.8433\n",
      "Epoch 383/500\n",
      "623/623 - 0s - loss: 0.3826 - acc: 0.8363 - val_loss: 0.3859 - val_acc: 0.8507\n",
      "Epoch 384/500\n",
      "623/623 - 0s - loss: 0.3794 - acc: 0.8411 - val_loss: 0.3875 - val_acc: 0.8470\n",
      "Epoch 385/500\n",
      "623/623 - 0s - loss: 0.3803 - acc: 0.8411 - val_loss: 0.3848 - val_acc: 0.8433\n",
      "Epoch 386/500\n",
      "623/623 - 0s - loss: 0.3802 - acc: 0.8379 - val_loss: 0.3815 - val_acc: 0.8396\n",
      "Epoch 387/500\n",
      "623/623 - 0s - loss: 0.3787 - acc: 0.8395 - val_loss: 0.3865 - val_acc: 0.8433\n",
      "Epoch 388/500\n",
      "623/623 - 0s - loss: 0.3783 - acc: 0.8411 - val_loss: 0.3879 - val_acc: 0.8433\n",
      "Epoch 389/500\n",
      "623/623 - 0s - loss: 0.3783 - acc: 0.8395 - val_loss: 0.3862 - val_acc: 0.8470\n",
      "Epoch 390/500\n",
      "623/623 - 0s - loss: 0.3781 - acc: 0.8411 - val_loss: 0.3846 - val_acc: 0.8433\n",
      "Epoch 391/500\n",
      "623/623 - 0s - loss: 0.3782 - acc: 0.8411 - val_loss: 0.3880 - val_acc: 0.8433\n",
      "Epoch 392/500\n",
      "623/623 - 0s - loss: 0.3776 - acc: 0.8411 - val_loss: 0.3887 - val_acc: 0.8433\n",
      "Epoch 393/500\n",
      "623/623 - 0s - loss: 0.3796 - acc: 0.8379 - val_loss: 0.3858 - val_acc: 0.8433\n",
      "Epoch 394/500\n",
      "623/623 - 0s - loss: 0.3790 - acc: 0.8411 - val_loss: 0.3898 - val_acc: 0.8358\n",
      "Epoch 395/500\n",
      "623/623 - 0s - loss: 0.3773 - acc: 0.8411 - val_loss: 0.3840 - val_acc: 0.8396\n",
      "Epoch 396/500\n",
      "623/623 - 0s - loss: 0.3787 - acc: 0.8411 - val_loss: 0.3860 - val_acc: 0.8433\n",
      "Epoch 397/500\n",
      "623/623 - 0s - loss: 0.3784 - acc: 0.8379 - val_loss: 0.3874 - val_acc: 0.8433\n",
      "Epoch 398/500\n",
      "623/623 - 0s - loss: 0.3786 - acc: 0.8427 - val_loss: 0.3839 - val_acc: 0.8433\n",
      "Epoch 399/500\n",
      "623/623 - 0s - loss: 0.3786 - acc: 0.8379 - val_loss: 0.3895 - val_acc: 0.8358\n",
      "Epoch 400/500\n",
      "623/623 - 0s - loss: 0.3818 - acc: 0.8395 - val_loss: 0.3868 - val_acc: 0.8470\n",
      "Epoch 401/500\n",
      "623/623 - 0s - loss: 0.3758 - acc: 0.8347 - val_loss: 0.3906 - val_acc: 0.8396\n",
      "Epoch 402/500\n",
      "623/623 - 0s - loss: 0.3771 - acc: 0.8347 - val_loss: 0.3875 - val_acc: 0.8470\n",
      "Epoch 403/500\n",
      "623/623 - 0s - loss: 0.3780 - acc: 0.8363 - val_loss: 0.3887 - val_acc: 0.8433\n",
      "Epoch 404/500\n",
      "623/623 - 0s - loss: 0.3758 - acc: 0.8395 - val_loss: 0.3871 - val_acc: 0.8545\n",
      "Epoch 405/500\n",
      "623/623 - 0s - loss: 0.3769 - acc: 0.8363 - val_loss: 0.3869 - val_acc: 0.8470\n",
      "Epoch 406/500\n",
      "623/623 - 0s - loss: 0.3759 - acc: 0.8395 - val_loss: 0.3869 - val_acc: 0.8433\n",
      "Epoch 407/500\n",
      "623/623 - 0s - loss: 0.3761 - acc: 0.8427 - val_loss: 0.3883 - val_acc: 0.8433\n",
      "Epoch 408/500\n",
      "623/623 - 0s - loss: 0.3761 - acc: 0.8363 - val_loss: 0.3879 - val_acc: 0.8507\n",
      "Epoch 409/500\n",
      "623/623 - 0s - loss: 0.3776 - acc: 0.8427 - val_loss: 0.3908 - val_acc: 0.8433\n",
      "Epoch 410/500\n",
      "623/623 - 0s - loss: 0.3760 - acc: 0.8379 - val_loss: 0.3854 - val_acc: 0.8470\n",
      "Epoch 411/500\n",
      "623/623 - 0s - loss: 0.3762 - acc: 0.8395 - val_loss: 0.3870 - val_acc: 0.8396\n",
      "Epoch 412/500\n",
      "623/623 - 0s - loss: 0.3783 - acc: 0.8395 - val_loss: 0.3863 - val_acc: 0.8507\n",
      "Epoch 413/500\n",
      "623/623 - 0s - loss: 0.3770 - acc: 0.8363 - val_loss: 0.3896 - val_acc: 0.8582\n",
      "Epoch 414/500\n",
      "623/623 - 0s - loss: 0.3766 - acc: 0.8411 - val_loss: 0.3915 - val_acc: 0.8470\n",
      "Epoch 415/500\n",
      "623/623 - 0s - loss: 0.3764 - acc: 0.8379 - val_loss: 0.3878 - val_acc: 0.8545\n",
      "Epoch 416/500\n",
      "623/623 - 0s - loss: 0.3757 - acc: 0.8379 - val_loss: 0.3878 - val_acc: 0.8433\n",
      "Epoch 417/500\n",
      "623/623 - 0s - loss: 0.3781 - acc: 0.8299 - val_loss: 0.3892 - val_acc: 0.8433\n",
      "Epoch 418/500\n",
      "623/623 - 0s - loss: 0.3760 - acc: 0.8379 - val_loss: 0.3886 - val_acc: 0.8470\n",
      "Epoch 419/500\n",
      "623/623 - 0s - loss: 0.3757 - acc: 0.8395 - val_loss: 0.3907 - val_acc: 0.8433\n",
      "Epoch 420/500\n",
      "623/623 - 0s - loss: 0.3757 - acc: 0.8411 - val_loss: 0.3885 - val_acc: 0.8396\n",
      "Epoch 421/500\n",
      "623/623 - 0s - loss: 0.3774 - acc: 0.8347 - val_loss: 0.3905 - val_acc: 0.8433\n",
      "Epoch 422/500\n",
      "623/623 - 0s - loss: 0.3737 - acc: 0.8395 - val_loss: 0.3917 - val_acc: 0.8433\n",
      "Epoch 423/500\n",
      "623/623 - 0s - loss: 0.3766 - acc: 0.8395 - val_loss: 0.3889 - val_acc: 0.8433\n",
      "Epoch 424/500\n",
      "623/623 - 0s - loss: 0.3759 - acc: 0.8411 - val_loss: 0.3900 - val_acc: 0.8433\n",
      "Epoch 425/500\n",
      "623/623 - 0s - loss: 0.3762 - acc: 0.8363 - val_loss: 0.3861 - val_acc: 0.8433\n",
      "Epoch 426/500\n",
      "623/623 - 0s - loss: 0.3751 - acc: 0.8411 - val_loss: 0.3899 - val_acc: 0.8507\n",
      "Epoch 427/500\n",
      "623/623 - 0s - loss: 0.3751 - acc: 0.8363 - val_loss: 0.3911 - val_acc: 0.8470\n",
      "Epoch 428/500\n",
      "623/623 - 0s - loss: 0.3753 - acc: 0.8379 - val_loss: 0.3876 - val_acc: 0.8507\n",
      "Epoch 429/500\n",
      "623/623 - 0s - loss: 0.3766 - acc: 0.8363 - val_loss: 0.3904 - val_acc: 0.8433\n",
      "Epoch 430/500\n",
      "623/623 - 0s - loss: 0.3748 - acc: 0.8411 - val_loss: 0.3903 - val_acc: 0.8433\n",
      "Epoch 431/500\n",
      "623/623 - 0s - loss: 0.3793 - acc: 0.8411 - val_loss: 0.3903 - val_acc: 0.8507\n",
      "Epoch 432/500\n",
      "623/623 - 0s - loss: 0.3791 - acc: 0.8379 - val_loss: 0.3896 - val_acc: 0.8396\n",
      "Epoch 433/500\n",
      "623/623 - 0s - loss: 0.3774 - acc: 0.8379 - val_loss: 0.3945 - val_acc: 0.8396\n",
      "Epoch 434/500\n",
      "623/623 - 0s - loss: 0.3893 - acc: 0.8363 - val_loss: 0.3888 - val_acc: 0.8396\n",
      "Epoch 435/500\n",
      "623/623 - 0s - loss: 0.3737 - acc: 0.8491 - val_loss: 0.4030 - val_acc: 0.8396\n",
      "Epoch 436/500\n",
      "623/623 - 0s - loss: 0.3735 - acc: 0.8395 - val_loss: 0.3934 - val_acc: 0.8396\n",
      "Epoch 437/500\n",
      "623/623 - 0s - loss: 0.3754 - acc: 0.8395 - val_loss: 0.3903 - val_acc: 0.8507\n",
      "Epoch 438/500\n",
      "623/623 - 0s - loss: 0.3735 - acc: 0.8411 - val_loss: 0.3908 - val_acc: 0.8507\n",
      "Epoch 439/500\n",
      "623/623 - 0s - loss: 0.3745 - acc: 0.8363 - val_loss: 0.3897 - val_acc: 0.8433\n",
      "Epoch 440/500\n",
      "623/623 - 0s - loss: 0.3727 - acc: 0.8427 - val_loss: 0.3958 - val_acc: 0.8470\n",
      "Epoch 441/500\n",
      "623/623 - 0s - loss: 0.3764 - acc: 0.8443 - val_loss: 0.3899 - val_acc: 0.8396\n",
      "Epoch 442/500\n",
      "623/623 - 0s - loss: 0.3766 - acc: 0.8363 - val_loss: 0.3893 - val_acc: 0.8433\n",
      "Epoch 443/500\n",
      "623/623 - 0s - loss: 0.3706 - acc: 0.8347 - val_loss: 0.3953 - val_acc: 0.8396\n",
      "Epoch 444/500\n",
      "623/623 - 0s - loss: 0.3752 - acc: 0.8379 - val_loss: 0.3936 - val_acc: 0.8433\n",
      "Epoch 445/500\n",
      "623/623 - 0s - loss: 0.3720 - acc: 0.8411 - val_loss: 0.3921 - val_acc: 0.8470\n",
      "Epoch 446/500\n",
      "623/623 - 0s - loss: 0.3736 - acc: 0.8379 - val_loss: 0.3906 - val_acc: 0.8396\n",
      "Epoch 447/500\n",
      "623/623 - 0s - loss: 0.3728 - acc: 0.8379 - val_loss: 0.3921 - val_acc: 0.8470\n",
      "Epoch 448/500\n",
      "623/623 - 0s - loss: 0.3724 - acc: 0.8411 - val_loss: 0.3918 - val_acc: 0.8433\n",
      "Epoch 449/500\n",
      "623/623 - 0s - loss: 0.3727 - acc: 0.8427 - val_loss: 0.3919 - val_acc: 0.8396\n",
      "Epoch 450/500\n",
      "623/623 - 0s - loss: 0.3716 - acc: 0.8379 - val_loss: 0.3940 - val_acc: 0.8433\n",
      "Epoch 451/500\n",
      "623/623 - 0s - loss: 0.3733 - acc: 0.8395 - val_loss: 0.3915 - val_acc: 0.8433\n",
      "Epoch 452/500\n",
      "623/623 - 0s - loss: 0.3712 - acc: 0.8347 - val_loss: 0.3942 - val_acc: 0.8507\n",
      "Epoch 453/500\n",
      "623/623 - 0s - loss: 0.3766 - acc: 0.8347 - val_loss: 0.3957 - val_acc: 0.8396\n",
      "Epoch 454/500\n",
      "623/623 - 0s - loss: 0.3741 - acc: 0.8379 - val_loss: 0.3947 - val_acc: 0.8545\n",
      "Epoch 455/500\n",
      "623/623 - 0s - loss: 0.3745 - acc: 0.8363 - val_loss: 0.3916 - val_acc: 0.8470\n",
      "Epoch 456/500\n",
      "623/623 - 0s - loss: 0.3717 - acc: 0.8379 - val_loss: 0.3908 - val_acc: 0.8396\n",
      "Epoch 457/500\n",
      "623/623 - 0s - loss: 0.3718 - acc: 0.8379 - val_loss: 0.3959 - val_acc: 0.8433\n",
      "Epoch 458/500\n",
      "623/623 - 0s - loss: 0.3730 - acc: 0.8363 - val_loss: 0.3917 - val_acc: 0.8507\n",
      "Epoch 459/500\n",
      "623/623 - 0s - loss: 0.3711 - acc: 0.8427 - val_loss: 0.3940 - val_acc: 0.8433\n",
      "Epoch 460/500\n",
      "623/623 - 0s - loss: 0.3710 - acc: 0.8379 - val_loss: 0.3922 - val_acc: 0.8396\n",
      "Epoch 461/500\n",
      "623/623 - 0s - loss: 0.3702 - acc: 0.8379 - val_loss: 0.3934 - val_acc: 0.8470\n",
      "Epoch 462/500\n",
      "623/623 - 0s - loss: 0.3717 - acc: 0.8395 - val_loss: 0.3954 - val_acc: 0.8433\n",
      "Epoch 463/500\n",
      "623/623 - 0s - loss: 0.3711 - acc: 0.8347 - val_loss: 0.3919 - val_acc: 0.8433\n",
      "Epoch 464/500\n",
      "623/623 - 0s - loss: 0.3710 - acc: 0.8379 - val_loss: 0.3936 - val_acc: 0.8433\n",
      "Epoch 465/500\n",
      "623/623 - 0s - loss: 0.3705 - acc: 0.8379 - val_loss: 0.3961 - val_acc: 0.8470\n",
      "Epoch 466/500\n",
      "623/623 - 0s - loss: 0.3712 - acc: 0.8363 - val_loss: 0.3929 - val_acc: 0.8433\n",
      "Epoch 467/500\n",
      "623/623 - 0s - loss: 0.3708 - acc: 0.8347 - val_loss: 0.3950 - val_acc: 0.8396\n",
      "Epoch 468/500\n",
      "623/623 - 0s - loss: 0.3711 - acc: 0.8427 - val_loss: 0.3945 - val_acc: 0.8433\n",
      "Epoch 469/500\n",
      "623/623 - 0s - loss: 0.3727 - acc: 0.8331 - val_loss: 0.3951 - val_acc: 0.8396\n",
      "Epoch 470/500\n",
      "623/623 - 0s - loss: 0.3697 - acc: 0.8411 - val_loss: 0.3943 - val_acc: 0.8433\n",
      "Epoch 471/500\n",
      "623/623 - 0s - loss: 0.3712 - acc: 0.8363 - val_loss: 0.3920 - val_acc: 0.8433\n",
      "Epoch 472/500\n",
      "623/623 - 0s - loss: 0.3710 - acc: 0.8395 - val_loss: 0.3952 - val_acc: 0.8433\n",
      "Epoch 473/500\n",
      "623/623 - 0s - loss: 0.3728 - acc: 0.8395 - val_loss: 0.3970 - val_acc: 0.8433\n",
      "Epoch 474/500\n",
      "623/623 - 0s - loss: 0.3697 - acc: 0.8379 - val_loss: 0.3930 - val_acc: 0.8433\n",
      "Epoch 475/500\n",
      "623/623 - 0s - loss: 0.3711 - acc: 0.8395 - val_loss: 0.3931 - val_acc: 0.8396\n",
      "Epoch 476/500\n",
      "623/623 - 0s - loss: 0.3704 - acc: 0.8379 - val_loss: 0.3963 - val_acc: 0.8470\n",
      "Epoch 477/500\n",
      "623/623 - 0s - loss: 0.3691 - acc: 0.8395 - val_loss: 0.3955 - val_acc: 0.8433\n",
      "Epoch 478/500\n",
      "623/623 - 0s - loss: 0.3687 - acc: 0.8379 - val_loss: 0.3930 - val_acc: 0.8433\n",
      "Epoch 479/500\n",
      "623/623 - 0s - loss: 0.3698 - acc: 0.8395 - val_loss: 0.3958 - val_acc: 0.8433\n",
      "Epoch 480/500\n",
      "623/623 - 0s - loss: 0.3687 - acc: 0.8427 - val_loss: 0.3944 - val_acc: 0.8470\n",
      "Epoch 481/500\n",
      "623/623 - 0s - loss: 0.3686 - acc: 0.8475 - val_loss: 0.3960 - val_acc: 0.8433\n",
      "Epoch 482/500\n",
      "623/623 - 0s - loss: 0.3714 - acc: 0.8379 - val_loss: 0.3985 - val_acc: 0.8433\n",
      "Epoch 483/500\n",
      "623/623 - 0s - loss: 0.3749 - acc: 0.8443 - val_loss: 0.3924 - val_acc: 0.8396\n",
      "Epoch 484/500\n",
      "623/623 - 0s - loss: 0.3678 - acc: 0.8395 - val_loss: 0.3956 - val_acc: 0.8396\n",
      "Epoch 485/500\n",
      "623/623 - 0s - loss: 0.3697 - acc: 0.8379 - val_loss: 0.3982 - val_acc: 0.8396\n",
      "Epoch 486/500\n",
      "623/623 - 0s - loss: 0.3700 - acc: 0.8395 - val_loss: 0.3977 - val_acc: 0.8433\n",
      "Epoch 487/500\n",
      "623/623 - 0s - loss: 0.3689 - acc: 0.8379 - val_loss: 0.3978 - val_acc: 0.8396\n",
      "Epoch 488/500\n",
      "623/623 - 0s - loss: 0.3685 - acc: 0.8395 - val_loss: 0.3952 - val_acc: 0.8470\n",
      "Epoch 489/500\n",
      "623/623 - 0s - loss: 0.3673 - acc: 0.8363 - val_loss: 0.3958 - val_acc: 0.8396\n",
      "Epoch 490/500\n",
      "623/623 - 0s - loss: 0.3684 - acc: 0.8395 - val_loss: 0.3958 - val_acc: 0.8396\n",
      "Epoch 491/500\n",
      "623/623 - 0s - loss: 0.3729 - acc: 0.8331 - val_loss: 0.3988 - val_acc: 0.8396\n",
      "Epoch 492/500\n",
      "623/623 - 0s - loss: 0.3689 - acc: 0.8379 - val_loss: 0.3944 - val_acc: 0.8433\n",
      "Epoch 493/500\n",
      "623/623 - 0s - loss: 0.3677 - acc: 0.8411 - val_loss: 0.3965 - val_acc: 0.8470\n",
      "Epoch 494/500\n",
      "623/623 - 0s - loss: 0.3686 - acc: 0.8363 - val_loss: 0.4005 - val_acc: 0.8358\n",
      "Epoch 495/500\n",
      "623/623 - 0s - loss: 0.3689 - acc: 0.8347 - val_loss: 0.3996 - val_acc: 0.8433\n",
      "Epoch 496/500\n",
      "623/623 - 0s - loss: 0.3682 - acc: 0.8331 - val_loss: 0.3951 - val_acc: 0.8470\n",
      "Epoch 497/500\n",
      "623/623 - 0s - loss: 0.3673 - acc: 0.8411 - val_loss: 0.3969 - val_acc: 0.8433\n",
      "Epoch 498/500\n",
      "623/623 - 0s - loss: 0.3723 - acc: 0.8539 - val_loss: 0.3963 - val_acc: 0.8396\n",
      "Epoch 499/500\n",
      "623/623 - 0s - loss: 0.3758 - acc: 0.8379 - val_loss: 0.3953 - val_acc: 0.8433\n",
      "Epoch 500/500\n",
      "623/623 - 0s - loss: 0.3674 - acc: 0.8427 - val_loss: 0.3999 - val_acc: 0.8396\n"
     ]
    }
   ],
   "source": [
    "Model1=tf.keras.Sequential([tf.keras.layers.Dense(128,activation='relu'),\n",
    "                           \n",
    "                           \n",
    "                           tf.keras.layers.Dense(1,activation='sigmoid')])\n",
    "Model1.compile(loss='binary_crossentropy',optimizer='adam',metrics=['acc'])\n",
    "history=Model1.fit(X_train,Y_train,epochs=500,verbose=2,batch_size=64,validation_split=0.3)"
   ]
  },
  {
   "cell_type": "code",
   "execution_count": 236,
   "metadata": {},
   "outputs": [
    {
     "data": {
      "image/png": "[encoded data removed]",
      "text/plain": [
       "<Figure size 432x288 with 1 Axes>"
      ]
     },
     "metadata": {
      "needs_background": "light"
     },
     "output_type": "display_data"
    },
    {
     "data": {
      "image/png": "[encoded data removed]",
      "text/plain": [
       "<Figure size 432x288 with 1 Axes>"
      ]
     },
     "metadata": {
      "needs_background": "light"
     },
     "output_type": "display_data"
    }
   ],
   "source": [
    "def plot_graphs(history,string):\n",
    "    plt.plot(history.history[string])\n",
    "    plt.plot(history.history['val_'+string])\n",
    "    plt.xlabel(\"Epochs\")\n",
    "    plt.ylabel(string)\n",
    "    plt.legend([string, 'val_'+string])\n",
    "    plt.show()\n",
    "  \n",
    "plot_graphs(history, \"acc\")\n",
    "plot_graphs(history, \"loss\")"
   ]
  },
  {
   "cell_type": "markdown",
   "metadata": {},
   "source": [
    "# Trying Another Models\n"
   ]
  },
  {
   "cell_type": "code",
   "execution_count": 73,
   "metadata": {},
   "outputs": [
    {
     "name": "stderr",
     "output_type": "stream",
     "text": [
      "c:\\users\\omar\\appdata\\local\\programs\\python\\python35\\lib\\site-packages\\sklearn\\linear_model\\logistic.py:432: FutureWarning: Default solver will be changed to 'lbfgs' in 0.22. Specify a solver to silence this warning.\n",
      "  FutureWarning)\n"
     ]
    },
    {
     "data": {
      "text/plain": [
       "79.46"
      ]
     },
     "execution_count": 73,
     "metadata": {},
     "output_type": "execute_result"
    }
   ],
   "source": [
    "logreg = LogisticRegression(penalty='l2')\n",
    "logreg.fit(X_train, Y_train)\n",
    "Y_pred = logreg.predict(X_test)\n",
    "acc_log = round(logreg.score(X_train, Y_train) * 100, 2)\n",
    "acc_log"
   ]
  },
  {
   "cell_type": "code",
   "execution_count": 86,
   "metadata": {},
   "outputs": [
    {
     "data": {
      "text/plain": [
       "86.64"
      ]
     },
     "execution_count": 86,
     "metadata": {},
     "output_type": "execute_result"
    }
   ],
   "source": [
    "dec_tree=DecisionTreeClassifier(max_depth=50,min_samples_split=2)\n",
    "dec_tree.fit(X_train,Y_train)\n",
    "Y_pred=dec_tree.predict(X_test)\n",
    "dec_acc=round(dec_tree.score(X_train,Y_train)*100,2)\n",
    "dec_acc"
   ]
  },
  {
   "cell_type": "code",
   "execution_count": 117,
   "metadata": {},
   "outputs": [],
   "source": [
    "tf_acc=round(history.history['acc'][-1]*100,2)"
   ]
  },
  {
   "cell_type": "code",
   "execution_count": 118,
   "metadata": {},
   "outputs": [
    {
     "data": {
      "text/plain": [
       "86.64"
      ]
     },
     "execution_count": 118,
     "metadata": {},
     "output_type": "execute_result"
    }
   ],
   "source": [
    "rand_for=RandomForestClassifier(n_estimators=200,min_samples_leaf=1,min_samples_split=2)\n",
    "rand_for.fit(X_train,Y_train)\n",
    "Y_pred=rand_for.predict(X_test)\n",
    "rand_acc=round(rand_for.score(X_train,Y_train)*100,2)\n",
    "rand_acc"
   ]
  },
  {
   "cell_type": "code",
   "execution_count": 119,
   "metadata": {},
   "outputs": [],
   "source": [
    "acc=pd.DataFrame({'Accuracy':[tf_acc,acc_log,dec_acc,rand_acc],'Model':['Tensor_Flow','Logistic Regression','Decision Tree','Random Forest']},columns=['Model','Accuracy'])\n",
    "acc = acc[['Model','Accuracy']]"
   ]
  },
  {
   "cell_type": "code",
   "execution_count": 120,
   "metadata": {},
   "outputs": [
    {
     "data": {
      "text/html": [
       "<div>\n",
       "<style scoped>\n",
       "    .dataframe tbody tr th:only-of-type {\n",
       "        vertical-align: middle;\n",
       "    }\n",
       "\n",
       "    .dataframe tbody tr th {\n",
       "        vertical-align: top;\n",
       "    }\n",
       "\n",
       "    .dataframe thead th {\n",
       "        text-align: right;\n",
       "    }\n",
       "</style>\n",
       "<table border=\"1\" class=\"dataframe\">\n",
       "  <thead>\n",
       "    <tr style=\"text-align: right;\">\n",
       "      <th></th>\n",
       "      <th>Model</th>\n",
       "      <th>Accuracy</th>\n",
       "    </tr>\n",
       "  </thead>\n",
       "  <tbody>\n",
       "    <tr>\n",
       "      <th>0</th>\n",
       "      <td>Tensor_Flow</td>\n",
       "      <td>84.27</td>\n",
       "    </tr>\n",
       "    <tr>\n",
       "      <th>1</th>\n",
       "      <td>Logistic Regression</td>\n",
       "      <td>79.46</td>\n",
       "    </tr>\n",
       "    <tr>\n",
       "      <th>2</th>\n",
       "      <td>Decision Tree</td>\n",
       "      <td>86.64</td>\n",
       "    </tr>\n",
       "    <tr>\n",
       "      <th>3</th>\n",
       "      <td>Random Forest</td>\n",
       "      <td>86.64</td>\n",
       "    </tr>\n",
       "  </tbody>\n",
       "</table>\n",
       "</div>"
      ],
      "text/plain": [
       "                 Model  Accuracy\n",
       "0          Tensor_Flow     84.27\n",
       "1  Logistic Regression     79.46\n",
       "2        Decision Tree     86.64\n",
       "3        Random Forest     86.64"
      ]
     },
     "execution_count": 120,
     "metadata": {},
     "output_type": "execute_result"
    }
   ],
   "source": [
    "acc"
   ]
  },
  {
   "cell_type": "markdown",
   "metadata": {},
   "source": [
    "# Using Confusion Matrix "
   ]
  },
  {
   "cell_type": "code",
   "execution_count": 124,
   "metadata": {},
   "outputs": [],
   "source": [
    "X_train2,X_test2,Y_train2,Y_test2=train_test_split(X_train,Y_train,test_size=0.3,random_state=42)"
   ]
  },
  {
   "cell_type": "code",
   "execution_count": 125,
   "metadata": {},
   "outputs": [
    {
     "data": {
      "text/plain": [
       "(268, 7)"
      ]
     },
     "execution_count": 125,
     "metadata": {},
     "output_type": "execute_result"
    }
   ],
   "source": [
    "X_test2.shape"
   ]
  },
  {
   "cell_type": "markdown",
   "metadata": {},
   "source": [
    "### Using neural network"
   ]
  },
  {
   "cell_type": "code",
   "execution_count": 178,
   "metadata": {},
   "outputs": [
    {
     "name": "stdout",
     "output_type": "stream",
     "text": [
      "Train on 560 samples, validate on 63 samples\n",
      "Epoch 1/100\n",
      "560/560 - 0s - loss: 0.2925 - acc: 0.8714 - val_loss: 0.2927 - val_acc: 0.9206\n",
      "Epoch 2/100\n",
      "560/560 - 0s - loss: 0.2937 - acc: 0.8696 - val_loss: 0.2963 - val_acc: 0.8889\n",
      "Epoch 3/100\n",
      "560/560 - 0s - loss: 0.2934 - acc: 0.8696 - val_loss: 0.3003 - val_acc: 0.8730\n",
      "Epoch 4/100\n",
      "560/560 - 0s - loss: 0.2965 - acc: 0.8750 - val_loss: 0.2919 - val_acc: 0.8889\n",
      "Epoch 5/100\n",
      "560/560 - 0s - loss: 0.2882 - acc: 0.8714 - val_loss: 0.2957 - val_acc: 0.8889\n",
      "Epoch 6/100\n",
      "560/560 - 0s - loss: 0.2931 - acc: 0.8732 - val_loss: 0.2897 - val_acc: 0.9048\n",
      "Epoch 7/100\n",
      "560/560 - 0s - loss: 0.2947 - acc: 0.8714 - val_loss: 0.2889 - val_acc: 0.8889\n",
      "Epoch 8/100\n",
      "560/560 - 0s - loss: 0.2911 - acc: 0.8696 - val_loss: 0.3036 - val_acc: 0.9048\n",
      "Epoch 9/100\n",
      "560/560 - 0s - loss: 0.2905 - acc: 0.8750 - val_loss: 0.2959 - val_acc: 0.9048\n",
      "Epoch 10/100\n",
      "560/560 - 0s - loss: 0.2916 - acc: 0.8714 - val_loss: 0.2992 - val_acc: 0.8889\n",
      "Epoch 11/100\n",
      "560/560 - 0s - loss: 0.2968 - acc: 0.8732 - val_loss: 0.2970 - val_acc: 0.8571\n",
      "Epoch 12/100\n",
      "560/560 - 0s - loss: 0.2955 - acc: 0.8679 - val_loss: 0.3003 - val_acc: 0.9048\n",
      "Epoch 13/100\n",
      "560/560 - 0s - loss: 0.2913 - acc: 0.8714 - val_loss: 0.2971 - val_acc: 0.9048\n",
      "Epoch 14/100\n",
      "560/560 - 0s - loss: 0.2899 - acc: 0.8732 - val_loss: 0.2968 - val_acc: 0.8730\n",
      "Epoch 15/100\n",
      "560/560 - 0s - loss: 0.2937 - acc: 0.8679 - val_loss: 0.2999 - val_acc: 0.8889\n",
      "Epoch 16/100\n",
      "560/560 - 0s - loss: 0.2924 - acc: 0.8679 - val_loss: 0.2921 - val_acc: 0.9048\n",
      "Epoch 17/100\n",
      "560/560 - 0s - loss: 0.2970 - acc: 0.8679 - val_loss: 0.2994 - val_acc: 0.8889\n",
      "Epoch 18/100\n",
      "560/560 - 0s - loss: 0.2952 - acc: 0.8714 - val_loss: 0.3020 - val_acc: 0.8889\n",
      "Epoch 19/100\n",
      "560/560 - 0s - loss: 0.2987 - acc: 0.8714 - val_loss: 0.2909 - val_acc: 0.8889\n",
      "Epoch 20/100\n",
      "560/560 - 0s - loss: 0.2926 - acc: 0.8696 - val_loss: 0.3017 - val_acc: 0.8889\n",
      "Epoch 21/100\n",
      "560/560 - 0s - loss: 0.2941 - acc: 0.8714 - val_loss: 0.2954 - val_acc: 0.8889\n",
      "Epoch 22/100\n",
      "560/560 - 0s - loss: 0.2925 - acc: 0.8732 - val_loss: 0.2901 - val_acc: 0.9206\n",
      "Epoch 23/100\n",
      "560/560 - 0s - loss: 0.2886 - acc: 0.8714 - val_loss: 0.2954 - val_acc: 0.9048\n",
      "Epoch 24/100\n",
      "560/560 - 0s - loss: 0.2963 - acc: 0.8750 - val_loss: 0.2969 - val_acc: 0.8889\n",
      "Epoch 25/100\n",
      "560/560 - 0s - loss: 0.2999 - acc: 0.8714 - val_loss: 0.2933 - val_acc: 0.8889\n",
      "Epoch 26/100\n",
      "560/560 - 0s - loss: 0.2961 - acc: 0.8536 - val_loss: 0.2898 - val_acc: 0.9206\n",
      "Epoch 27/100\n",
      "560/560 - 0s - loss: 0.2927 - acc: 0.8714 - val_loss: 0.2868 - val_acc: 0.8730\n",
      "Epoch 28/100\n",
      "560/560 - 0s - loss: 0.3044 - acc: 0.8625 - val_loss: 0.3035 - val_acc: 0.9048\n",
      "Epoch 29/100\n",
      "560/560 - 0s - loss: 0.2962 - acc: 0.8714 - val_loss: 0.2980 - val_acc: 0.8571\n",
      "Epoch 30/100\n",
      "560/560 - 0s - loss: 0.2938 - acc: 0.8661 - val_loss: 0.2969 - val_acc: 0.9206\n",
      "Epoch 31/100\n",
      "560/560 - 0s - loss: 0.2912 - acc: 0.8732 - val_loss: 0.2919 - val_acc: 0.8889\n",
      "Epoch 32/100\n",
      "560/560 - 0s - loss: 0.2961 - acc: 0.8625 - val_loss: 0.2837 - val_acc: 0.9206\n",
      "Epoch 33/100\n",
      "560/560 - 0s - loss: 0.2892 - acc: 0.8732 - val_loss: 0.2906 - val_acc: 0.9048\n",
      "Epoch 34/100\n",
      "560/560 - 0s - loss: 0.2898 - acc: 0.8714 - val_loss: 0.2936 - val_acc: 0.9048\n",
      "Epoch 35/100\n",
      "560/560 - 0s - loss: 0.2908 - acc: 0.8732 - val_loss: 0.2978 - val_acc: 0.8730\n",
      "Epoch 36/100\n",
      "560/560 - 0s - loss: 0.2904 - acc: 0.8732 - val_loss: 0.3016 - val_acc: 0.8730\n",
      "Epoch 37/100\n",
      "560/560 - 0s - loss: 0.2902 - acc: 0.8696 - val_loss: 0.2964 - val_acc: 0.8730\n",
      "Epoch 38/100\n",
      "560/560 - 0s - loss: 0.2900 - acc: 0.8750 - val_loss: 0.2962 - val_acc: 0.9206\n",
      "Epoch 39/100\n",
      "560/560 - 0s - loss: 0.2894 - acc: 0.8714 - val_loss: 0.2877 - val_acc: 0.8889\n",
      "Epoch 40/100\n",
      "560/560 - 0s - loss: 0.2920 - acc: 0.8732 - val_loss: 0.2918 - val_acc: 0.8571\n",
      "Epoch 41/100\n",
      "560/560 - 0s - loss: 0.2888 - acc: 0.8750 - val_loss: 0.3012 - val_acc: 0.9048\n",
      "Epoch 42/100\n",
      "560/560 - 0s - loss: 0.2904 - acc: 0.8732 - val_loss: 0.2944 - val_acc: 0.8889\n",
      "Epoch 43/100\n",
      "560/560 - 0s - loss: 0.2915 - acc: 0.8661 - val_loss: 0.3090 - val_acc: 0.9048\n",
      "Epoch 44/100\n",
      "560/560 - 0s - loss: 0.2938 - acc: 0.8750 - val_loss: 0.2946 - val_acc: 0.9048\n",
      "Epoch 45/100\n",
      "560/560 - 0s - loss: 0.2893 - acc: 0.8696 - val_loss: 0.2996 - val_acc: 0.8730\n",
      "Epoch 46/100\n",
      "560/560 - 0s - loss: 0.2994 - acc: 0.8768 - val_loss: 0.3023 - val_acc: 0.8571\n",
      "Epoch 47/100\n",
      "560/560 - 0s - loss: 0.2920 - acc: 0.8714 - val_loss: 0.3040 - val_acc: 0.8571\n",
      "Epoch 48/100\n",
      "560/560 - 0s - loss: 0.2982 - acc: 0.8696 - val_loss: 0.2936 - val_acc: 0.8571\n",
      "Epoch 49/100\n",
      "560/560 - 0s - loss: 0.2903 - acc: 0.8661 - val_loss: 0.2957 - val_acc: 0.9206\n",
      "Epoch 50/100\n",
      "560/560 - 0s - loss: 0.2878 - acc: 0.8750 - val_loss: 0.2944 - val_acc: 0.9048\n",
      "Epoch 51/100\n",
      "560/560 - 0s - loss: 0.3005 - acc: 0.8679 - val_loss: 0.2907 - val_acc: 0.8730\n",
      "Epoch 52/100\n",
      "560/560 - 0s - loss: 0.2994 - acc: 0.8661 - val_loss: 0.2960 - val_acc: 0.9048\n",
      "Epoch 53/100\n",
      "560/560 - 0s - loss: 0.2886 - acc: 0.8768 - val_loss: 0.2942 - val_acc: 0.8889\n",
      "Epoch 54/100\n",
      "560/560 - 0s - loss: 0.2893 - acc: 0.8750 - val_loss: 0.2977 - val_acc: 0.8571\n",
      "Epoch 55/100\n",
      "560/560 - 0s - loss: 0.2904 - acc: 0.8750 - val_loss: 0.3087 - val_acc: 0.9048\n",
      "Epoch 56/100\n",
      "560/560 - 0s - loss: 0.2898 - acc: 0.8696 - val_loss: 0.2930 - val_acc: 0.8730\n",
      "Epoch 57/100\n",
      "560/560 - 0s - loss: 0.2896 - acc: 0.8786 - val_loss: 0.2998 - val_acc: 0.9048\n",
      "Epoch 58/100\n",
      "560/560 - 0s - loss: 0.2928 - acc: 0.8750 - val_loss: 0.3042 - val_acc: 0.8730\n",
      "Epoch 59/100\n",
      "560/560 - 0s - loss: 0.2902 - acc: 0.8714 - val_loss: 0.3077 - val_acc: 0.9048\n",
      "Epoch 60/100\n",
      "560/560 - 0s - loss: 0.2897 - acc: 0.8732 - val_loss: 0.3068 - val_acc: 0.8571\n",
      "Epoch 61/100\n",
      "560/560 - 0s - loss: 0.2982 - acc: 0.8625 - val_loss: 0.3081 - val_acc: 0.8889\n",
      "Epoch 62/100\n",
      "560/560 - 0s - loss: 0.3019 - acc: 0.8661 - val_loss: 0.2923 - val_acc: 0.8889\n",
      "Epoch 63/100\n",
      "560/560 - 0s - loss: 0.2944 - acc: 0.8786 - val_loss: 0.2969 - val_acc: 0.9048\n",
      "Epoch 64/100\n",
      "560/560 - 0s - loss: 0.2937 - acc: 0.8679 - val_loss: 0.2973 - val_acc: 0.9206\n",
      "Epoch 65/100\n",
      "560/560 - 0s - loss: 0.2897 - acc: 0.8714 - val_loss: 0.2899 - val_acc: 0.9206\n",
      "Epoch 66/100\n",
      "560/560 - 0s - loss: 0.2929 - acc: 0.8714 - val_loss: 0.2982 - val_acc: 0.9206\n",
      "Epoch 67/100\n",
      "560/560 - 0s - loss: 0.2903 - acc: 0.8732 - val_loss: 0.3048 - val_acc: 0.8730\n",
      "Epoch 68/100\n",
      "560/560 - 0s - loss: 0.2885 - acc: 0.8750 - val_loss: 0.2966 - val_acc: 0.9206\n",
      "Epoch 69/100\n",
      "560/560 - 0s - loss: 0.2947 - acc: 0.8607 - val_loss: 0.2902 - val_acc: 0.8889\n",
      "Epoch 70/100\n",
      "560/560 - 0s - loss: 0.2900 - acc: 0.8750 - val_loss: 0.3012 - val_acc: 0.9206\n",
      "Epoch 71/100\n",
      "560/560 - 0s - loss: 0.2889 - acc: 0.8714 - val_loss: 0.3026 - val_acc: 0.8571\n",
      "Epoch 72/100\n",
      "560/560 - 0s - loss: 0.2896 - acc: 0.8750 - val_loss: 0.3036 - val_acc: 0.8889\n",
      "Epoch 73/100\n",
      "560/560 - 0s - loss: 0.2917 - acc: 0.8750 - val_loss: 0.2950 - val_acc: 0.8571\n",
      "Epoch 74/100\n",
      "560/560 - 0s - loss: 0.2898 - acc: 0.8696 - val_loss: 0.2947 - val_acc: 0.9206\n",
      "Epoch 75/100\n",
      "560/560 - 0s - loss: 0.2893 - acc: 0.8696 - val_loss: 0.3033 - val_acc: 0.8571\n",
      "Epoch 76/100\n",
      "560/560 - 0s - loss: 0.2892 - acc: 0.8696 - val_loss: 0.3039 - val_acc: 0.9206\n",
      "Epoch 77/100\n",
      "560/560 - 0s - loss: 0.2916 - acc: 0.8625 - val_loss: 0.3017 - val_acc: 0.8571\n",
      "Epoch 78/100\n",
      "560/560 - 0s - loss: 0.2925 - acc: 0.8714 - val_loss: 0.2989 - val_acc: 0.9206\n",
      "Epoch 79/100\n",
      "560/560 - 0s - loss: 0.2972 - acc: 0.8696 - val_loss: 0.2949 - val_acc: 0.8730\n",
      "Epoch 80/100\n",
      "560/560 - 0s - loss: 0.2887 - acc: 0.8661 - val_loss: 0.2947 - val_acc: 0.9048\n",
      "Epoch 81/100\n",
      "560/560 - 0s - loss: 0.2899 - acc: 0.8750 - val_loss: 0.2995 - val_acc: 0.8571\n",
      "Epoch 82/100\n",
      "560/560 - 0s - loss: 0.2895 - acc: 0.8732 - val_loss: 0.3002 - val_acc: 0.9206\n",
      "Epoch 83/100\n",
      "560/560 - 0s - loss: 0.2895 - acc: 0.8714 - val_loss: 0.2930 - val_acc: 0.9206\n",
      "Epoch 84/100\n",
      "560/560 - 0s - loss: 0.2912 - acc: 0.8714 - val_loss: 0.2998 - val_acc: 0.9206\n",
      "Epoch 85/100\n",
      "560/560 - 0s - loss: 0.2931 - acc: 0.8714 - val_loss: 0.3003 - val_acc: 0.8889\n",
      "Epoch 86/100\n",
      "560/560 - 0s - loss: 0.2933 - acc: 0.8732 - val_loss: 0.3084 - val_acc: 0.8889\n",
      "Epoch 87/100\n",
      "560/560 - 0s - loss: 0.2921 - acc: 0.8732 - val_loss: 0.3131 - val_acc: 0.8730\n",
      "Epoch 88/100\n",
      "560/560 - 0s - loss: 0.2960 - acc: 0.8643 - val_loss: 0.2924 - val_acc: 0.8730\n",
      "Epoch 89/100\n",
      "560/560 - 0s - loss: 0.2911 - acc: 0.8768 - val_loss: 0.3032 - val_acc: 0.9206\n",
      "Epoch 90/100\n",
      "560/560 - 0s - loss: 0.2925 - acc: 0.8679 - val_loss: 0.2904 - val_acc: 0.9048\n",
      "Epoch 91/100\n",
      "560/560 - 0s - loss: 0.2925 - acc: 0.8679 - val_loss: 0.2935 - val_acc: 0.8889\n",
      "Epoch 92/100\n",
      "560/560 - 0s - loss: 0.2929 - acc: 0.8750 - val_loss: 0.3012 - val_acc: 0.9048\n",
      "Epoch 93/100\n",
      "560/560 - 0s - loss: 0.2917 - acc: 0.8661 - val_loss: 0.2938 - val_acc: 0.8889\n",
      "Epoch 94/100\n",
      "560/560 - 0s - loss: 0.2903 - acc: 0.8696 - val_loss: 0.2978 - val_acc: 0.9048\n",
      "Epoch 95/100\n",
      "560/560 - 0s - loss: 0.2906 - acc: 0.8732 - val_loss: 0.3067 - val_acc: 0.8889\n",
      "Epoch 96/100\n",
      "560/560 - 0s - loss: 0.2873 - acc: 0.8732 - val_loss: 0.3084 - val_acc: 0.8889\n",
      "Epoch 97/100\n",
      "560/560 - 0s - loss: 0.2970 - acc: 0.8696 - val_loss: 0.2978 - val_acc: 0.8730\n",
      "Epoch 98/100\n",
      "560/560 - 0s - loss: 0.2964 - acc: 0.8786 - val_loss: 0.3038 - val_acc: 0.8571\n",
      "Epoch 99/100\n",
      "560/560 - 0s - loss: 0.2972 - acc: 0.8500 - val_loss: 0.3006 - val_acc: 0.9206\n",
      "Epoch 100/100\n",
      "560/560 - 0s - loss: 0.2960 - acc: 0.8732 - val_loss: 0.2928 - val_acc: 0.8889\n"
     ]
    }
   ],
   "source": [
    "Model2=tf.keras.Sequential([tf.keras.layers.Dense(128,activation='relu'),\n",
    "                           tf.keras.layers.Dense(64,activation='relu'),\n",
    "                           \n",
    "                           tf.keras.layers.Dense(1,activation='sigmoid')])\n",
    "Model2.compile(loss='binary_crossentropy',optimizer='adam',metrics=['acc'])\n",
    "history=Model1.fit(X_train2,Y_train2,epochs=100,verbose=2,batch_size=64,validation_split=0.1)"
   ]
  },
  {
   "cell_type": "code",
   "execution_count": 134,
   "metadata": {},
   "outputs": [
    {
     "data": {
      "image/png": "[encoded data removed]",
      "text/plain": [
       "<Figure size 288x288 with 2 Axes>"
      ]
     },
     "metadata": {
      "needs_background": "light"
     },
     "output_type": "display_data"
    }
   ],
   "source": [
    "from sklearn.metrics import confusion_matrix\n",
    "\n",
    "yhat=Model2.predict(X_test2)\n",
    "cm=confusion_matrix(Y_test2,yhat.round())\n",
    "plt.matshow(cm)\n",
    "plt.title('Confusion matrix')\n",
    "plt.colorbar()\n",
    "plt.ylabel('True label')\n",
    "plt.xlabel('Predicted label')\n",
    "plt.show()"
   ]
  },
  {
   "cell_type": "code",
   "execution_count": 135,
   "metadata": {},
   "outputs": [
    {
     "data": {
      "text/plain": [
       "array([[121,  36],\n",
       "       [ 41,  70]], dtype=int64)"
      ]
     },
     "execution_count": 135,
     "metadata": {},
     "output_type": "execute_result"
    }
   ],
   "source": [
    "cm"
   ]
  },
  {
   "cell_type": "code",
   "execution_count": 136,
   "metadata": {},
   "outputs": [
    {
     "name": "stdout",
     "output_type": "stream",
     "text": [
      "              precision    recall  f1-score   support\n",
      "\n",
      "           0       0.75      0.77      0.76       157\n",
      "           1       0.66      0.63      0.65       111\n",
      "\n",
      "    accuracy                           0.71       268\n",
      "   macro avg       0.70      0.70      0.70       268\n",
      "weighted avg       0.71      0.71      0.71       268\n",
      "\n"
     ]
    }
   ],
   "source": [
    "from sklearn.metrics import classification_report\n",
    "\n",
    "print(classification_report(Y_test2,yhat.round()))"
   ]
  },
  {
   "cell_type": "markdown",
   "metadata": {},
   "source": [
    "### Using Logistic Regression"
   ]
  },
  {
   "cell_type": "code",
   "execution_count": 155,
   "metadata": {},
   "outputs": [
    {
     "name": "stderr",
     "output_type": "stream",
     "text": [
      "c:\\users\\omar\\appdata\\local\\programs\\python\\python35\\lib\\site-packages\\sklearn\\linear_model\\logistic.py:432: FutureWarning: Default solver will be changed to 'lbfgs' in 0.22. Specify a solver to silence this warning.\n",
      "  FutureWarning)\n"
     ]
    },
    {
     "data": {
      "text/plain": [
       "79.13"
      ]
     },
     "execution_count": 155,
     "metadata": {},
     "output_type": "execute_result"
    }
   ],
   "source": [
    "logreg = LogisticRegression(penalty='l2')\n",
    "logreg.fit(X_train2, Y_train2)\n",
    "Y_pred = logreg.predict(X_test2)\n",
    "acc_log = round(logreg.score(X_train2, Y_train2) * 100, 2)\n",
    "acc_log"
   ]
  },
  {
   "cell_type": "code",
   "execution_count": 156,
   "metadata": {},
   "outputs": [
    {
     "data": {
      "image/png": "[encoded data removed]",
      "text/plain": [
       "<Figure size 288x288 with 2 Axes>"
      ]
     },
     "metadata": {
      "needs_background": "light"
     },
     "output_type": "display_data"
    }
   ],
   "source": [
    "cm=confusion_matrix(Y_test2,Y_pred.round())\n",
    "plt.matshow(cm)\n",
    "plt.title('Confusion matrix')\n",
    "plt.colorbar()\n",
    "plt.ylabel('True label')\n",
    "plt.xlabel('Predicted label')\n",
    "plt.show()"
   ]
  },
  {
   "cell_type": "code",
   "execution_count": 157,
   "metadata": {},
   "outputs": [
    {
     "data": {
      "text/plain": [
       "array([[136,  21],\n",
       "       [ 33,  78]], dtype=int64)"
      ]
     },
     "execution_count": 157,
     "metadata": {},
     "output_type": "execute_result"
    }
   ],
   "source": [
    "cm"
   ]
  },
  {
   "cell_type": "code",
   "execution_count": 158,
   "metadata": {},
   "outputs": [
    {
     "name": "stdout",
     "output_type": "stream",
     "text": [
      "              precision    recall  f1-score   support\n",
      "\n",
      "           0       0.80      0.87      0.83       157\n",
      "           1       0.79      0.70      0.74       111\n",
      "\n",
      "    accuracy                           0.80       268\n",
      "   macro avg       0.80      0.78      0.79       268\n",
      "weighted avg       0.80      0.80      0.80       268\n",
      "\n"
     ]
    }
   ],
   "source": [
    "print(classification_report(Y_test2,Y_pred.round()))"
   ]
  },
  {
   "cell_type": "markdown",
   "metadata": {},
   "source": [
    "### Using Decision Tree"
   ]
  },
  {
   "cell_type": "code",
   "execution_count": 159,
   "metadata": {},
   "outputs": [
    {
     "data": {
      "text/plain": [
       "87.96"
      ]
     },
     "execution_count": 159,
     "metadata": {},
     "output_type": "execute_result"
    }
   ],
   "source": [
    "dec_tree=DecisionTreeClassifier(max_depth=50,min_samples_split=2)\n",
    "dec_tree.fit(X_train2,Y_train2)\n",
    "Y_pred2=dec_tree.predict(X_test2)\n",
    "dec_acc=round(dec_tree.score(X_train2,Y_train2)*100,2)\n",
    "dec_acc"
   ]
  },
  {
   "cell_type": "code",
   "execution_count": 160,
   "metadata": {
    "scrolled": true
   },
   "outputs": [
    {
     "data": {
      "image/png": "[encoded data removed]",
      "text/plain": [
       "<Figure size 288x288 with 2 Axes>"
      ]
     },
     "metadata": {
      "needs_background": "light"
     },
     "output_type": "display_data"
    }
   ],
   "source": [
    "cm=confusion_matrix(Y_test2,Y_pred2.round())\n",
    "plt.matshow(cm)\n",
    "plt.title('Confusion matrix')\n",
    "plt.colorbar()\n",
    "plt.ylabel('True label')\n",
    "plt.xlabel('Predicted label')\n",
    "plt.show()"
   ]
  },
  {
   "cell_type": "code",
   "execution_count": 161,
   "metadata": {},
   "outputs": [
    {
     "data": {
      "text/plain": [
       "array([[126,  31],\n",
       "       [ 28,  83]], dtype=int64)"
      ]
     },
     "execution_count": 161,
     "metadata": {},
     "output_type": "execute_result"
    }
   ],
   "source": [
    "cm\n"
   ]
  },
  {
   "cell_type": "code",
   "execution_count": 162,
   "metadata": {},
   "outputs": [
    {
     "name": "stdout",
     "output_type": "stream",
     "text": [
      "              precision    recall  f1-score   support\n",
      "\n",
      "           0       0.82      0.80      0.81       157\n",
      "           1       0.73      0.75      0.74       111\n",
      "\n",
      "    accuracy                           0.78       268\n",
      "   macro avg       0.77      0.78      0.77       268\n",
      "weighted avg       0.78      0.78      0.78       268\n",
      "\n"
     ]
    }
   ],
   "source": [
    "print(classification_report(Y_test2,Y_pred2.round()))"
   ]
  },
  {
   "cell_type": "markdown",
   "metadata": {},
   "source": [
    "### Using Random Forest"
   ]
  },
  {
   "cell_type": "code",
   "execution_count": 163,
   "metadata": {},
   "outputs": [
    {
     "data": {
      "text/plain": [
       "87.96"
      ]
     },
     "execution_count": 163,
     "metadata": {},
     "output_type": "execute_result"
    }
   ],
   "source": [
    "rand_for=RandomForestClassifier(n_estimators=200,min_samples_leaf=1,min_samples_split=2)\n",
    "rand_for.fit(X_train2,Y_train2)\n",
    "Y_pred3=rand_for.predict(X_test2)\n",
    "rand_acc=round(rand_for.score(X_train2,Y_train2)*100,2)\n",
    "rand_acc"
   ]
  },
  {
   "cell_type": "code",
   "execution_count": 164,
   "metadata": {},
   "outputs": [
    {
     "data": {
      "image/png": "[encoded data removed]",
      "text/plain": [
       "<Figure size 288x288 with 2 Axes>"
      ]
     },
     "metadata": {
      "needs_background": "light"
     },
     "output_type": "display_data"
    }
   ],
   "source": [
    "cm=confusion_matrix(Y_test2,Y_pred3.round())\n",
    "plt.matshow(cm)\n",
    "plt.title('Confusion matrix')\n",
    "plt.colorbar()\n",
    "plt.ylabel('True label')\n",
    "plt.xlabel('Predicted label')\n",
    "plt.show()"
   ]
  },
  {
   "cell_type": "code",
   "execution_count": 165,
   "metadata": {},
   "outputs": [
    {
     "data": {
      "text/plain": [
       "array([[128,  29],\n",
       "       [ 29,  82]], dtype=int64)"
      ]
     },
     "execution_count": 165,
     "metadata": {},
     "output_type": "execute_result"
    }
   ],
   "source": [
    "cm"
   ]
  },
  {
   "cell_type": "code",
   "execution_count": 166,
   "metadata": {},
   "outputs": [
    {
     "name": "stdout",
     "output_type": "stream",
     "text": [
      "              precision    recall  f1-score   support\n",
      "\n",
      "           0       0.82      0.82      0.82       157\n",
      "           1       0.74      0.74      0.74       111\n",
      "\n",
      "    accuracy                           0.78       268\n",
      "   macro avg       0.78      0.78      0.78       268\n",
      "weighted avg       0.78      0.78      0.78       268\n",
      "\n"
     ]
    }
   ],
   "source": [
    "print(classification_report(Y_test2,Y_pred3.round()))"
   ]
  },
  {
   "cell_type": "code",
   "execution_count": 174,
   "metadata": {},
   "outputs": [],
   "source": [
    "from sklearn import svm"
   ]
  },
  {
   "cell_type": "code",
   "execution_count": 191,
   "metadata": {},
   "outputs": [
    {
     "name": "stderr",
     "output_type": "stream",
     "text": [
      "c:\\users\\omar\\appdata\\local\\programs\\python\\python35\\lib\\site-packages\\sklearn\\svm\\base.py:193: FutureWarning: The default value of gamma will change from 'auto' to 'scale' in version 0.22 to account better for unscaled features. Set gamma explicitly to 'auto' or 'scale' to avoid this warning.\n",
      "  \"avoid this warning.\", FutureWarning)\n"
     ]
    },
    {
     "data": {
      "text/plain": [
       "82.5"
      ]
     },
     "execution_count": 191,
     "metadata": {},
     "output_type": "execute_result"
    }
   ],
   "source": [
    "sv=svm.SVC()\n",
    "sv.fit(X_train2,Y_train2)\n",
    "Y_pred4=rand_for.predict(X_test2)\n",
    "svm_acc=round(sv.score(X_train2,Y_train2)*100,2)\n",
    "svm_acc"
   ]
  },
  {
   "cell_type": "code",
   "execution_count": null,
   "metadata": {},
   "outputs": [],
   "source": []
  },
  {
   "cell_type": "code",
   "execution_count": null,
   "metadata": {},
   "outputs": [],
   "source": []
  }
 ],
 "metadata": {
  "kernelspec": {
   "display_name": "Python 3",
   "language": "python",
   "name": "python3"
  },
  "language_info": {
   "codemirror_mode": {
    "name": "ipython",
    "version": 3
   },
   "file_extension": ".py",
   "mimetype": "text/x-python",
   "name": "python",
   "nbconvert_exporter": "python",
   "pygments_lexer": "ipython3",
   "version": "3.5.0"
  }
 },
 "nbformat": 4,
 "nbformat_minor": 2
}
